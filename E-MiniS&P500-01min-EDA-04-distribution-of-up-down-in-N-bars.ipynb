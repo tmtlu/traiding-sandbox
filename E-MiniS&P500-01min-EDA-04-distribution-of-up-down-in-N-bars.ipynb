{
 "cells": [
  {
   "cell_type": "markdown",
   "metadata": {},
   "source": [
    "# 仕掛け後の上昇値（高値）の分布と下落値（安値）の分布を可視化する\n",
    "仕掛け後長く保有するほど大きな上昇を捉えられる確率も損切に引っかかる確率も高くなる。この傾向のベースを測定しておくことで、特定の仕掛けを使った結果として上昇値の分布と下落値の分布がどう変わったかを評価できる。"
   ]
  },
  {
   "cell_type": "code",
   "execution_count": 1,
   "metadata": {},
   "outputs": [
    {
     "data": {
      "text/plain": [
       "'en_US.UTF-8'"
      ]
     },
     "execution_count": 1,
     "metadata": {},
     "output_type": "execute_result"
    }
   ],
   "source": [
    "%matplotlib inline\n",
    "\n",
    "import numpy as np\n",
    "import pandas as pd\n",
    "from pandas.api.types import CategoricalDtype\n",
    "import matplotlib as mpl\n",
    "import matplotlib.pyplot as plt\n",
    "import matplotlib.ticker as ticker\n",
    "import seaborn as sns\n",
    "import scipy\n",
    "import scipy.stats as st\n",
    "import statsmodels.stats.anova as anova\n",
    "from statsmodels.stats.multicomp import pairwise_tukeyhsd\n",
    "import datetime as dt\n",
    "from dateutil.relativedelta import relativedelta\n",
    "import locale\n",
    "from joblib import Parallel, delayed\n",
    "from functools import reduce\n",
    "\n",
    "import finalib as fl\n",
    "import finalib.mine as mi\n",
    "import ta\n",
    "\n",
    "# 月や曜日を英語で取得するためこの設定をしておく\n",
    "locale.setlocale(locale.LC_TIME, 'en_US.UTF-8')"
   ]
  },
  {
   "cell_type": "markdown",
   "metadata": {},
   "source": [
    "# データ読み込み"
   ]
  },
  {
   "cell_type": "code",
   "execution_count": 2,
   "metadata": {},
   "outputs": [],
   "source": [
    "# 生データ\n",
    "sp_dir = 'data/e-mini-sp500-200530'\n",
    "df_sp_raw = pd.read_csv(f'{sp_dir}/e-mini-sp500-01min.csv')\n",
    "\n",
    "# 月次データ（1年ごとの価格変化を見るため）|\n",
    "#df_spm_raw = pd.read_csv(f'{sp_dir}/e-mini-sp500-monthly.csv')"
   ]
  },
  {
   "cell_type": "markdown",
   "metadata": {},
   "source": [
    "# 分析用データ作成"
   ]
  },
  {
   "cell_type": "code",
   "execution_count": 3,
   "metadata": {},
   "outputs": [],
   "source": [
    "# 年の列を追加\n",
    "df_sp_raw['DT'] = (df_sp_raw['Date'] + '-' + df_sp_raw['Time']).map(lambda s: dt.datetime.strptime(s, '%m/%d/%Y-%H:%M'))\n",
    "df_sp_raw['year'] = df_sp_raw['DT'].map(lambda x: x.year)\n",
    "\n",
    "# 年の順序づけ\n",
    "min_year = df_sp_raw['year'].min()\n",
    "max_year = df_sp_raw['year'].max()\n",
    "year_type = CategoricalDtype(categories=[y for y in range(min_year, max_year+1)], ordered=True)\n",
    "df_sp_raw['year'] = df_sp_raw['year'].astype(year_type)"
   ]
  },
  {
   "cell_type": "code",
   "execution_count": 50,
   "metadata": {},
   "outputs": [],
   "source": [
    "df = df_sp_raw.copy()\n",
    "\n",
    "# 何足分まで見れるようにするか\n",
    "MAX_NBARS = 20\n",
    "df = fl.make_nbars_future(df, MAX_NBARS, cols=['High', 'Low'], datetime_col=None)"
   ]
  },
  {
   "cell_type": "markdown",
   "metadata": {},
   "source": [
    "# 全期間で、N足後までの高値と安値それぞれの分布\n",
    "高値と安値そのままの値ではなく、仕掛け足始値からの差分の割合の分布"
   ]
  },
  {
   "cell_type": "code",
   "execution_count": 51,
   "metadata": {},
   "outputs": [],
   "source": [
    "#######################################################################\n",
    "# 全データだと処理コストが高すぎるから少量のデータを使う\n",
    "#######################################################################\n",
    "df = df[5000000:5200000].reset_index()"
   ]
  },
  {
   "cell_type": "code",
   "execution_count": 52,
   "metadata": {},
   "outputs": [
    {
     "name": "stdout",
     "output_type": "stream",
     "text": [
      "0\n",
      "1\n",
      "2\n",
      "3\n",
      "4\n",
      "5\n",
      "6\n",
      "7\n",
      "8\n",
      "9\n",
      "10\n",
      "11\n",
      "12\n",
      "13\n",
      "14\n",
      "15\n",
      "16\n",
      "17\n",
      "18\n",
      "19\n",
      "20\n"
     ]
    }
   ],
   "source": [
    "for n in range(MAX_NBARS+1):\n",
    "    print(n)\n",
    "    df[f'HODiff{n}'] = df[f'High{n}'] - df['Open']\n",
    "    df[f'MostUp{n}'] = df[[f'HODiff{i}' for i in range(n+1)]].max(axis=1)\n",
    "    df[f'MostUpR{n}'] = df[f'MostUp{n}'] / df['Open']\n",
    "    df[f'LODiff{n}'] = df[f'Low{n}'] - df['Open']\n",
    "    df[f'MostDown{n}'] = df[[f'LODiff{i}' for i in range(n+1)]].min(axis=1)\n",
    "    df[f'MostDownR{n}'] = df[f'MostDown{n}'] / df['Open']"
   ]
  },
  {
   "cell_type": "code",
   "execution_count": 46,
   "metadata": {},
   "outputs": [
    {
     "data": {
      "text/plain": [
       "(100000, 97)"
      ]
     },
     "execution_count": 46,
     "metadata": {},
     "output_type": "execute_result"
    }
   ],
   "source": [
    "df.shape"
   ]
  },
  {
   "cell_type": "code",
   "execution_count": 47,
   "metadata": {},
   "outputs": [
    {
     "data": {
      "text/plain": [
       "0    2\n",
       "1    3\n",
       "2    4\n",
       "dtype: int64"
      ]
     },
     "execution_count": 47,
     "metadata": {},
     "output_type": "execute_result"
    }
   ],
   "source": [
    "a = pd.DataFrame({'a':[1,2,3],'b':[2,3,4],'c':[-1,-2,-3]})\n",
    "a[['a','b','c']].max(axis=1)"
   ]
  },
  {
   "cell_type": "code",
   "execution_count": 53,
   "metadata": {},
   "outputs": [],
   "source": [
    "df_for_plot = pd.DataFrame(columns=['MostUpR', 'MostDownR', 'NBars'])\n",
    "for n in range(MAX_NBARS+1):\n",
    "    df_tmp = df[[f'MostUpR{n}', f'MostDownR{n}']]\n",
    "    df_tmp = df_tmp.rename(columns={f'MostUpR{n}': 'MostUpR', f'MostDownR{n}': 'MostDownR'})\n",
    "    df_tmp['NBars'] = n\n",
    "    df_for_plot = pd.concat([df_for_plot, df_tmp])\n",
    "\n",
    "df_for_plot = df_for_plot.reset_index()"
   ]
  },
  {
   "cell_type": "code",
   "execution_count": 54,
   "metadata": {},
   "outputs": [
    {
     "data": {
      "text/plain": [
       "<matplotlib.axes._subplots.AxesSubplot at 0x7f823da9f310>"
      ]
     },
     "execution_count": 54,
     "metadata": {},
     "output_type": "execute_result"
    },
    {
     "data": {
      "image/png": "[encoded data removed]",
      "text/plain": [
       "<Figure size 1440x432 with 2 Axes>"
      ]
     },
     "metadata": {
      "needs_background": "light"
     },
     "output_type": "display_data"
    }
   ],
   "source": [
    "fig, ax = plt.subplots(1, 2, figsize=(20, 6))\n",
    "sns.boxplot('NBars', 'MostUpR', data=df_for_plot, ax=ax[0])\n",
    "sns.boxplot('NBars', 'MostDownR', data=df_for_plot, ax=ax[1])"
   ]
  },
  {
   "cell_type": "code",
   "execution_count": null,
   "metadata": {},
   "outputs": [],
   "source": []
  }
 ],
 "metadata": {
  "kernelspec": {
   "display_name": "Python 3",
   "language": "python",
   "name": "python3"
  },
  "language_info": {
   "codemirror_mode": {
    "name": "ipython",
    "version": 3
   },
   "file_extension": ".py",
   "mimetype": "text/x-python",
   "name": "python",
   "nbconvert_exporter": "python",
   "pygments_lexer": "ipython3",
   "version": "3.8.2"
  }
 },
 "nbformat": 4,
 "nbformat_minor": 4
}
