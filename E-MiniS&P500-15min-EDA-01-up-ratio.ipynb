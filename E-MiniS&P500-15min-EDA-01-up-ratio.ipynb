{
 "cells": [
  {
   "cell_type": "markdown",
   "metadata": {},
   "source": [
    "# 15分足データの基本分析\n",
    "\n",
    "- 上昇確率\n",
    "\n",
    "## 結果・考察\n",
    "- 15分足では、全体での上昇確率43%、不変確率16%、下落確率42%\n",
    "    - 1分足では不変確率が39%と高かったが時間枠が伸びるほど不変確率は下がる。\n",
    "- 1年毎で見ると、2003～2006は値動きが小さかったようだがそれ以外の期間では上昇確率は40%以上になっている。\n",
    "    - 戦略のバックテストの時に、特に値動きの小さい2004～2006または2005の一年間はレンジ相場の代表として使えるかもしれない。"
   ]
  },
  {
   "cell_type": "code",
   "execution_count": 1,
   "metadata": {},
   "outputs": [
    {
     "data": {
      "text/plain": [
       "'en_US.UTF-8'"
      ]
     },
     "execution_count": 1,
     "metadata": {},
     "output_type": "execute_result"
    }
   ],
   "source": [
    "%matplotlib inline\n",
    "\n",
    "import numpy as np\n",
    "import pandas as pd\n",
    "from pandas.api.types import CategoricalDtype\n",
    "import matplotlib as mpl\n",
    "import matplotlib.pyplot as plt\n",
    "import matplotlib.ticker as ticker\n",
    "import seaborn as sns\n",
    "import scipy\n",
    "import scipy.stats as st\n",
    "import statsmodels.stats.anova as anova\n",
    "from statsmodels.stats.multicomp import pairwise_tukeyhsd\n",
    "import datetime as dt\n",
    "from dateutil.relativedelta import relativedelta\n",
    "import locale\n",
    "from joblib import Parallel, delayed\n",
    "from functools import reduce\n",
    "\n",
    "import finalib as fl\n",
    "import finalib.mine as mi\n",
    "import ta\n",
    "\n",
    "# 月や曜日を英語で取得するためこの設定をしておく\n",
    "locale.setlocale(locale.LC_TIME, 'en_US.UTF-8')"
   ]
  },
  {
   "cell_type": "markdown",
   "metadata": {},
   "source": [
    "# データ読み込み"
   ]
  },
  {
   "cell_type": "code",
   "execution_count": 26,
   "metadata": {},
   "outputs": [],
   "source": [
    "# 生データ\n",
    "sp_dir = 'data/e-mini-sp500-200530'\n",
    "df_sp_raw = pd.read_csv(f'{sp_dir}/e-mini-sp500-15min.csv')\n",
    "\n",
    "# 月次データ（1年ごとの価格変化を見るため）\n",
    "#df_spm_raw = pd.read_csv(f'{sp_dir}/e-mini-sp500-monthly.csv')"
   ]
  },
  {
   "cell_type": "code",
   "execution_count": 47,
   "metadata": {},
   "outputs": [],
   "source": [
    "# 月次データ（1年ごとの価格変化を見るため）\n",
    "df_spm_raw = pd.read_csv(f'{sp_dir}/e-mini-sp500-monthly.csv')"
   ]
  },
  {
   "cell_type": "code",
   "execution_count": 27,
   "metadata": {},
   "outputs": [
    {
     "data": {
      "text/html": [
       "<div>\n",
       "<style scoped>\n",
       "    .dataframe tbody tr th:only-of-type {\n",
       "        vertical-align: middle;\n",
       "    }\n",
       "\n",
       "    .dataframe tbody tr th {\n",
       "        vertical-align: top;\n",
       "    }\n",
       "\n",
       "    .dataframe thead th {\n",
       "        text-align: right;\n",
       "    }\n",
       "</style>\n",
       "<table border=\"1\" class=\"dataframe\">\n",
       "  <thead>\n",
       "    <tr style=\"text-align: right;\">\n",
       "      <th></th>\n",
       "      <th>Date</th>\n",
       "      <th>Time</th>\n",
       "      <th>Open</th>\n",
       "      <th>High</th>\n",
       "      <th>Low</th>\n",
       "      <th>Close</th>\n",
       "      <th>Up</th>\n",
       "      <th>Down</th>\n",
       "    </tr>\n",
       "  </thead>\n",
       "  <tbody>\n",
       "    <tr>\n",
       "      <th>0</th>\n",
       "      <td>09/11/1997</td>\n",
       "      <td>04:45</td>\n",
       "      <td>1082.25</td>\n",
       "      <td>1082.25</td>\n",
       "      <td>1079.75</td>\n",
       "      <td>1079.75</td>\n",
       "      <td>5</td>\n",
       "      <td>0</td>\n",
       "    </tr>\n",
       "    <tr>\n",
       "      <th>1</th>\n",
       "      <td>09/11/1997</td>\n",
       "      <td>06:00</td>\n",
       "      <td>1079.25</td>\n",
       "      <td>1079.25</td>\n",
       "      <td>1079.25</td>\n",
       "      <td>1079.25</td>\n",
       "      <td>1</td>\n",
       "      <td>0</td>\n",
       "    </tr>\n",
       "  </tbody>\n",
       "</table>\n",
       "</div>"
      ],
      "text/plain": [
       "         Date   Time     Open     High      Low    Close  Up  Down\n",
       "0  09/11/1997  04:45  1082.25  1082.25  1079.75  1079.75   5     0\n",
       "1  09/11/1997  06:00  1079.25  1079.25  1079.25  1079.25   1     0"
      ]
     },
     "execution_count": 27,
     "metadata": {},
     "output_type": "execute_result"
    }
   ],
   "source": [
    "df_sp_raw.head(2)"
   ]
  },
  {
   "cell_type": "code",
   "execution_count": 28,
   "metadata": {},
   "outputs": [
    {
     "data": {
      "text/html": [
       "<div>\n",
       "<style scoped>\n",
       "    .dataframe tbody tr th:only-of-type {\n",
       "        vertical-align: middle;\n",
       "    }\n",
       "\n",
       "    .dataframe tbody tr th {\n",
       "        vertical-align: top;\n",
       "    }\n",
       "\n",
       "    .dataframe thead th {\n",
       "        text-align: right;\n",
       "    }\n",
       "</style>\n",
       "<table border=\"1\" class=\"dataframe\">\n",
       "  <thead>\n",
       "    <tr style=\"text-align: right;\">\n",
       "      <th></th>\n",
       "      <th>Date</th>\n",
       "      <th>Time</th>\n",
       "      <th>Open</th>\n",
       "      <th>High</th>\n",
       "      <th>Low</th>\n",
       "      <th>Close</th>\n",
       "      <th>Up</th>\n",
       "      <th>Down</th>\n",
       "    </tr>\n",
       "  </thead>\n",
       "  <tbody>\n",
       "    <tr>\n",
       "      <th>494261</th>\n",
       "      <td>05/29/2020</td>\n",
       "      <td>16:45</td>\n",
       "      <td>3053.00</td>\n",
       "      <td>3058.25</td>\n",
       "      <td>3051.00</td>\n",
       "      <td>3056.50</td>\n",
       "      <td>4965</td>\n",
       "      <td>5882</td>\n",
       "    </tr>\n",
       "    <tr>\n",
       "      <th>494262</th>\n",
       "      <td>05/29/2020</td>\n",
       "      <td>17:00</td>\n",
       "      <td>3056.25</td>\n",
       "      <td>3058.00</td>\n",
       "      <td>3055.25</td>\n",
       "      <td>3057.25</td>\n",
       "      <td>2729</td>\n",
       "      <td>2808</td>\n",
       "    </tr>\n",
       "  </tbody>\n",
       "</table>\n",
       "</div>"
      ],
      "text/plain": [
       "              Date   Time     Open     High      Low    Close    Up  Down\n",
       "494261  05/29/2020  16:45  3053.00  3058.25  3051.00  3056.50  4965  5882\n",
       "494262  05/29/2020  17:00  3056.25  3058.00  3055.25  3057.25  2729  2808"
      ]
     },
     "execution_count": 28,
     "metadata": {},
     "output_type": "execute_result"
    }
   ],
   "source": [
    "df_sp_raw.tail(2)"
   ]
  },
  {
   "cell_type": "markdown",
   "metadata": {},
   "source": [
    "# 分析用データ作成"
   ]
  },
  {
   "cell_type": "code",
   "execution_count": 45,
   "metadata": {},
   "outputs": [],
   "source": [
    "df = df_sp_raw.copy()\n",
    "\n",
    "# DateTime列を追加\n",
    "df['DT'] = (df['Date'] + '-' + df['Time']).map(lambda s: dt.datetime.strptime(s, '%m/%d/%Y-%H:%M'))\n",
    "\n",
    "# 値動き（終値 - 始値）列を追加\n",
    "df['CODiff'] = df['Close'] - df['Open']\n",
    "\n",
    "# 年の列を追加\n",
    "df['year'] = df['DT'].map(lambda d: d.year)\n",
    "\n",
    "# 年の順序付け\n",
    "year_type = CategoricalDtype(categories=range(df['year'].min(), df['year'].max()+1), ordered=True)\n",
    "df['year'] = df['year'].astype(year_type)"
   ]
  },
  {
   "cell_type": "code",
   "execution_count": 46,
   "metadata": {},
   "outputs": [],
   "source": [
    "# 上昇、不変、下落\n",
    "df['isUp'] = df['CODiff'] > 0\n",
    "df['isFlat'] = df['CODiff'] == 0\n",
    "df['isDown'] = df['CODiff'] < 0"
   ]
  },
  {
   "cell_type": "markdown",
   "metadata": {},
   "source": [
    "### 年次データの作成（月次データを1年ごとに平均する）"
   ]
  },
  {
   "cell_type": "code",
   "execution_count": 51,
   "metadata": {},
   "outputs": [],
   "source": [
    "dfm = df_spm_raw.copy()\n",
    "dfm['DT'] = (dfm['Date'] + '-' + dfm['Time']).map(lambda s: dt.datetime.strptime(s, '%m/%d/%Y-%H:%M'))\n",
    "dfm['year'] = dfm['DT'].map(lambda x: x.year)\n",
    "\n",
    "dfm_by_year = dfm.groupby('year').mean()"
   ]
  },
  {
   "cell_type": "markdown",
   "metadata": {},
   "source": [
    "# 全期間での15分足データの上昇確率"
   ]
  },
  {
   "cell_type": "code",
   "execution_count": 53,
   "metadata": {},
   "outputs": [
    {
     "name": "stdout",
     "output_type": "stream",
     "text": [
      "P(UP) = 211672 / 494263 = 42.8257830345383%\n",
      "P(FLAT) = 76762 / 494263 = 15.530598082397429%\n",
      "P(DOWN) = 205829 / 494263 = 41.643618883064285%\n"
     ]
    },
    {
     "data": {
      "text/plain": [
       "True"
      ]
     },
     "execution_count": 53,
     "metadata": {},
     "output_type": "execute_result"
    }
   ],
   "source": [
    "print(f\"P(UP) = {df['isUp'].sum()} / {df.shape[0]} = {df['isUp'].sum() / df.shape[0] * 100}%\")\n",
    "print(f\"P(FLAT) = {df['isFlat'].sum()} / {df.shape[0]} = {df['isFlat'].sum() / df.shape[0] * 100}%\")\n",
    "print(f\"P(DOWN) = {df['isDown'].sum()} / {df.shape[0]} = {df['isDown'].sum() / df.shape[0] * 100}%\")\n",
    "df['isUp'].sum() + df['isFlat'].sum() + df['isDown'].sum() == df.shape[0]"
   ]
  },
  {
   "cell_type": "markdown",
   "metadata": {},
   "source": [
    "# 1年ごとの上昇確率推移"
   ]
  },
  {
   "cell_type": "code",
   "execution_count": 54,
   "metadata": {},
   "outputs": [
    {
     "data": {
      "text/plain": [
       "<matplotlib.axes._subplots.AxesSubplot at 0x7fcb15502730>"
      ]
     },
     "execution_count": 54,
     "metadata": {},
     "output_type": "execute_result"
    },
    {
     "data": {
      "image/png": "[encoded data removed]",
      "text/plain": [
       "<Figure size 1440x720 with 2 Axes>"
      ]
     },
     "metadata": {
      "needs_background": "light"
     },
     "output_type": "display_data"
    }
   ],
   "source": [
    "df_by_year = df.groupby('year')[['isUp', 'isFlat', 'isDown']].sum()\n",
    "fig, ax = plt.subplots(2, 1, figsize=(20, 10))\n",
    "sns.pointplot(dfm_by_year.index, dfm_by_year['Close'], scale=0.5, ax=ax[0])\n",
    "sns.pointplot(df_by_year.index, df_by_year['isUp'] / df['year'].value_counts().sort_index(), scale=0.5, ax=ax[1])\n",
    "sns.pointplot(df_by_year.index, df_by_year['isFlat'] / df['year'].value_counts().sort_index(), scale=0.5, ax=ax[1], color='darkorange')\n",
    "sns.pointplot(df_by_year.index, df_by_year['isDown'] / df['year'].value_counts().sort_index(), scale=0.5, ax=ax[1], color='deeppink')"
   ]
  },
  {
   "cell_type": "code",
   "execution_count": 60,
   "metadata": {},
   "outputs": [
    {
     "data": {
      "text/html": [
       "<div>\n",
       "<style scoped>\n",
       "    .dataframe tbody tr th:only-of-type {\n",
       "        vertical-align: middle;\n",
       "    }\n",
       "\n",
       "    .dataframe tbody tr th {\n",
       "        vertical-align: top;\n",
       "    }\n",
       "\n",
       "    .dataframe thead th {\n",
       "        text-align: right;\n",
       "    }\n",
       "</style>\n",
       "<table border=\"1\" class=\"dataframe\">\n",
       "  <thead>\n",
       "    <tr style=\"text-align: right;\">\n",
       "      <th></th>\n",
       "      <th>isUp</th>\n",
       "      <th>isFlat</th>\n",
       "      <th>isDown</th>\n",
       "    </tr>\n",
       "    <tr>\n",
       "      <th>year</th>\n",
       "      <th></th>\n",
       "      <th></th>\n",
       "      <th></th>\n",
       "    </tr>\n",
       "  </thead>\n",
       "  <tbody>\n",
       "    <tr>\n",
       "      <th>1997</th>\n",
       "      <td>1718.0</td>\n",
       "      <td>833.0</td>\n",
       "      <td>1639.0</td>\n",
       "    </tr>\n",
       "    <tr>\n",
       "      <th>1998</th>\n",
       "      <td>6184.0</td>\n",
       "      <td>2299.0</td>\n",
       "      <td>6077.0</td>\n",
       "    </tr>\n",
       "    <tr>\n",
       "      <th>1999</th>\n",
       "      <td>6557.0</td>\n",
       "      <td>2053.0</td>\n",
       "      <td>6295.0</td>\n",
       "    </tr>\n",
       "    <tr>\n",
       "      <th>2000</th>\n",
       "      <td>6506.0</td>\n",
       "      <td>1957.0</td>\n",
       "      <td>6518.0</td>\n",
       "    </tr>\n",
       "    <tr>\n",
       "      <th>2001</th>\n",
       "      <td>8017.0</td>\n",
       "      <td>2934.0</td>\n",
       "      <td>8065.0</td>\n",
       "    </tr>\n",
       "    <tr>\n",
       "      <th>2002</th>\n",
       "      <td>8963.0</td>\n",
       "      <td>3810.0</td>\n",
       "      <td>8991.0</td>\n",
       "    </tr>\n",
       "    <tr>\n",
       "      <th>2003</th>\n",
       "      <td>9003.0</td>\n",
       "      <td>4632.0</td>\n",
       "      <td>8682.0</td>\n",
       "    </tr>\n",
       "    <tr>\n",
       "      <th>2004</th>\n",
       "      <td>8729.0</td>\n",
       "      <td>6188.0</td>\n",
       "      <td>8472.0</td>\n",
       "    </tr>\n",
       "    <tr>\n",
       "      <th>2005</th>\n",
       "      <td>8460.0</td>\n",
       "      <td>6656.0</td>\n",
       "      <td>8261.0</td>\n",
       "    </tr>\n",
       "    <tr>\n",
       "      <th>2006</th>\n",
       "      <td>8622.0</td>\n",
       "      <td>6204.0</td>\n",
       "      <td>8367.0</td>\n",
       "    </tr>\n",
       "    <tr>\n",
       "      <th>2007</th>\n",
       "      <td>9576.0</td>\n",
       "      <td>4312.0</td>\n",
       "      <td>9369.0</td>\n",
       "    </tr>\n",
       "    <tr>\n",
       "      <th>2008</th>\n",
       "      <td>10383.0</td>\n",
       "      <td>2431.0</td>\n",
       "      <td>10532.0</td>\n",
       "    </tr>\n",
       "    <tr>\n",
       "      <th>2009</th>\n",
       "      <td>10432.0</td>\n",
       "      <td>2892.0</td>\n",
       "      <td>10033.0</td>\n",
       "    </tr>\n",
       "    <tr>\n",
       "      <th>2010</th>\n",
       "      <td>10216.0</td>\n",
       "      <td>3351.0</td>\n",
       "      <td>9800.0</td>\n",
       "    </tr>\n",
       "    <tr>\n",
       "      <th>2011</th>\n",
       "      <td>10393.0</td>\n",
       "      <td>2611.0</td>\n",
       "      <td>10248.0</td>\n",
       "    </tr>\n",
       "    <tr>\n",
       "      <th>2012</th>\n",
       "      <td>10047.0</td>\n",
       "      <td>3235.0</td>\n",
       "      <td>9917.0</td>\n",
       "    </tr>\n",
       "    <tr>\n",
       "      <th>2013</th>\n",
       "      <td>9973.0</td>\n",
       "      <td>3555.0</td>\n",
       "      <td>9338.0</td>\n",
       "    </tr>\n",
       "    <tr>\n",
       "      <th>2014</th>\n",
       "      <td>10110.0</td>\n",
       "      <td>3498.0</td>\n",
       "      <td>9723.0</td>\n",
       "    </tr>\n",
       "    <tr>\n",
       "      <th>2015</th>\n",
       "      <td>10427.0</td>\n",
       "      <td>2684.0</td>\n",
       "      <td>10351.0</td>\n",
       "    </tr>\n",
       "    <tr>\n",
       "      <th>2016</th>\n",
       "      <td>10501.0</td>\n",
       "      <td>2641.0</td>\n",
       "      <td>10295.0</td>\n",
       "    </tr>\n",
       "    <tr>\n",
       "      <th>2017</th>\n",
       "      <td>10164.0</td>\n",
       "      <td>3625.0</td>\n",
       "      <td>9549.0</td>\n",
       "    </tr>\n",
       "    <tr>\n",
       "      <th>2018</th>\n",
       "      <td>10994.0</td>\n",
       "      <td>1857.0</td>\n",
       "      <td>10518.0</td>\n",
       "    </tr>\n",
       "    <tr>\n",
       "      <th>2019</th>\n",
       "      <td>11047.0</td>\n",
       "      <td>1976.0</td>\n",
       "      <td>10352.0</td>\n",
       "    </tr>\n",
       "    <tr>\n",
       "      <th>2020</th>\n",
       "      <td>4650.0</td>\n",
       "      <td>528.0</td>\n",
       "      <td>4437.0</td>\n",
       "    </tr>\n",
       "  </tbody>\n",
       "</table>\n",
       "</div>"
      ],
      "text/plain": [
       "         isUp  isFlat   isDown\n",
       "year                          \n",
       "1997   1718.0   833.0   1639.0\n",
       "1998   6184.0  2299.0   6077.0\n",
       "1999   6557.0  2053.0   6295.0\n",
       "2000   6506.0  1957.0   6518.0\n",
       "2001   8017.0  2934.0   8065.0\n",
       "2002   8963.0  3810.0   8991.0\n",
       "2003   9003.0  4632.0   8682.0\n",
       "2004   8729.0  6188.0   8472.0\n",
       "2005   8460.0  6656.0   8261.0\n",
       "2006   8622.0  6204.0   8367.0\n",
       "2007   9576.0  4312.0   9369.0\n",
       "2008  10383.0  2431.0  10532.0\n",
       "2009  10432.0  2892.0  10033.0\n",
       "2010  10216.0  3351.0   9800.0\n",
       "2011  10393.0  2611.0  10248.0\n",
       "2012  10047.0  3235.0   9917.0\n",
       "2013   9973.0  3555.0   9338.0\n",
       "2014  10110.0  3498.0   9723.0\n",
       "2015  10427.0  2684.0  10351.0\n",
       "2016  10501.0  2641.0  10295.0\n",
       "2017  10164.0  3625.0   9549.0\n",
       "2018  10994.0  1857.0  10518.0\n",
       "2019  11047.0  1976.0  10352.0\n",
       "2020   4650.0   528.0   4437.0"
      ]
     },
     "execution_count": 60,
     "metadata": {},
     "output_type": "execute_result"
    }
   ],
   "source": []
  },
  {
   "cell_type": "code",
   "execution_count": null,
   "metadata": {},
   "outputs": [],
   "source": []
  }
 ],
 "metadata": {
  "kernelspec": {
   "display_name": "Python 3",
   "language": "python",
   "name": "python3"
  },
  "language_info": {
   "codemirror_mode": {
    "name": "ipython",
    "version": 3
   },
   "file_extension": ".py",
   "mimetype": "text/x-python",
   "name": "python",
   "nbconvert_exporter": "python",
   "pygments_lexer": "ipython3",
   "version": "3.8.2"
  }
 },
 "nbformat": 4,
 "nbformat_minor": 4
}
