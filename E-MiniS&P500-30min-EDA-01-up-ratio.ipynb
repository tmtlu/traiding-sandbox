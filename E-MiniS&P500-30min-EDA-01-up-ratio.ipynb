{
 "cells": [
  {
   "cell_type": "markdown",
   "metadata": {},
   "source": [
    "# 15分足データの基本分析\n",
    "\n",
    "- 上昇確率\n",
    "\n",
    "## 結果・考察\n",
    "- 30分足では、全体での上昇確率46%、不変確率11%、下落確率44%\n",
    "    - 15分足よりもう少し不変確率が下がった。\n",
    "- 1年毎で見ると、15分足と同様に2003～2006は値動きが小さい。"
   ]
  },
  {
   "cell_type": "code",
   "execution_count": 1,
   "metadata": {},
   "outputs": [
    {
     "data": {
      "text/plain": [
       "'en_US.UTF-8'"
      ]
     },
     "execution_count": 1,
     "metadata": {},
     "output_type": "execute_result"
    }
   ],
   "source": [
    "%matplotlib inline\n",
    "\n",
    "import numpy as np\n",
    "import pandas as pd\n",
    "from pandas.api.types import CategoricalDtype\n",
    "import matplotlib as mpl\n",
    "import matplotlib.pyplot as plt\n",
    "import matplotlib.ticker as ticker\n",
    "import seaborn as sns\n",
    "import scipy\n",
    "import scipy.stats as st\n",
    "import statsmodels.stats.anova as anova\n",
    "from statsmodels.stats.multicomp import pairwise_tukeyhsd\n",
    "import datetime as dt\n",
    "from dateutil.relativedelta import relativedelta\n",
    "import locale\n",
    "from joblib import Parallel, delayed\n",
    "from functools import reduce\n",
    "\n",
    "import finalib as fl\n",
    "import finalib.mine as mi\n",
    "import ta\n",
    "\n",
    "# 月や曜日を英語で取得するためこの設定をしておく\n",
    "locale.setlocale(locale.LC_TIME, 'en_US.UTF-8')"
   ]
  },
  {
   "cell_type": "markdown",
   "metadata": {},
   "source": [
    "# データ読み込み"
   ]
  },
  {
   "cell_type": "code",
   "execution_count": 4,
   "metadata": {},
   "outputs": [],
   "source": [
    "# 生データ\n",
    "sp_dir = 'data/e-mini-sp500-200530'\n",
    "df_sp_raw = pd.read_csv(f'{sp_dir}/e-mini-sp500-30min.csv')\n",
    "\n",
    "# 月次データ（1年ごとの価格変化を見るため）\n",
    "df_spm_raw = pd.read_csv(f'{sp_dir}/e-mini-sp500-monthly.csv')"
   ]
  },
  {
   "cell_type": "code",
   "execution_count": 6,
   "metadata": {},
   "outputs": [
    {
     "data": {
      "text/html": [
       "<div>\n",
       "<style scoped>\n",
       "    .dataframe tbody tr th:only-of-type {\n",
       "        vertical-align: middle;\n",
       "    }\n",
       "\n",
       "    .dataframe tbody tr th {\n",
       "        vertical-align: top;\n",
       "    }\n",
       "\n",
       "    .dataframe thead th {\n",
       "        text-align: right;\n",
       "    }\n",
       "</style>\n",
       "<table border=\"1\" class=\"dataframe\">\n",
       "  <thead>\n",
       "    <tr style=\"text-align: right;\">\n",
       "      <th></th>\n",
       "      <th>Date</th>\n",
       "      <th>Time</th>\n",
       "      <th>Open</th>\n",
       "      <th>High</th>\n",
       "      <th>Low</th>\n",
       "      <th>Close</th>\n",
       "      <th>Up</th>\n",
       "      <th>Down</th>\n",
       "      <th>FastAvg</th>\n",
       "      <th>SlowAvg</th>\n",
       "    </tr>\n",
       "  </thead>\n",
       "  <tbody>\n",
       "    <tr>\n",
       "      <th>0</th>\n",
       "      <td>09/11/1997</td>\n",
       "      <td>05:00</td>\n",
       "      <td>1071.75</td>\n",
       "      <td>1071.75</td>\n",
       "      <td>1069.25</td>\n",
       "      <td>1069.25</td>\n",
       "      <td>5</td>\n",
       "      <td>0</td>\n",
       "      <td>0.00</td>\n",
       "      <td>0.00</td>\n",
       "    </tr>\n",
       "    <tr>\n",
       "      <th>1</th>\n",
       "      <td>09/11/1997</td>\n",
       "      <td>06:00</td>\n",
       "      <td>1068.75</td>\n",
       "      <td>1068.75</td>\n",
       "      <td>1068.75</td>\n",
       "      <td>1068.75</td>\n",
       "      <td>1</td>\n",
       "      <td>0</td>\n",
       "      <td>0.00</td>\n",
       "      <td>0.00</td>\n",
       "    </tr>\n",
       "    <tr>\n",
       "      <th>2</th>\n",
       "      <td>09/11/1997</td>\n",
       "      <td>08:30</td>\n",
       "      <td>1068.25</td>\n",
       "      <td>1068.25</td>\n",
       "      <td>1066.50</td>\n",
       "      <td>1066.50</td>\n",
       "      <td>13</td>\n",
       "      <td>0</td>\n",
       "      <td>0.00</td>\n",
       "      <td>0.00</td>\n",
       "    </tr>\n",
       "    <tr>\n",
       "      <th>3</th>\n",
       "      <td>09/11/1997</td>\n",
       "      <td>09:00</td>\n",
       "      <td>1066.00</td>\n",
       "      <td>1066.50</td>\n",
       "      <td>1063.00</td>\n",
       "      <td>1064.25</td>\n",
       "      <td>43</td>\n",
       "      <td>0</td>\n",
       "      <td>0.00</td>\n",
       "      <td>0.00</td>\n",
       "    </tr>\n",
       "    <tr>\n",
       "      <th>4</th>\n",
       "      <td>09/11/1997</td>\n",
       "      <td>09:30</td>\n",
       "      <td>1065.25</td>\n",
       "      <td>1067.00</td>\n",
       "      <td>1064.25</td>\n",
       "      <td>1067.00</td>\n",
       "      <td>28</td>\n",
       "      <td>0</td>\n",
       "      <td>0.00</td>\n",
       "      <td>0.00</td>\n",
       "    </tr>\n",
       "    <tr>\n",
       "      <th>...</th>\n",
       "      <td>...</td>\n",
       "      <td>...</td>\n",
       "      <td>...</td>\n",
       "      <td>...</td>\n",
       "      <td>...</td>\n",
       "      <td>...</td>\n",
       "      <td>...</td>\n",
       "      <td>...</td>\n",
       "      <td>...</td>\n",
       "      <td>...</td>\n",
       "    </tr>\n",
       "    <tr>\n",
       "      <th>252580</th>\n",
       "      <td>08/13/2020</td>\n",
       "      <td>18:30</td>\n",
       "      <td>3368.75</td>\n",
       "      <td>3372.00</td>\n",
       "      <td>3368.50</td>\n",
       "      <td>3370.25</td>\n",
       "      <td>1117</td>\n",
       "      <td>1166</td>\n",
       "      <td>3369.00</td>\n",
       "      <td>3369.61</td>\n",
       "    </tr>\n",
       "    <tr>\n",
       "      <th>252581</th>\n",
       "      <td>08/13/2020</td>\n",
       "      <td>19:00</td>\n",
       "      <td>3370.25</td>\n",
       "      <td>3373.25</td>\n",
       "      <td>3370.25</td>\n",
       "      <td>3372.50</td>\n",
       "      <td>1154</td>\n",
       "      <td>746</td>\n",
       "      <td>3370.75</td>\n",
       "      <td>3369.31</td>\n",
       "    </tr>\n",
       "    <tr>\n",
       "      <th>252582</th>\n",
       "      <td>08/13/2020</td>\n",
       "      <td>19:30</td>\n",
       "      <td>3372.50</td>\n",
       "      <td>3376.00</td>\n",
       "      <td>3372.50</td>\n",
       "      <td>3375.00</td>\n",
       "      <td>2052</td>\n",
       "      <td>1320</td>\n",
       "      <td>3372.58</td>\n",
       "      <td>3369.28</td>\n",
       "    </tr>\n",
       "    <tr>\n",
       "      <th>252583</th>\n",
       "      <td>08/13/2020</td>\n",
       "      <td>20:00</td>\n",
       "      <td>3374.75</td>\n",
       "      <td>3377.25</td>\n",
       "      <td>3374.50</td>\n",
       "      <td>3375.75</td>\n",
       "      <td>1961</td>\n",
       "      <td>1851</td>\n",
       "      <td>3374.42</td>\n",
       "      <td>3370.11</td>\n",
       "    </tr>\n",
       "    <tr>\n",
       "      <th>252584</th>\n",
       "      <td>08/13/2020</td>\n",
       "      <td>20:30</td>\n",
       "      <td>3375.75</td>\n",
       "      <td>3377.00</td>\n",
       "      <td>3373.50</td>\n",
       "      <td>3376.50</td>\n",
       "      <td>1165</td>\n",
       "      <td>1279</td>\n",
       "      <td>3375.75</td>\n",
       "      <td>3371.72</td>\n",
       "    </tr>\n",
       "  </tbody>\n",
       "</table>\n",
       "<p>252585 rows × 10 columns</p>\n",
       "</div>"
      ],
      "text/plain": [
       "              Date   Time     Open     High      Low    Close    Up  Down  \\\n",
       "0       09/11/1997  05:00  1071.75  1071.75  1069.25  1069.25     5     0   \n",
       "1       09/11/1997  06:00  1068.75  1068.75  1068.75  1068.75     1     0   \n",
       "2       09/11/1997  08:30  1068.25  1068.25  1066.50  1066.50    13     0   \n",
       "3       09/11/1997  09:00  1066.00  1066.50  1063.00  1064.25    43     0   \n",
       "4       09/11/1997  09:30  1065.25  1067.00  1064.25  1067.00    28     0   \n",
       "...            ...    ...      ...      ...      ...      ...   ...   ...   \n",
       "252580  08/13/2020  18:30  3368.75  3372.00  3368.50  3370.25  1117  1166   \n",
       "252581  08/13/2020  19:00  3370.25  3373.25  3370.25  3372.50  1154   746   \n",
       "252582  08/13/2020  19:30  3372.50  3376.00  3372.50  3375.00  2052  1320   \n",
       "252583  08/13/2020  20:00  3374.75  3377.25  3374.50  3375.75  1961  1851   \n",
       "252584  08/13/2020  20:30  3375.75  3377.00  3373.50  3376.50  1165  1279   \n",
       "\n",
       "        FastAvg  SlowAvg  \n",
       "0          0.00     0.00  \n",
       "1          0.00     0.00  \n",
       "2          0.00     0.00  \n",
       "3          0.00     0.00  \n",
       "4          0.00     0.00  \n",
       "...         ...      ...  \n",
       "252580  3369.00  3369.61  \n",
       "252581  3370.75  3369.31  \n",
       "252582  3372.58  3369.28  \n",
       "252583  3374.42  3370.11  \n",
       "252584  3375.75  3371.72  \n",
       "\n",
       "[252585 rows x 10 columns]"
      ]
     },
     "execution_count": 6,
     "metadata": {},
     "output_type": "execute_result"
    }
   ],
   "source": [
    "df_sp_raw"
   ]
  },
  {
   "cell_type": "markdown",
   "metadata": {},
   "source": [
    "# 分析用データ作成"
   ]
  },
  {
   "cell_type": "code",
   "execution_count": 7,
   "metadata": {},
   "outputs": [],
   "source": [
    "df = df_sp_raw.copy()\n",
    "\n",
    "# DateTime列を追加\n",
    "df['DT'] = (df['Date'] + '-' + df['Time']).map(lambda s: dt.datetime.strptime(s, '%m/%d/%Y-%H:%M'))\n",
    "\n",
    "# 値動き（終値 - 始値）列を追加\n",
    "df['CODiff'] = df['Close'] - df['Open']\n",
    "\n",
    "# 年の列を追加\n",
    "df['year'] = df['DT'].map(lambda d: d.year)\n",
    "\n",
    "# 年の順序付け\n",
    "year_type = CategoricalDtype(categories=range(df['year'].min(), df['year'].max()+1), ordered=True)\n",
    "df['year'] = df['year'].astype(year_type)"
   ]
  },
  {
   "cell_type": "code",
   "execution_count": 8,
   "metadata": {},
   "outputs": [],
   "source": [
    "# 上昇、不変、下落\n",
    "df['isUp'] = df['CODiff'] > 0\n",
    "df['isFlat'] = df['CODiff'] == 0\n",
    "df['isDown'] = df['CODiff'] < 0"
   ]
  },
  {
   "cell_type": "markdown",
   "metadata": {},
   "source": [
    "### 年次データの作成（月次データを1年ごとに平均する）"
   ]
  },
  {
   "cell_type": "code",
   "execution_count": 9,
   "metadata": {},
   "outputs": [],
   "source": [
    "dfm = df_spm_raw.copy()\n",
    "dfm['DT'] = (dfm['Date'] + '-' + dfm['Time']).map(lambda s: dt.datetime.strptime(s, '%m/%d/%Y-%H:%M'))\n",
    "dfm['year'] = dfm['DT'].map(lambda x: x.year)\n",
    "\n",
    "dfm_by_year = dfm.groupby('year').mean()"
   ]
  },
  {
   "cell_type": "markdown",
   "metadata": {},
   "source": [
    "# 全期間での30分足データの上昇確率"
   ]
  },
  {
   "cell_type": "code",
   "execution_count": 10,
   "metadata": {},
   "outputs": [
    {
     "name": "stdout",
     "output_type": "stream",
     "text": [
      "P(UP) = 114990 / 252585 = 45.52526872142052%\n",
      "P(FLAT) = 27697 / 252585 = 10.965417582200052%\n",
      "P(DOWN) = 109898 / 252585 = 43.50931369637944%\n"
     ]
    },
    {
     "data": {
      "text/plain": [
       "True"
      ]
     },
     "execution_count": 10,
     "metadata": {},
     "output_type": "execute_result"
    }
   ],
   "source": [
    "print(f\"P(UP) = {df['isUp'].sum()} / {df.shape[0]} = {df['isUp'].sum() / df.shape[0] * 100}%\")\n",
    "print(f\"P(FLAT) = {df['isFlat'].sum()} / {df.shape[0]} = {df['isFlat'].sum() / df.shape[0] * 100}%\")\n",
    "print(f\"P(DOWN) = {df['isDown'].sum()} / {df.shape[0]} = {df['isDown'].sum() / df.shape[0] * 100}%\")\n",
    "df['isUp'].sum() + df['isFlat'].sum() + df['isDown'].sum() == df.shape[0]"
   ]
  },
  {
   "cell_type": "markdown",
   "metadata": {},
   "source": [
    "# 1年ごとの上昇確率推移"
   ]
  },
  {
   "cell_type": "code",
   "execution_count": 11,
   "metadata": {},
   "outputs": [
    {
     "data": {
      "text/plain": [
       "<matplotlib.axes._subplots.AxesSubplot at 0x7ff97976f3d0>"
      ]
     },
     "execution_count": 11,
     "metadata": {},
     "output_type": "execute_result"
    },
    {
     "data": {
      "image/png": "[encoded data removed]",
      "text/plain": [
       "<Figure size 1440x720 with 2 Axes>"
      ]
     },
     "metadata": {
      "needs_background": "light"
     },
     "output_type": "display_data"
    }
   ],
   "source": [
    "df_by_year = df.groupby('year')[['isUp', 'isFlat', 'isDown']].sum()\n",
    "fig, ax = plt.subplots(2, 1, figsize=(20, 10))\n",
    "sns.pointplot(dfm_by_year.index, dfm_by_year['Close'], scale=0.5, ax=ax[0])\n",
    "sns.pointplot(df_by_year.index, df_by_year['isUp'] / df['year'].value_counts().sort_index(), scale=0.5, ax=ax[1])\n",
    "sns.pointplot(df_by_year.index, df_by_year['isFlat'] / df['year'].value_counts().sort_index(), scale=0.5, ax=ax[1], color='darkorange')\n",
    "sns.pointplot(df_by_year.index, df_by_year['isDown'] / df['year'].value_counts().sort_index(), scale=0.5, ax=ax[1], color='deeppink')"
   ]
  },
  {
   "cell_type": "code",
   "execution_count": null,
   "metadata": {},
   "outputs": [],
   "source": []
  }
 ],
 "metadata": {
  "kernelspec": {
   "display_name": "Python 3",
   "language": "python",
   "name": "python3"
  },
  "language_info": {
   "codemirror_mode": {
    "name": "ipython",
    "version": 3
   },
   "file_extension": ".py",
   "mimetype": "text/x-python",
   "name": "python",
   "nbconvert_exporter": "python",
   "pygments_lexer": "ipython3",
   "version": "3.8.2"
  }
 },
 "nbformat": 4,
 "nbformat_minor": 4
}
