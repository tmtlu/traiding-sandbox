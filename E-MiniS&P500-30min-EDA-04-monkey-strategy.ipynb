{
 "cells": [
  {
   "cell_type": "markdown",
   "metadata": {},
   "source": [
    "# 30分足データでモンキー戦略による損益評価\n",
    "\n",
    "## モンキー戦略\n",
    "- ランダムな買い仕掛け（乱数は設定可）\n",
    "- 目標価格で手仕舞う\n",
    "- 最大保有期間以内に手仕舞う"
   ]
  },
  {
   "cell_type": "code",
   "execution_count": 52,
   "metadata": {},
   "outputs": [
    {
     "data": {
      "text/plain": [
       "'en_US.UTF-8'"
      ]
     },
     "execution_count": 52,
     "metadata": {},
     "output_type": "execute_result"
    }
   ],
   "source": [
    "%matplotlib inline\n",
    "\n",
    "import numpy as np\n",
    "import numba\n",
    "from numba import jit\n",
    "import pandas as pd\n",
    "from pandas.api.types import CategoricalDtype\n",
    "import matplotlib as mpl\n",
    "import matplotlib.pyplot as plt\n",
    "import matplotlib.ticker as ticker\n",
    "import seaborn as sns\n",
    "import scipy\n",
    "import scipy.stats as st\n",
    "import statsmodels.stats.anova as anova\n",
    "from statsmodels.stats.multicomp import pairwise_tukeyhsd\n",
    "import time\n",
    "import datetime as dt\n",
    "from dateutil.relativedelta import relativedelta\n",
    "import locale\n",
    "from joblib import Parallel, delayed\n",
    "from functools import reduce\n",
    "\n",
    "import finalib as fl\n",
    "import finalib.mine as mi\n",
    "import ta\n",
    "\n",
    "# 月や曜日を英語で取得するためこの設定をしておく\n",
    "locale.setlocale(locale.LC_TIME, 'en_US.UTF-8')"
   ]
  },
  {
   "cell_type": "code",
   "execution_count": 53,
   "metadata": {},
   "outputs": [],
   "source": [
    "# 生データ\n",
    "sp_dir = 'data/e-mini-sp500-200530'\n",
    "df_sp_raw = pd.read_csv(f'{sp_dir}/e-mini-sp500-30min.csv')"
   ]
  },
  {
   "cell_type": "markdown",
   "metadata": {},
   "source": [
    "# 分析用データ作成"
   ]
  },
  {
   "cell_type": "code",
   "execution_count": 54,
   "metadata": {},
   "outputs": [],
   "source": [
    "df = df_sp_raw.copy()\n",
    "\n",
    "# DateTime列を追加\n",
    "df['DT'] = (df['Date'] + '-' + df['Time']).map(lambda s: dt.datetime.strptime(s, '%m/%d/%Y-%H:%M'))\n",
    "\n",
    "# 1997と2020はデータが不十分のため除く\n",
    "df = df[(df['DT']>dt.datetime(1998,1,1)) & (df['DT']<dt.datetime(2020,1,1))]\n",
    "df = df.reset_index(drop=True)\n",
    "\n",
    "# 年の列を追加\n",
    "df['year'] = df['DT'].map(lambda d: d.year)\n",
    "\n",
    "# 年の順序付け\n",
    "year_type = CategoricalDtype(categories=range(df['year'].min(), df['year'].max()+1), ordered=True)\n",
    "df['year'] = df['year'].astype(year_type)"
   ]
  },
  {
   "cell_type": "code",
   "execution_count": 55,
   "metadata": {},
   "outputs": [],
   "source": [
    "# 試験的に一部のデータだけ取り出す\n",
    "df2019 = df[df['year']>=2019]\n",
    "df2019 = df2019.reset_index(drop=True)\n",
    "df2019 = df2019[['Open','High','Low','Close','year']]\n",
    "\n",
    "# taのためにVolume列を追加\n",
    "df2019['Vol'] = 0.0\n",
    "\n",
    "# ta\n",
    "#df2019 = ta.add_all_ta_features(df2019, open=\"Open\", high=\"High\", low=\"Low\", close=\"Close\", volume=\"Vol\")"
   ]
  },
  {
   "cell_type": "code",
   "execution_count": 56,
   "metadata": {},
   "outputs": [],
   "source": [
    "ar2019 = df2019.to_numpy().astype('float')"
   ]
  },
  {
   "cell_type": "code",
   "execution_count": 28,
   "metadata": {},
   "outputs": [
    {
     "name": "stdout",
     "output_type": "stream",
     "text": [
      "elapsed time: 3.1905 sec\n",
      "elapsed time: 3.1703 sec\n",
      "elapsed time: 3.1671 sec\n",
      "elapsed time: 3.1519 sec\n",
      "elapsed time: 3.1233 sec\n",
      "elapsed time: 3.1603 sec\n",
      "elapsed time: 3.1473 sec\n",
      "elapsed time: 3.1278 sec\n",
      "3.15 s ± 17 ms per loop (mean ± std. dev. of 7 runs, 1 loop each)\n"
     ]
    }
   ],
   "source": [
    "%%timeit\n",
    "start = time.time()\n",
    "for j, row in df2019.iterrows():\n",
    "    row[3]+1\n",
    "elapsed = time.time() - start\n",
    "print(f'elapsed time: {elapsed:.4f} sec')\n",
    "#print(f'average time: {np.average(ts):.4f} sec')"
   ]
  },
  {
   "cell_type": "code",
   "execution_count": 54,
   "metadata": {},
   "outputs": [],
   "source": [
    "def waste_time_np(ar):\n",
    "    acc = 0.0\n",
    "    for j in range(ar.shape[0]):\n",
    "        acc += ar[j,3]\n",
    "    return acc"
   ]
  },
  {
   "cell_type": "code",
   "execution_count": 55,
   "metadata": {},
   "outputs": [
    {
     "name": "stdout",
     "output_type": "stream",
     "text": [
      "13.5 ms ± 88.8 µs per loop (mean ± std. dev. of 7 runs, 100 loops each)\n"
     ]
    }
   ],
   "source": [
    "%timeit waste_time_np(ar2019)"
   ]
  },
  {
   "cell_type": "code",
   "execution_count": 56,
   "metadata": {},
   "outputs": [],
   "source": [
    "@jit(nopython=True)\n",
    "def waste_time_numba(ar):\n",
    "    acc = 0.0\n",
    "    for j in range(ar.shape[0]):\n",
    "        acc += ar[j,3]\n",
    "    return acc"
   ]
  },
  {
   "cell_type": "code",
   "execution_count": 57,
   "metadata": {},
   "outputs": [
    {
     "name": "stdout",
     "output_type": "stream",
     "text": [
      "44.7 µs ± 215 ns per loop (mean ± std. dev. of 7 runs, 10000 loops each)\n"
     ]
    }
   ],
   "source": [
    "%timeit waste_time_numba(ar2019)"
   ]
  },
  {
   "cell_type": "code",
   "execution_count": 63,
   "metadata": {},
   "outputs": [],
   "source": [
    "from abc import ABC, abstractmethod, ABCMeta\n",
    "from itertools import chain\n",
    "from typing import Union"
   ]
  },
  {
   "cell_type": "code",
   "execution_count": 58,
   "metadata": {},
   "outputs": [],
   "source": [
    "class Entry:\n",
    "    def __init__(self, time, bar_idx, price):\n",
    "        self.time = time\n",
    "        self.bar_idx = bar_idx\n",
    "        self.price = price\n",
    "\n",
    "class Exit:\n",
    "    def __init__(self, time, bar_idx, price):\n",
    "        self.time = time\n",
    "        self.bar_idx = bar_idx\n",
    "        self.price = price\n",
    "\n",
    "class Trade:\n",
    "    def __init__(self, entry, exit, index):\n",
    "        self.entry = entry\n",
    "        self.exit = exit\n",
    "        self.index = index\n",
    "\n",
    "class TradeFactory:\n",
    "    def __init__(self, initial=0):\n",
    "        self.index = initial\n",
    "\n",
    "    def create(self, entry, exit):\n",
    "        return Trade(entry, exit, index)\n",
    "\n",
    "class Position(ABC):\n",
    "    pass\n",
    "\n",
    "class LongPosition(Position):\n",
    "    def __init__(self, price):\n",
    "        self.price = price\n",
    "\n",
    "class ShortPosition(Position):\n",
    "    pass\n",
    "\n",
    "class Trader:\n",
    "    def __init__(self):\n",
    "        self.trades = pd.Series()\n",
    "        self.filled_entry = None\n",
    "        self.current_position = None\n",
    "\n",
    "    def add_trade(self, trade):\n",
    "        self.trades[trade.index] = trade\n",
    "\n",
    "    def order(self,)\n",
    "\n",
    "    def entry(self, time, bar_idx, price):\n",
    "        self.filled_entry = Entry(time, bar_idx, price)\n",
    "        self.current_position = "
   ]
  },
  {
   "cell_type": "code",
   "execution_count": null,
   "metadata": {},
   "outputs": [],
   "source": [
    "sample = ar2019[:20]\n",
    "\n",
    "class Entry:\n",
    "    def __init__(self, idx, time, price):\n",
    "        self.idx = idx\n",
    "        self.time = time\n",
    "        self.price = price\n",
    "\n",
    "class Trader:\n",
    "    def __init__(self):\n",
    "        self.filled_entry = 0\n",
    "\n",
    "    def check_entry_sign(self):\n",
    "        return np.random.rand() > 0.4\n",
    "\n",
    "    def fill_entry(self):\n",
    "        self.filled_entry = 1\n",
    "\n",
    "    def check_exit_sign(self):\n",
    "        if self.filled_entry == 1:\n",
    "            return np.random.rand() > 0.4\n",
    "\n",
    "    def fill_exit(self):\n",
    "        self.filled_entry = 0\n",
    "\n",
    "history = np.zeros(sample.shape[0])\n",
    "for i in range(sample.shape[0]):\n",
    "    "
   ]
  },
  {
   "cell_type": "code",
   "execution_count": 12,
   "metadata": {},
   "outputs": [],
   "source": [
    "class Entry:\n",
    "    pass\n",
    "\n",
    "class Exit:\n",
    "    pass\n",
    "\n",
    "class Trade:\n",
    "    pass\n",
    "\n",
    "class Trades:\n",
    "    pass\n",
    "\n",
    "class Position:\n",
    "    pass\n",
    "\n",
    "def createPositions(entry: Entry) -> [Position]:\n",
    "    return []\n",
    "\n",
    "def buy(timestamp: int, price: float, n_shares: int, positions: [Position]) -> [Position]:\n",
    "    return positions\n",
    "\n",
    "def sell(timestamp: int, price: float, n_shares: int, positions: [Position]) -> [Position]:\n",
    "    return positions\n",
    "\n",
    "\n",
    "bar_sequence = np.array([])\n",
    "positions = []\n",
    "for i in range(bar_sequence.shape[0]):\n",
    "    if np.random.rand() >= 0.5:\n",
    "        positions = buy(0, 100, 2, positions)\n",
    "\n",
    "    if len(positions) > 0:\n",
    "        pass\n",
    "        "
   ]
  },
  {
   "cell_type": "code",
   "execution_count": 65,
   "metadata": {},
   "outputs": [],
   "source": [
    "class Position:\n",
    "    pass\n",
    "\n",
    "class FilledOrder(ABC):\n",
    "    @abstractmethod\n",
    "    def hasPositions() -> bool:\n",
    "        pass\n",
    "\n",
    "    @abstractmethod\n",
    "    def toPositions() -> [Position]:\n",
    "        pass\n",
    "\n",
    "class FilledLongEntry(FilledOrder):\n",
    "    pass\n",
    "\n",
    "class FilledBuyToCover(FilledOrder):\n",
    "    pass\n",
    "\n",
    "class Order(ABC):\n",
    "    @abstractmethod\n",
    "    def can_fill(self, timestamp: int, price: float) -> bool:\n",
    "        # バックテストのため時間と価格の条件がそろえば任意の枚数執行できることとする\n",
    "        pass\n",
    "\n",
    "    @abstractmethod\n",
    "    def fill(self, timestamp: int, price: float, n_shares: int) -> FilledOrder:\n",
    "        pass\n",
    "\n",
    "class LongEntryOrder(Order):\n",
    "    pass\n",
    "\n",
    "class BuyToCoverOrder(Order):\n",
    "    pass\n",
    "\n",
    "class Strategy(ABC):\n",
    "    \n",
    "    @abstractmethod\n",
    "    def execute() -> Union[Order, None]:\n",
    "        # 戦略の実行\n",
    "        # 必要なデータを受け取って仕掛け条件が満たされているか検証する\n",
    "        # 満たされていれば注文の作成と登録をする\n",
    "        pass\n",
    "\n",
    "def execute_strategies(strategies: [Strategy]) -> Union[Order, None]:\n",
    "    for s in strategies:\n",
    "        mayOrder = s.execute()\n",
    "        if mayOrder:\n",
    "            return mayOrder\n",
    "\n",
    "    return None\n",
    "\n",
    "def try_order(orders: [Order]) -> ([Order], [FilledOrder]):\n",
    "    timestamp, price = 0, 100\n",
    "    fillable_orders = [o for o in orders if o.can_fill(timestamp, price)]\n",
    "    remaining_orders = [o for o in orders if not o.can_fill(timestamp, price)]\n",
    "    # 本当は板情報によって執行できる枚数が決まるがここでは注文時の枚数がすべて執行されることとしている\n",
    "    filled_orders = [o.fill(timestamp, price, o.n_shares)]\n",
    "    return remaining_orders, filled_orders\n",
    "\n",
    "def create_order():\n",
    "    # これはTraderあるいはStrategyがもつメソッドにしておくのが良いかも\n",
    "    # なぜなら売買ルールとセットだし、適切な注文（ロングorショート、売りor買い）を作る必要があるから単に関数にすると引数が多くなってしまう\n",
    "    pass\n",
    "\n",
    "bar_sequence = np.array([])\n",
    "strategies = []\n",
    "positions = []\n",
    "orders = []\n",
    "filled_orders = []\n",
    "for i in range(bar_sequence.shape[0]):\n",
    "    ########## 戦略の実行 ##########\n",
    "    # 売買ルールの条件が満たされたら、注文を作成して注文リストに入れる\n",
    "    # この条件判定はTraderあるいはStragtegyがもつメソッドで行われるはず\n",
    "    mayOrder = execute_strategies(strategies)\n",
    "    if mayOrder:\n",
    "        orders.append(mayOrder)\n",
    "\n",
    "    ########## 注文の執行 ##########\n",
    "    # 条件がそろっていれば注文執行\n",
    "    orders, current_filled_orders = try_order(orders)\n",
    "    filled_orders.extend(current_filled_orders)    \n",
    "    # 執行された注文の中にポジションの建つものがあればポジション保有\n",
    "    positions.extend(chain.from_iterable([o.toPositions() for o in filled_orders if o.hasPositions()]))"
   ]
  },
  {
   "cell_type": "code",
   "execution_count": null,
   "metadata": {},
   "outputs": [],
   "source": []
  }
 ],
 "metadata": {
  "kernelspec": {
   "display_name": "Python 3",
   "language": "python",
   "name": "python3"
  },
  "language_info": {
   "codemirror_mode": {
    "name": "ipython",
    "version": 3
   },
   "file_extension": ".py",
   "mimetype": "text/x-python",
   "name": "python",
   "nbconvert_exporter": "python",
   "pygments_lexer": "ipython3",
   "version": "3.8.2"
  }
 },
 "nbformat": 4,
 "nbformat_minor": 4
}
