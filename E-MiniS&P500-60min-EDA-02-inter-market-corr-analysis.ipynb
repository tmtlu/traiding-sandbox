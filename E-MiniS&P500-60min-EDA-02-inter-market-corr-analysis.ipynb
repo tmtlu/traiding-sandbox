{
 "cells": [
  {
   "cell_type": "markdown",
   "metadata": {},
   "source": [
    "# ほかの市場で値動きがあった後にS&P500先物がどう動くか\n",
    "\n",
    "## 目的\n",
    "S&P500先物の先行指標となりうる商品を探すこと\n",
    "\n",
    "### 仮説\n",
    "- 金利が上がったらS&P500も上がる。\n",
    "- 原油や金が上がったらS&P500は下がる。\n",
    "- ダウとS&P500が異なる動きをしたらその後修正の方向に価格が動く。"
   ]
  },
  {
   "cell_type": "code",
   "execution_count": 1,
   "metadata": {},
   "outputs": [
    {
     "data": {
      "text/plain": [
       "'en_US.UTF-8'"
      ]
     },
     "execution_count": 1,
     "metadata": {},
     "output_type": "execute_result"
    }
   ],
   "source": [
    "%matplotlib inline\n",
    "\n",
    "import numpy as np\n",
    "import pandas as pd\n",
    "from pandas.api.types import CategoricalDtype\n",
    "import matplotlib as mpl\n",
    "import matplotlib.pyplot as plt\n",
    "import matplotlib.ticker as ticker\n",
    "import seaborn as sns\n",
    "import scipy\n",
    "import scipy.stats as st\n",
    "import statsmodels.stats.anova as anova\n",
    "from statsmodels.stats.multicomp import pairwise_tukeyhsd\n",
    "import datetime as dt\n",
    "from dateutil.relativedelta import relativedelta\n",
    "import locale\n",
    "from joblib import Parallel, delayed\n",
    "\n",
    "import finalib as fl\n",
    "import finalib.mine as mi\n",
    "import ta\n",
    "\n",
    "# 月や曜日を英語で取得するためこの設定をしておく\n",
    "locale.setlocale(locale.LC_TIME, 'en_US.UTF-8')"
   ]
  },
  {
   "cell_type": "markdown",
   "metadata": {},
   "source": [
    "# データ読み込み"
   ]
  },
  {
   "cell_type": "code",
   "execution_count": 2,
   "metadata": {},
   "outputs": [],
   "source": [
    "# 生データ\n",
    "sp_dir = 'data/e-mini-sp500-200530'\n",
    "df_sp_raw = pd.read_csv(f'{sp_dir}/e-mini-sp500-60min.csv')\n",
    "\n",
    "dow_dir = 'data/e-mini-dow-200626'\n",
    "df_dow_raw = pd.read_csv(f'{dow_dir}/e-mini-dow-60min.csv')\n",
    "\n",
    "oil_dir = 'data/e-mini-crude-oil-200626'\n",
    "df_oil_raw = pd.read_csv(f'{oil_dir}/e-mini-crude-oil-60min.csv')\n",
    "\n",
    "gold_dir = 'data/gold-200626'\n",
    "df_gold_raw = pd.read_csv(f'{gold_dir}/gold-60min.csv')\n",
    "\n",
    "tnote2_dir = 'data/t-notes-2yr-200626'\n",
    "df_tnote2_raw = pd.read_csv(f'{tnote2_dir}/t-notes-2yr-60min.csv')\n",
    "\n",
    "tnote5_dir = 'data/t-notes-5yr-200626'\n",
    "df_tnote5_raw = pd.read_csv(f'{tnote5_dir}/t-notes-5yr-60min.csv')\n",
    "\n",
    "tnote10_dir = 'data/t-notes-10yr-200626'\n",
    "df_tnote10_raw = pd.read_csv(f'{tnote10_dir}/t-notes-10yr-60min.csv')\n",
    "\n",
    "tbond30_dir = 'data/t-bond-30yr-200629'\n",
    "df_tbond30_raw = pd.read_csv(f'{tbond30_dir}/t-bond-30yr-60min.csv')\n",
    "\n",
    "dfnames = ['sp', 'dow', 'oil', 'gold', 'tnote2', 'tnote5', 'tnote10', 'tbond30']\n",
    "dfraws = [df_sp_raw, df_dow_raw, df_oil_raw, df_gold_raw, df_tnote2_raw, df_tnote5_raw, df_tnote10_raw, df_tbond30_raw]\n",
    "#dfraws = [df_sp_raw, df_dow_raw, df_oil_raw, df_gold_raw]\n",
    "#dfraws = [df_sp_raw, df_dow_raw]"
   ]
  },
  {
   "cell_type": "code",
   "execution_count": 3,
   "metadata": {},
   "outputs": [],
   "source": [
    "dfs = []\n",
    "for df in dfraws:\n",
    "    dfs.append(df.copy())"
   ]
  },
  {
   "cell_type": "code",
   "execution_count": 4,
   "metadata": {},
   "outputs": [],
   "source": [
    "def to_datetime_idx(df):\n",
    "    df['DT'] = (df['Date'] + '-' + df['Time']).map(lambda s: dt.datetime.strptime(s, '%m/%d/%Y-%H:%M'))\n",
    "    return df.set_index('DT')\n",
    "\n",
    "for i, df in enumerate(dfs):\n",
    "    dfs[i] = to_datetime_idx(df)"
   ]
  },
  {
   "cell_type": "markdown",
   "metadata": {},
   "source": [
    "# ある商品が上がったらその後S&P500先物が上がるか\n",
    "\n",
    "## 検証１\n",
    "- （１）S&P500先物が上昇する確率\n",
    "- （２）ある商品が上昇した次の足でS&P500先物が上昇する確率\n",
    "- （２）が（１）より大きければ（統計的な判断は今はしない）その商品が正方向の先行指標として使える可能性がある。小さければ負方向の指標として使える可能性がある。\n",
    "\n",
    "### 結果\n",
    "- （２）が（１）より大きいと言える商品はなかった。一番大きかったのが`P(S&P UP | tnote2 UP) = 0.4890829694323144`だが、事前確率からの上昇は0.5%程度であり、ここにもし有意な差があったとしても、予測には使えない。\n",
    "- 逆方向、つまり下落の予測についてもほぼ同じ結果になるはずのため試す必要はない。\n",
    "\n",
    "## 検証２（仮）\n",
    "T-Note10が上昇した足（足0）の次の3足以内でS&P500先物が足0の終値より高い終値をつける確率"
   ]
  },
  {
   "cell_type": "markdown",
   "metadata": {},
   "source": [
    "## 検証1"
   ]
  },
  {
   "cell_type": "code",
   "execution_count": 5,
   "metadata": {},
   "outputs": [],
   "source": [
    "# 値動きの列を加える\n",
    "# 値動き　＝　終値　－　始値\n",
    "# 上昇　＝　値動き　＞　０\n",
    "# とする。\n",
    "\n",
    "CODIFF_COL = 'CODiff'\n",
    "ISUP_COL = 'isUp'\n",
    "\n",
    "def add_CODiff(df):\n",
    "    df[CODIFF_COL] = df['Close'] - df['Open']\n",
    "    return df\n",
    "\n",
    "def add_isUp(df):\n",
    "    df[ISUP_COL] = df[CODIFF_COL] > 0\n",
    "    return df\n",
    "\n",
    "for i in range(len(dfs)):\n",
    "    dfs[i] = add_CODiff(dfs[i])\n",
    "    dfs[i] = add_isUp(dfs[i])"
   ]
  },
  {
   "cell_type": "code",
   "execution_count": 18,
   "metadata": {},
   "outputs": [
    {
     "data": {
      "text/plain": [
       "(127544, 8)"
      ]
     },
     "execution_count": 18,
     "metadata": {},
     "output_type": "execute_result"
    }
   ],
   "source": [
    "# 各商品の上昇列を取ってきて一つのDFにする\n",
    "isUp_df = dfs[0].loc[:, [ISUP_COL]].rename(columns={ISUP_COL:dfnames[0]})\n",
    "for i in range(1, len(dfs)):\n",
    "    isUp_df = isUp_df.merge(dfs[i].loc[:, [ISUP_COL]].rename(columns={ISUP_COL:dfnames[i]}), how='outer', left_index=True, right_index=True)\n",
    "\n",
    "isUp_df.shape"
   ]
  },
  {
   "cell_type": "code",
   "execution_count": 19,
   "metadata": {},
   "outputs": [
    {
     "data": {
      "text/plain": [
       "(87271, 8)"
      ]
     },
     "execution_count": 19,
     "metadata": {},
     "output_type": "execute_result"
    }
   ],
   "source": [
    "# NaNを含む行を全部削除\n",
    "isUp_df = isUp_df[isUp_df.notnull().all(axis=1)]\n",
    "isUp_df.shape"
   ]
  },
  {
   "cell_type": "code",
   "execution_count": 20,
   "metadata": {},
   "outputs": [
    {
     "data": {
      "text/plain": [
       "(87271, 8)"
      ]
     },
     "execution_count": 20,
     "metadata": {},
     "output_type": "execute_result"
    }
   ],
   "source": [
    "# ほかの列で上昇したときに、次の足で'sp'が上昇するかどうかを調べたい\n",
    "# だから、'sp'の列だけ１つ繰り上げる（これで'sp'列については日時インデックスがずれることになることに注意）\n",
    "isUp_df['sp'] = isUp_df['sp'].iloc[1:].append(pd.Series([np.nan])).to_numpy()\n",
    "isUp_len = isUp_df.shape[0]\n",
    "isUp_df.shape"
   ]
  },
  {
   "cell_type": "code",
   "execution_count": 30,
   "metadata": {},
   "outputs": [
    {
     "name": "stdout",
     "output_type": "stream",
     "text": [
      "P(S&P UP) = 0.4832762315087486\n"
     ]
    }
   ],
   "source": [
    "# S&P500先物の上昇確率\n",
    "print(f\"P(S&P UP) = {isUp_df['sp'].sum() / isUp_len}\")"
   ]
  },
  {
   "cell_type": "code",
   "execution_count": 33,
   "metadata": {},
   "outputs": [
    {
     "name": "stdout",
     "output_type": "stream",
     "text": [
      "P(dow UP) = 0.4998911436788853\n",
      "P(S&P UP | dow UP) = 0.4721037913171045\n",
      "P(oil UP) = 0.4640143919515074\n",
      "P(S&P UP | oil UP) = 0.4863810346956414\n",
      "P(gold UP) = 0.4866106725028933\n",
      "P(S&P UP | gold UP) = 0.4852238208491299\n",
      "P(tnote2 UP) = 0.3384973244262126\n",
      "P(S&P UP | tnote2 UP) = 0.4890829694323144\n",
      "P(tnote5 UP) = 0.4356429971009843\n",
      "P(S&P UP | tnote5 UP) = 0.4887030169125963\n",
      "P(tnote10 UP) = 0.4384732614499662\n",
      "P(S&P UP | tnote10 UP) = 0.4889196675900277\n",
      "P(tbond30 UP) = 0.43785449920363007\n",
      "P(S&P UP | tbond30 UP) = 0.48916570710771484\n"
     ]
    }
   ],
   "source": [
    "# ほかの商品が上昇した次の足でS&Pが上昇する確率\n",
    "for col_name in isUp_df.columns.tolist()[1:]:\n",
    "    ups_tmp = isUp_df[isUp_df[col_name]]\n",
    "    print(f\"P({col_name} UP) = {ups_tmp.shape[0] / isUp_len}\")\n",
    "    print(f\"P(S&P UP | {col_name} UP) = {ups_tmp['sp'].sum() / ups_tmp.shape[0]}\")"
   ]
  }
 ],
 "metadata": {
  "kernelspec": {
   "display_name": "Python 3",
   "language": "python",
   "name": "python3"
  },
  "language_info": {
   "codemirror_mode": {
    "name": "ipython",
    "version": 3
   },
   "file_extension": ".py",
   "mimetype": "text/x-python",
   "name": "python",
   "nbconvert_exporter": "python",
   "pygments_lexer": "ipython3",
   "version": "3.8.2"
  }
 },
 "nbformat": 4,
 "nbformat_minor": 4
}
