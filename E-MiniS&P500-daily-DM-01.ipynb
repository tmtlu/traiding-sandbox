{
 "cells": [
  {
   "cell_type": "markdown",
   "metadata": {},
   "source": [
    "# 過去10日間のデータから当日上昇するか否かを予測するモデル\n",
    "\n",
    "- ロジスティック回帰\n",
    "- ランダムフォレスト\n",
    "\n",
    "### 結果\n",
    "- ロジスティック回帰ではテストデータの予測性能はほぼランダムだった\n",
    "- ランダムフォレストでも、デフォルトのパラメータではよそく性能はランダムだった\n",
    "- グリッドサーチをすると、分類器の数を増やしたり木の最大深さを深くするなどパラメータに柔軟性を持たせたら、学習データではほぼ100%になったが、これは単に個々のサンプルにフィットした木を作っているに過ぎないようだ\n",
    "    - テストデータではほぼランダムだった\n",
    "- パラメータの柔軟性を低くしたら、訓練データのフィットは60 - 70%ぐらいまで下がり、テストデータの予測性能はやはりランダムだった\n",
    "\n",
    "### 考察\n",
    "- このデータではランダム性を排除した価格の値動きの特徴を学習することはできないようだ\n",
    "- 入力データの選別あるいはまた異なるデータを追加するなどの必要がある\n",
    "- 出力についても、上昇 or not の２値ではなく、３値とかもう少し細かい分類にする方法もある\n",
    "- トレンド除去とかも有効かもしれない"
   ]
  },
  {
   "cell_type": "code",
   "execution_count": 1,
   "metadata": {},
   "outputs": [
    {
     "data": {
      "text/plain": [
       "'en_US.UTF-8'"
      ]
     },
     "execution_count": 1,
     "metadata": {},
     "output_type": "execute_result"
    }
   ],
   "source": [
    "%matplotlib inline\n",
    "\n",
    "import numpy as np\n",
    "import pandas as pd\n",
    "from pandas.api.types import CategoricalDtype\n",
    "import matplotlib as mpl\n",
    "import matplotlib.pyplot as plt\n",
    "import matplotlib.ticker as ticker\n",
    "import seaborn as sns\n",
    "import scipy\n",
    "import scipy.stats as st\n",
    "import statsmodels.stats.anova as anova\n",
    "from statsmodels.stats.multicomp import pairwise_tukeyhsd\n",
    "import datetime as dt\n",
    "from dateutil.relativedelta import relativedelta\n",
    "import locale\n",
    "\n",
    "import finalib as fl\n",
    "\n",
    "# 月や曜日を英語で取得するためこの設定をしておく\n",
    "locale.setlocale(locale.LC_TIME, 'en_US.UTF-8')"
   ]
  },
  {
   "cell_type": "markdown",
   "metadata": {},
   "source": [
    "# データ読み込み\n",
    "\n",
    "- E-MiniS&P500の日足データ（TradeStationからエクスポートしたもの）\n",
    "- 最新の限月価格を基準にして過去の限月価格との差額を単純に過去限月価格に足して限月間のずれを解消したつなぎ足データ\n",
    "    - 単純な方法でよく用いられるが、過去限月の価格が0以下になることがある\n",
    "    - 今回のデータでは、Open, High, Low, Closeで0以下の値はない"
   ]
  },
  {
   "cell_type": "code",
   "execution_count": 2,
   "metadata": {},
   "outputs": [
    {
     "name": "stdout",
     "output_type": "stream",
     "text": [
      "<class 'pandas.core.frame.DataFrame'>\n",
      "RangeIndex: 5729 entries, 0 to 5728\n",
      "Data columns (total 8 columns):\n",
      " #   Column  Non-Null Count  Dtype  \n",
      "---  ------  --------------  -----  \n",
      " 0   Date    5729 non-null   object \n",
      " 1   Time    5729 non-null   object \n",
      " 2   Open    5729 non-null   float64\n",
      " 3   High    5729 non-null   float64\n",
      " 4   Low     5729 non-null   float64\n",
      " 5   Close   5729 non-null   float64\n",
      " 6   Vol     5729 non-null   int64  \n",
      " 7   OI      5729 non-null   int64  \n",
      "dtypes: float64(4), int64(2), object(2)\n",
      "memory usage: 358.2+ KB\n"
     ]
    }
   ],
   "source": [
    "base_dir = 'data/e-mini-sp500-200530'\n",
    "df_raw = pd.read_csv(f'{base_dir}/e-mini-sp500-daily.csv')\n",
    "df_raw.info()"
   ]
  },
  {
   "cell_type": "markdown",
   "metadata": {},
   "source": [
    "# ベースデータ作成\n",
    "\n",
    "- 過去10足分まで見れるデータにする\n",
    "- 二次的指標の追加\n",
    "    - イントラバーの値動き\n",
    "    - 2足間の値の動き\n",
    "- 月の上旬・中旬・下旬という情報を入れるため最初の月（1997年9月）は中途半端だから除外。\n",
    "    - 始めの数年間は直近と比べると出来高が非常に小さく流動性が低いが、今は日足での値動きに注目しているため問題ないとみなして、それらのデータは除外しない\n",
    "- コロナの暴落データ（2020年2月以降）はめったに起こらない事象だからデータから除外。\n",
    "- 年、月、月の上旬・中旬・下旬、曜日を入れる"
   ]
  },
  {
   "cell_type": "code",
   "execution_count": 3,
   "metadata": {},
   "outputs": [
    {
     "data": {
      "text/html": [
       "<div>\n",
       "<style scoped>\n",
       "    .dataframe tbody tr th:only-of-type {\n",
       "        vertical-align: middle;\n",
       "    }\n",
       "\n",
       "    .dataframe tbody tr th {\n",
       "        vertical-align: top;\n",
       "    }\n",
       "\n",
       "    .dataframe thead th {\n",
       "        text-align: right;\n",
       "    }\n",
       "</style>\n",
       "<table border=\"1\" class=\"dataframe\">\n",
       "  <thead>\n",
       "    <tr style=\"text-align: right;\">\n",
       "      <th></th>\n",
       "      <th>Date</th>\n",
       "      <th>Time</th>\n",
       "      <th>Open10</th>\n",
       "      <th>High10</th>\n",
       "      <th>Low10</th>\n",
       "      <th>Close10</th>\n",
       "      <th>Vol10</th>\n",
       "      <th>OI10</th>\n",
       "      <th>Open9</th>\n",
       "      <th>High9</th>\n",
       "      <th>...</th>\n",
       "      <th>Low1</th>\n",
       "      <th>Close1</th>\n",
       "      <th>Vol1</th>\n",
       "      <th>OI1</th>\n",
       "      <th>Open0</th>\n",
       "      <th>High0</th>\n",
       "      <th>Low0</th>\n",
       "      <th>Close0</th>\n",
       "      <th>Vol0</th>\n",
       "      <th>OI0</th>\n",
       "    </tr>\n",
       "  </thead>\n",
       "  <tbody>\n",
       "    <tr>\n",
       "      <th>0</th>\n",
       "      <td>09/25/1997</td>\n",
       "      <td>17:00</td>\n",
       "      <td>1071.25</td>\n",
       "      <td>1082.25</td>\n",
       "      <td>1062.75</td>\n",
       "      <td>1068.50</td>\n",
       "      <td>11825</td>\n",
       "      <td>2909</td>\n",
       "      <td>1070.50</td>\n",
       "      <td>1089.00</td>\n",
       "      <td>...</td>\n",
       "      <td>1104.5</td>\n",
       "      <td>1106.00</td>\n",
       "      <td>14580.0</td>\n",
       "      <td>6194.0</td>\n",
       "      <td>1106.25</td>\n",
       "      <td>1110.0</td>\n",
       "      <td>1098.00</td>\n",
       "      <td>1099.25</td>\n",
       "      <td>14114.0</td>\n",
       "      <td>6132.0</td>\n",
       "    </tr>\n",
       "    <tr>\n",
       "      <th>1</th>\n",
       "      <td>09/26/1997</td>\n",
       "      <td>17:00</td>\n",
       "      <td>1070.50</td>\n",
       "      <td>1089.00</td>\n",
       "      <td>1066.00</td>\n",
       "      <td>1071.25</td>\n",
       "      <td>9759</td>\n",
       "      <td>4059</td>\n",
       "      <td>1086.00</td>\n",
       "      <td>1092.25</td>\n",
       "      <td>...</td>\n",
       "      <td>1098.0</td>\n",
       "      <td>1099.25</td>\n",
       "      <td>14114.0</td>\n",
       "      <td>6132.0</td>\n",
       "      <td>1099.00</td>\n",
       "      <td>1109.0</td>\n",
       "      <td>1099.00</td>\n",
       "      <td>1106.00</td>\n",
       "      <td>12049.0</td>\n",
       "      <td>5666.0</td>\n",
       "    </tr>\n",
       "    <tr>\n",
       "      <th>2</th>\n",
       "      <td>09/29/1997</td>\n",
       "      <td>17:00</td>\n",
       "      <td>1086.00</td>\n",
       "      <td>1092.25</td>\n",
       "      <td>1081.50</td>\n",
       "      <td>1083.75</td>\n",
       "      <td>8551</td>\n",
       "      <td>3818</td>\n",
       "      <td>1083.75</td>\n",
       "      <td>1112.50</td>\n",
       "      <td>...</td>\n",
       "      <td>1099.0</td>\n",
       "      <td>1106.00</td>\n",
       "      <td>12049.0</td>\n",
       "      <td>5666.0</td>\n",
       "      <td>1105.75</td>\n",
       "      <td>1117.0</td>\n",
       "      <td>1102.75</td>\n",
       "      <td>1114.50</td>\n",
       "      <td>11104.0</td>\n",
       "      <td>5722.0</td>\n",
       "    </tr>\n",
       "  </tbody>\n",
       "</table>\n",
       "<p>3 rows × 68 columns</p>\n",
       "</div>"
      ],
      "text/plain": [
       "         Date   Time   Open10   High10    Low10  Close10  Vol10  OI10  \\\n",
       "0  09/25/1997  17:00  1071.25  1082.25  1062.75  1068.50  11825  2909   \n",
       "1  09/26/1997  17:00  1070.50  1089.00  1066.00  1071.25   9759  4059   \n",
       "2  09/29/1997  17:00  1086.00  1092.25  1081.50  1083.75   8551  3818   \n",
       "\n",
       "     Open9    High9  ...    Low1   Close1     Vol1     OI1    Open0   High0  \\\n",
       "0  1070.50  1089.00  ...  1104.5  1106.00  14580.0  6194.0  1106.25  1110.0   \n",
       "1  1086.00  1092.25  ...  1098.0  1099.25  14114.0  6132.0  1099.00  1109.0   \n",
       "2  1083.75  1112.50  ...  1099.0  1106.00  12049.0  5666.0  1105.75  1117.0   \n",
       "\n",
       "      Low0   Close0     Vol0     OI0  \n",
       "0  1098.00  1099.25  14114.0  6132.0  \n",
       "1  1099.00  1106.00  12049.0  5666.0  \n",
       "2  1102.75  1114.50  11104.0  5722.0  \n",
       "\n",
       "[3 rows x 68 columns]"
      ]
     },
     "execution_count": 3,
     "metadata": {},
     "output_type": "execute_result"
    }
   ],
   "source": [
    "# 過去N足分まで見れるデータにする\n",
    "\n",
    "# 何足分見るか\n",
    "N_BARS = 10\n",
    "\n",
    "df = fl.make_nbars(df_raw, N_BARS, cols=['Open', 'High', 'Low', 'Close', 'Vol', 'OI'])\n",
    "#fl.make_nbars(df_raw[:21], 10)\n",
    "df.head(3)"
   ]
  },
  {
   "cell_type": "code",
   "execution_count": 4,
   "metadata": {},
   "outputs": [],
   "source": [
    "# 値動き指標を追加\n",
    "\n",
    "# イントラバーの値動き\n",
    "for i in range(N_BARS+1):\n",
    "    df[f'CODiff{i}'] = df[f'Close{i}'] - df[f'Open{i}'] # 終値 - 始値\n",
    "    df[f'HLDiff{i}'] = df[f'High{i}'] - df[f'Low{i}'] # 高値 - 安値\n",
    "    df[f'HCDiff{i}'] = df[f'High{i}'] - df[f'Close{i}'] # 高値 - 終値\n",
    "    df[f'OLDiff{i}'] = df[f'Open{i}'] - df[f'Low{i}'] # 始値 - 安値\n",
    "    df[f'CLDiff{i}'] = df[f'Close{i}'] - df[f'Low{i}'] # 終値 - 安値\n",
    "    \n",
    "# 2足間の値動き\n",
    "for i in range(N_BARS):\n",
    "    df[f'CSlope{i}'] = df[f'Close{i}'] - df[f'Close{i+1}'] # ある日の終値 - 前日の終値\n",
    "    df[f'OSlope{i}'] = df[f'Open{i}'] - df[f'Open{i+1}'] # ある日の始値 - 前日の始値\n",
    "    df[f'LSlope{i}'] = df[f'Low{i}'] - df[f'Low{i+1}'] # ある日の安値 - 前日の安値\n",
    "    df[f'HSlope{i}'] = df[f'High{i}'] - df[f'High{i+1}'] # ある日の高値 - 前日の高値\n",
    "    df[f'VSlope{i}'] = df[f'Vol{i}'] - df[f'Vol{i+1}'] # ある日の出来高 - 前日の出来高\n",
    "    df[f'OISlope{i}'] = df[f'OI{i}'] - df[f'OI{i+1}'] # ある日の建玉数 - 前日の建玉数\n",
    "    df[f'HCSlope{i}'] = df[f'High{i}'] - df[f'Close{i+1}'] # ある日の高値 - 前日の終値\n",
    "    df[f'CLSlope{i}'] = df[f'Close{i+1}'] - df[f'Low{i}'] # ある日の前日の終値 - ある日の安値"
   ]
  },
  {
   "cell_type": "code",
   "execution_count": 5,
   "metadata": {},
   "outputs": [
    {
     "name": "stdout",
     "output_type": "stream",
     "text": [
      "<class 'pandas.core.frame.DataFrame'>\n",
      "RangeIndex: 5633 entries, 0 to 5632\n",
      "Columns: 203 entries, Date to CLSlope9\n",
      "dtypes: float64(199), int64(2), object(2)\n",
      "memory usage: 8.7+ MB\n",
      "\n",
      "始めのデータ\n",
      "          Date   Time  Open10  High10   Low10  Close10  Vol10  OI10    Open9  \\\n",
      "0  1997-10-01  17:00  1108.5  1115.0  1104.0   1108.5  10849  5516  1108.25   \n",
      "\n",
      "    High9  ...  HCSlope8  CLSlope8  CSlope9  OSlope9  LSlope9  HSlope9  \\\n",
      "0  1123.0  ...      5.25       5.0      2.0    -0.25     3.25      8.0   \n",
      "\n",
      "   VSlope9  OISlope9  HCSlope9  CLSlope9  \n",
      "0    739.0     606.0      14.5      1.25  \n",
      "\n",
      "[1 rows x 203 columns]\n",
      "\n",
      "終わりのデータ\n",
      "             Date   Time  Open10   High10    Low10  Close10    Vol10     OI10  \\\n",
      "5632  2020-01-31  17:00  3283.0  3306.75  3282.75  3305.25  1335246  2716639   \n",
      "\n",
      "       Open9   High9  ...  HCSlope8  CLSlope8  CSlope9  OSlope9  LSlope9  \\\n",
      "5632  3305.5  3319.0  ...      4.75     17.75      8.5     22.5     22.0   \n",
      "\n",
      "      HSlope9  VSlope9  OISlope9  HCSlope9  CLSlope9  \n",
      "5632    12.25 -22993.0   -5714.0     13.75       0.5  \n",
      "\n",
      "[1 rows x 203 columns]\n"
     ]
    }
   ],
   "source": [
    "# DateをDatetime型にする\n",
    "df['Date'] = df['Date'].map(lambda s: dt.datetime.strptime(s, '%m/%d/%Y').date())\n",
    "\n",
    "# 始まりの年月と終わりの年月（終わりは含まない）\n",
    "s_year, s_month = 1997, 10\n",
    "e_year, e_month = 2020, 2\n",
    "\n",
    "df = df[(df['Date'] >= dt.date(s_year,s_month,1)) & (df['Date'] < dt.date(e_year,e_month,1))]\n",
    "df = df.reset_index(drop=True)\n",
    "df.info()\n",
    "print('\\n始めのデータ\\n', df[:1])\n",
    "print('\\n終わりのデータ\\n', df[-1:])"
   ]
  },
  {
   "cell_type": "code",
   "execution_count": 6,
   "metadata": {},
   "outputs": [],
   "source": [
    "# 年列を入れる\n",
    "df['year'] = df['Date'].map(lambda date: date.year)\n",
    "# 月列を入れる\n",
    "df['month'] = df['Date'].map(lambda date: date.month)\n",
    "# 曜日列を入れる\n",
    "day_type = CategoricalDtype(categories=[\"Mon\", \"Tue\", \"Wed\", \"Thu\", \"Fri\"], ordered=True)\n",
    "df['day'] = df['Date'].map(lambda d: d.strftime('%a')).astype(day_type)"
   ]
  },
  {
   "cell_type": "code",
   "execution_count": 7,
   "metadata": {},
   "outputs": [],
   "source": [
    "# 月の上旬・中旬・下旬の列を入れる\n",
    "# 月初めから7日間を上旬、次の7日間を中旬、それ以降を下旬とする\n",
    "tdm_type = CategoricalDtype(categories=['Early', 'Mid', 'Late'])\n",
    "df['tdm'] = 'Early'\n",
    "y_m = dt.date(s_year, s_month, 1)\n",
    "while True:\n",
    "    month_data = df[(df['year'] == y_m.year) & (df['month'] == y_m.month)]['tdm']\n",
    "    if month_data.size == 0:\n",
    "        break\n",
    "\n",
    "    for count, (idx, val) in enumerate(month_data.items()):\n",
    "        if count > 6 and count < 14:\n",
    "            df.loc[idx, 'tdm'] = 'Mid'\n",
    "        elif count >= 14:\n",
    "            df.loc[idx, 'tdm'] = 'Late'\n",
    "\n",
    "    y_m = y_m + relativedelta(months=1)"
   ]
  },
  {
   "cell_type": "code",
   "execution_count": 8,
   "metadata": {},
   "outputs": [
    {
     "data": {
      "text/plain": [
       "(5633, 207)"
      ]
     },
     "execution_count": 8,
     "metadata": {},
     "output_type": "execute_result"
    },
    {
     "data": {
      "image/png": "[encoded data removed]",
      "text/plain": [
       "<Figure size 1008x288 with 1 Axes>"
      ]
     },
     "metadata": {
      "needs_background": "light"
     },
     "output_type": "display_data"
    }
   ],
   "source": [
    "df.loc[4448:, ['Close0']].plot(figsize=(14,4))\n",
    "df.shape"
   ]
  },
  {
   "cell_type": "markdown",
   "metadata": {},
   "source": [
    "### 書き出す場合は以下を実行"
   ]
  },
  {
   "cell_type": "code",
   "execution_count": 9,
   "metadata": {},
   "outputs": [],
   "source": [
    "# 書き出し\n",
    "#df.to_csv(f'{base_dir}/e-mini-sp500-daily-last10days-base.csv')"
   ]
  },
  {
   "cell_type": "markdown",
   "metadata": {},
   "source": [
    "# 学習用データ作成\n",
    "\n",
    "過去10日間の全指標から、当日上昇するか否かを予測するための学習用データ\n",
    "\n",
    "- `Date`, `Time`, `year`は不要\n",
    "- 当日の指標については、`CODiff0`以外は不要\n",
    "- `CODiff0`から当日上昇する場合は1そうでない場合は0となる二値データ列（`isUp`）を作成\n",
    "    - その後`CODiff0`も不要\n",
    "- 曜日列を数値に置き換える\n",
    "    - MonからFriを0から4に置き換える\n",
    "- TDMを数値に置き換える\n",
    "    - Early, Mid, Late ==> 0, 1, 2"
   ]
  },
  {
   "cell_type": "code",
   "execution_count": 10,
   "metadata": {},
   "outputs": [
    {
     "data": {
      "text/html": [
       "<div>\n",
       "<style scoped>\n",
       "    .dataframe tbody tr th:only-of-type {\n",
       "        vertical-align: middle;\n",
       "    }\n",
       "\n",
       "    .dataframe tbody tr th {\n",
       "        vertical-align: top;\n",
       "    }\n",
       "\n",
       "    .dataframe thead th {\n",
       "        text-align: right;\n",
       "    }\n",
       "</style>\n",
       "<table border=\"1\" class=\"dataframe\">\n",
       "  <thead>\n",
       "    <tr style=\"text-align: right;\">\n",
       "      <th></th>\n",
       "      <th>CODiff0</th>\n",
       "      <th>isUp</th>\n",
       "    </tr>\n",
       "  </thead>\n",
       "  <tbody>\n",
       "    <tr>\n",
       "      <th>0</th>\n",
       "      <td>7.75</td>\n",
       "      <td>True</td>\n",
       "    </tr>\n",
       "    <tr>\n",
       "      <th>1</th>\n",
       "      <td>5.50</td>\n",
       "      <td>True</td>\n",
       "    </tr>\n",
       "    <tr>\n",
       "      <th>2</th>\n",
       "      <td>6.00</td>\n",
       "      <td>True</td>\n",
       "    </tr>\n",
       "    <tr>\n",
       "      <th>3</th>\n",
       "      <td>0.75</td>\n",
       "      <td>True</td>\n",
       "    </tr>\n",
       "    <tr>\n",
       "      <th>4</th>\n",
       "      <td>9.25</td>\n",
       "      <td>True</td>\n",
       "    </tr>\n",
       "    <tr>\n",
       "      <th>5</th>\n",
       "      <td>-7.50</td>\n",
       "      <td>False</td>\n",
       "    </tr>\n",
       "  </tbody>\n",
       "</table>\n",
       "</div>"
      ],
      "text/plain": [
       "   CODiff0   isUp\n",
       "0     7.75   True\n",
       "1     5.50   True\n",
       "2     6.00   True\n",
       "3     0.75   True\n",
       "4     9.25   True\n",
       "5    -7.50  False"
      ]
     },
     "execution_count": 10,
     "metadata": {},
     "output_type": "execute_result"
    }
   ],
   "source": [
    "# Up0列追加\n",
    "# 注意：1なら上昇、0なら横ばいか下降\n",
    "dfp = df.copy()\n",
    "#dfp['isUp'] = dfp['CODiff0'].map(lambda x: 1 if x > 0 else 0)\n",
    "dfp['isUp'] = dfp['CODiff0'] > 0\n",
    "dfp[['CODiff0', 'isUp']].head(6)"
   ]
  },
  {
   "cell_type": "code",
   "execution_count": 11,
   "metadata": {},
   "outputs": [],
   "source": [
    "# MonからFriを0から4に置き換える\n",
    "dfp['day'] = dfp['day'].cat.codes"
   ]
  },
  {
   "cell_type": "code",
   "execution_count": 12,
   "metadata": {},
   "outputs": [],
   "source": [
    "# TDMの列を数値に置き換える\n",
    "dfp['tdm'] = dfp['tdm'].mask(dfp['tdm'] == 'Early', 0)\n",
    "dfp['tdm'] = dfp['tdm'].mask(dfp['tdm'] == 'Mid', 1)\n",
    "dfp['tdm'] = dfp['tdm'].mask(dfp['tdm'] == 'Late', 2)"
   ]
  },
  {
   "cell_type": "code",
   "execution_count": 13,
   "metadata": {},
   "outputs": [
    {
     "data": {
      "text/plain": [
       "isUp\n",
       "False    2613\n",
       "True     3020\n",
       "Name: isUp, dtype: int64"
      ]
     },
     "execution_count": 13,
     "metadata": {},
     "output_type": "execute_result"
    }
   ],
   "source": [
    "# ポジティブとネガティブで偏りがないか\n",
    "dfp.groupby('isUp')['isUp'].count()\n",
    "\n",
    "# あまりない"
   ]
  },
  {
   "cell_type": "markdown",
   "metadata": {},
   "source": [
    "# データの分割\n",
    "\n",
    "訓練データとテストデータに分割する。過去一定期間のデータから当日のデータを予測するという時系列データのためシャッフルして分割すると訓練データとテストデータの間で情報の重複が発生するから、シャッフルしない。また分割するところでも重複が発生するから重複分のデータを除外する（パージング）。"
   ]
  },
  {
   "cell_type": "code",
   "execution_count": 14,
   "metadata": {},
   "outputs": [
    {
     "name": "stdout",
     "output_type": "stream",
     "text": [
      "もとデータのサンプル数 = 5633\n",
      "訓練データのサンプル数 = 4498\n",
      "テストデータのサンプル数 = 1125\n",
      "いくつのサンプルがパージされたか：10\n"
     ]
    }
   ],
   "source": [
    "# 訓練データを何割にするか\n",
    "train_ratio = 0.8\n",
    "\n",
    "train_df, test_df = fl.split_data(dfp, train_ratio, purging=True, n_bars=N_BARS+1)\n",
    "\n",
    "print(f'もとデータのサンプル数 = {df.shape[0]}')\n",
    "print(f'訓練データのサンプル数 = {train_df.shape[0]}')\n",
    "print(f'テストデータのサンプル数 = {test_df.shape[0]}')\n",
    "print(f'いくつのサンプルがパージされたか：{df.shape[0] - train_df.shape[0] - test_df.shape[0]}')"
   ]
  },
  {
   "cell_type": "code",
   "execution_count": 15,
   "metadata": {},
   "outputs": [
    {
     "name": "stdout",
     "output_type": "stream",
     "text": [
      "訓練データの期間：1997-10-01 - 2015-07-29\n",
      "テストデータの期間：2015-08-13 - 2020-01-31\n"
     ]
    },
    {
     "data": {
      "text/plain": [
       "<matplotlib.axes._subplots.AxesSubplot at 0x7fb7fa1905e0>"
      ]
     },
     "execution_count": 15,
     "metadata": {},
     "output_type": "execute_result"
    },
    {
     "data": {
      "image/png": "[encoded data removed]",
      "text/plain": [
       "<Figure size 1440x288 with 2 Axes>"
      ]
     },
     "metadata": {
      "needs_background": "light"
     },
     "output_type": "display_data"
    }
   ],
   "source": [
    "# 各データの期間\n",
    "print(f\"訓練データの期間：{train_df['Date'].iloc[0].strftime('%Y-%m-%d')} - {train_df['Date'].iloc[-1].strftime('%Y-%m-%d')}\")\n",
    "print(f\"テストデータの期間：{test_df['Date'].iloc[0].strftime('%Y-%m-%d')} - {test_df['Date'].iloc[-1].strftime('%Y-%m-%d')}\")\n",
    "fix, ax = plt.subplots(1, 2, figsize=(20, 4))\n",
    "train_df['Close0'].plot(ax=ax[0])\n",
    "test_df['Close0'].plot(ax=ax[1])"
   ]
  },
  {
   "cell_type": "code",
   "execution_count": 16,
   "metadata": {},
   "outputs": [],
   "source": [
    "# 不要な列を削除\n",
    "drop_cols = ['Date','Time','year','Open0','High0','Low0','Close0','Vol0','OI0','CODiff0','HLDiff0',\n",
    "             'HCDiff0','OLDiff0','CLDiff0','CSlope0','OSlope0','LSlope0','HSlope0','VSlope0','OISlope0','HCSlope0','CLSlope0']\n",
    "train_data = train_df.drop(drop_cols, axis=1)\n",
    "test_data = test_df.drop(drop_cols, axis=1)"
   ]
  },
  {
   "cell_type": "markdown",
   "metadata": {},
   "source": [
    "# 入力と出力"
   ]
  },
  {
   "cell_type": "code",
   "execution_count": 17,
   "metadata": {},
   "outputs": [],
   "source": [
    "x_train = train_data.drop(['isUp'], axis=1)\n",
    "y_train = train_data['isUp']\n",
    "\n",
    "x_test = test_data.drop(['isUp'], axis=1)\n",
    "y_test = test_data['isUp']"
   ]
  },
  {
   "cell_type": "code",
   "execution_count": 18,
   "metadata": {},
   "outputs": [],
   "source": [
    "# ウォークフォワード用のデータを作る関数\n",
    "def purged_kfold_data_gen(xs, ys, k, n_dups=0, pct_embargo=0.):\n",
    "    if xs.shape[0] != xs.shape[1]:\n",
    "        raise ValueError('sample sizes of xs and xy must be the same.')\n",
    "    \n",
    "    data_size = xs.shape[0]\n",
    "\n",
    "    def gen_split_points(data_size, k):\n",
    "        block_size = data_size // k\n",
    "        return [0] + list(range(block_size, data_size, block_size))[:k-1] + [data_size]\n",
    "\n",
    "    idxs = gen_split_points(data_size, k)\n",
    "    \n",
    "    def train_test_split(df, test_idx, n_dups=0, pct_embargo=0.005):\n",
    "        train_ratio = 1 - (test_idx[1] - test_idx[0]) / df.shape[0]\n",
    "\n",
    "        train_f = df.iloc[:test_idx[0]]\n",
    "        test = df.iloc[test_idx[0]:test_idx[1]]\n",
    "        train_l = df.iloc[test_idx[1]:]\n",
    "\n",
    "        # for the former train data block\n",
    "        if n_dups > 0:\n",
    "            if train_f.shape[0] <= n_dups:\n",
    "                train_f = pd.DataFrame([])\n",
    "            else:\n",
    "                purge_idx_f = round(n_dups * train_ratio)\n",
    "                train_f = train_f.iloc[:-purge_idx_f]\n",
    "                test = test.iloc[(n_dups - purge_idx_f):]\n",
    "\n",
    "        # for the latter train data block\n",
    "        if pct_embargo > 0:\n",
    "            n_dups = n_dups + round(df.shape[0] * 0.5)\n",
    "\n",
    "            if train_l.shape[0] <= n_dups:\n",
    "                train_l = pd.DataFrame([])\n",
    "            else:\n",
    "                purge_idx_l = round(n_dups * train_ratio)\n",
    "                test = test.iloc[:-(n_dups - purge_idx_f)]\n",
    "                train_l = train_l.iloc[purge_idx_f:]\n",
    "\n",
    "        train = pd.concat([train_f, train_l])\n",
    "        return train, test\n",
    "\n",
    "    for i in range(k):\n",
    "        x_train, x_test = train_test_split(xs, (idxs[i], idxs[i+1]), n_dups=n_dups, pct_embargo=pct_embargo)\n",
    "        y_train, y_test = train_test_split(ys, (idxs[i], idxs[i+1]), n_dups=n_dups, pct_embargo=pct_embargo)\n",
    "        yield (x_train, y_train), (x_test, y_test)"
   ]
  },
  {
   "cell_type": "code",
   "execution_count": 43,
   "metadata": {},
   "outputs": [],
   "source": [
    "# sklearnのK分割交差検証用クラスを拡張してパージング有りエンバーゴ有りのK分割クラスを定義\n",
    "from sklearn.model_selection._split import _BaseKFold\n",
    "class PurgedKFold(_BaseKFold):\n",
    "    def __init__(self, n_splits=5, n_dups=0, pct_embargo=0.):\n",
    "        super(PurgedKFold, self).__init__(n_splits, shuffle=False, random_state=None)\n",
    "        self.n_dups = n_dups\n",
    "        self.pct_embargo = pct_embargo\n",
    "\n",
    "    def split(self, X, y=None, groups=None):\n",
    "        train_ratio = (self.n_splits - 1) / self.n_splits\n",
    "        indices = np.arange(X.shape[0])\n",
    "        n_embargo = int(X.shape[0] * self.pct_embargo)\n",
    "        test_starts = [(i[0], i[-1]+1) for i in np.array_split(indices, self.n_splits)]\n",
    "        for i, j in test_starts:\n",
    "            if self.n_dups > 0:\n",
    "                train_f_purge = round(self.n_dups * train_ratio)\n",
    "                train_f_idx1 = i - train_f_purge\n",
    "                test_idx0 = i + (self.n_dups - train_f_purge)\n",
    "            else:\n",
    "                train_f_idx1 = test_idx0 = i\n",
    "\n",
    "            if n_embargo > 0:\n",
    "                purge_range = self.n_dups + n_embargo\n",
    "                train_l_purge = round(purge_range * train_ratio)\n",
    "                test_idx1 = j - (purge_range - train_l_purge)\n",
    "                train_l_idx0 = j + train_l_purge\n",
    "            else:\n",
    "                test_idx1 = train_l_idx0 = j\n",
    "\n",
    "            train_f_indices = pd.Series(X.iloc[0:train_f_idx1].index)\n",
    "            test_indices = pd.Series(X.iloc[test_idx0:test_idx1].index)\n",
    "            train_l_indices = pd.Series(X.iloc[train_l_idx0:].index)\n",
    "            train_indices = pd.concat([train_f_indices, train_l_indices])\n",
    "            yield train_indices, test_indices"
   ]
  },
  {
   "cell_type": "markdown",
   "metadata": {},
   "source": [
    "# ロジスティック回帰\n"
   ]
  },
  {
   "cell_type": "code",
   "execution_count": 19,
   "metadata": {},
   "outputs": [
    {
     "data": {
      "text/html": [
       "<div>\n",
       "<style scoped>\n",
       "    .dataframe tbody tr th:only-of-type {\n",
       "        vertical-align: middle;\n",
       "    }\n",
       "\n",
       "    .dataframe tbody tr th {\n",
       "        vertical-align: top;\n",
       "    }\n",
       "\n",
       "    .dataframe thead th {\n",
       "        text-align: right;\n",
       "    }\n",
       "</style>\n",
       "<table border=\"1\" class=\"dataframe\">\n",
       "  <thead>\n",
       "    <tr style=\"text-align: right;\">\n",
       "      <th></th>\n",
       "      <th>Open10</th>\n",
       "      <th>High10</th>\n",
       "      <th>Low10</th>\n",
       "      <th>Close10</th>\n",
       "      <th>Vol10</th>\n",
       "      <th>OI10</th>\n",
       "      <th>Open9</th>\n",
       "      <th>High9</th>\n",
       "      <th>Low9</th>\n",
       "      <th>Close9</th>\n",
       "      <th>...</th>\n",
       "      <th>OSlope9</th>\n",
       "      <th>LSlope9</th>\n",
       "      <th>HSlope9</th>\n",
       "      <th>VSlope9</th>\n",
       "      <th>OISlope9</th>\n",
       "      <th>HCSlope9</th>\n",
       "      <th>CLSlope9</th>\n",
       "      <th>month</th>\n",
       "      <th>day</th>\n",
       "      <th>tdm</th>\n",
       "    </tr>\n",
       "  </thead>\n",
       "  <tbody>\n",
       "    <tr>\n",
       "      <th>0</th>\n",
       "      <td>1108.50</td>\n",
       "      <td>1115.00</td>\n",
       "      <td>1104.00</td>\n",
       "      <td>1108.5</td>\n",
       "      <td>10849</td>\n",
       "      <td>5516</td>\n",
       "      <td>1108.25</td>\n",
       "      <td>1123.00</td>\n",
       "      <td>1107.25</td>\n",
       "      <td>1110.5</td>\n",
       "      <td>...</td>\n",
       "      <td>-0.25</td>\n",
       "      <td>3.25</td>\n",
       "      <td>8.00</td>\n",
       "      <td>739.0</td>\n",
       "      <td>606.0</td>\n",
       "      <td>14.50</td>\n",
       "      <td>1.25</td>\n",
       "      <td>10</td>\n",
       "      <td>2</td>\n",
       "      <td>0</td>\n",
       "    </tr>\n",
       "    <tr>\n",
       "      <th>1</th>\n",
       "      <td>1108.25</td>\n",
       "      <td>1123.00</td>\n",
       "      <td>1107.25</td>\n",
       "      <td>1110.5</td>\n",
       "      <td>11588</td>\n",
       "      <td>6122</td>\n",
       "      <td>1112.50</td>\n",
       "      <td>1115.75</td>\n",
       "      <td>1105.50</td>\n",
       "      <td>1113.5</td>\n",
       "      <td>...</td>\n",
       "      <td>4.25</td>\n",
       "      <td>-1.75</td>\n",
       "      <td>-7.25</td>\n",
       "      <td>-1708.0</td>\n",
       "      <td>-286.0</td>\n",
       "      <td>5.25</td>\n",
       "      <td>5.00</td>\n",
       "      <td>10</td>\n",
       "      <td>3</td>\n",
       "      <td>0</td>\n",
       "    </tr>\n",
       "    <tr>\n",
       "      <th>2</th>\n",
       "      <td>1112.50</td>\n",
       "      <td>1115.75</td>\n",
       "      <td>1105.50</td>\n",
       "      <td>1113.5</td>\n",
       "      <td>9880</td>\n",
       "      <td>5836</td>\n",
       "      <td>1112.75</td>\n",
       "      <td>1124.50</td>\n",
       "      <td>1112.75</td>\n",
       "      <td>1118.5</td>\n",
       "      <td>...</td>\n",
       "      <td>0.25</td>\n",
       "      <td>7.25</td>\n",
       "      <td>8.75</td>\n",
       "      <td>2196.0</td>\n",
       "      <td>157.0</td>\n",
       "      <td>11.00</td>\n",
       "      <td>0.75</td>\n",
       "      <td>10</td>\n",
       "      <td>4</td>\n",
       "      <td>0</td>\n",
       "    </tr>\n",
       "  </tbody>\n",
       "</table>\n",
       "<p>3 rows × 185 columns</p>\n",
       "</div>"
      ],
      "text/plain": [
       "    Open10   High10    Low10  Close10  Vol10  OI10    Open9    High9     Low9  \\\n",
       "0  1108.50  1115.00  1104.00   1108.5  10849  5516  1108.25  1123.00  1107.25   \n",
       "1  1108.25  1123.00  1107.25   1110.5  11588  6122  1112.50  1115.75  1105.50   \n",
       "2  1112.50  1115.75  1105.50   1113.5   9880  5836  1112.75  1124.50  1112.75   \n",
       "\n",
       "   Close9  ...  OSlope9  LSlope9  HSlope9  VSlope9  OISlope9  HCSlope9  \\\n",
       "0  1110.5  ...    -0.25     3.25     8.00    739.0     606.0     14.50   \n",
       "1  1113.5  ...     4.25    -1.75    -7.25  -1708.0    -286.0      5.25   \n",
       "2  1118.5  ...     0.25     7.25     8.75   2196.0     157.0     11.00   \n",
       "\n",
       "   CLSlope9  month  day  tdm  \n",
       "0      1.25     10    2    0  \n",
       "1      5.00     10    3    0  \n",
       "2      0.75     10    4    0  \n",
       "\n",
       "[3 rows x 185 columns]"
      ]
     },
     "execution_count": 19,
     "metadata": {},
     "output_type": "execute_result"
    }
   ],
   "source": [
    "x_train.head(3)"
   ]
  },
  {
   "cell_type": "code",
   "execution_count": 20,
   "metadata": {},
   "outputs": [
    {
     "name": "stdout",
     "output_type": "stream",
     "text": [
      "coefficient =  [[ 2.36757254e-10  2.35092890e-10  2.35080016e-10  2.47935836e-10\n",
      "  -6.79108907e-08  8.65510497e-08  2.57418227e-10  2.47154958e-10\n",
      "   2.17251870e-10  2.14581895e-10 -9.57959667e-09  9.15158174e-08\n",
      "   2.08754457e-10  2.01790230e-10  2.54970525e-10  2.69059676e-10\n",
      "   7.50656957e-09  3.37626752e-08  2.65344279e-10  2.39119957e-10\n",
      "   2.68891695e-10  2.06773763e-10  1.01320430e-08  6.66567385e-08\n",
      "   2.07849126e-10  2.15762771e-10  2.17781663e-10  1.87455326e-10\n",
      "  -1.16656285e-08  1.88883092e-07  1.82480576e-10  1.29909069e-10\n",
      "   1.78692653e-10  1.40572941e-10  3.44556327e-08 -1.59484601e-07\n",
      "   1.34697346e-10  1.25042100e-10  1.33867199e-10  9.82099200e-11\n",
      "   3.12483602e-08 -1.21887091e-08  9.74304094e-11  9.10658023e-11\n",
      "   1.27091767e-10  1.19812714e-10 -4.02986299e-08 -7.50735115e-08\n",
      "   1.40817885e-10  9.93010429e-11  1.19858838e-10  1.03699667e-10\n",
      "  -1.21624042e-08  2.73563243e-08  1.02383381e-10  8.84850570e-11\n",
      "   1.04691549e-10  3.13462013e-11  6.07377371e-08 -1.66041983e-07\n",
      "  -7.10371798e-11 -1.62064918e-11  5.71388558e-11 -2.30816778e-12\n",
      "  -7.33453476e-11 -3.71182176e-11 -2.05577949e-11 -4.39862425e-12\n",
      "   2.09590469e-11 -1.61591707e-11  2.23823043e-11 -3.60259647e-11\n",
      "  -2.87469114e-11 -2.96613576e-11 -7.27905327e-12 -3.64874263e-11\n",
      "  -8.82509917e-12  2.68321798e-11  8.30147378e-13 -3.56572790e-11\n",
      "  -4.19076350e-11 -4.87835840e-11 -1.06638723e-11  3.78792338e-12\n",
      "  -3.81197116e-11 -2.03938001e-11 -2.01889119e-12  2.83074454e-11\n",
      "  -9.93253642e-12 -3.03263366e-11 -5.85705159e-11 -2.97717377e-11\n",
      "   3.23461937e-11 -3.54741543e-12 -6.21179314e-11  6.03052188e-11\n",
      "  -5.31802957e-11 -6.72694461e-11 -4.62160684e-11  1.40891504e-11\n",
      "  -4.28363319e-11  2.99030881e-11  3.25730631e-11  4.01663569e-11\n",
      "  -2.66997498e-12  1.11785816e-11  1.28732421e-14 -1.28429463e-11\n",
      "   1.67723794e-12  1.28558195e-11 -7.23534659e-11 -3.84345037e-11\n",
      "  -1.51672890e-11 -1.08159859e-11  7.29001413e-08 -1.93398307e-07\n",
      "  -1.52146101e-11 -9.91881686e-13 -1.61130466e-11  4.33874753e-11\n",
      "  -7.23292920e-12  8.23524058e-12  2.81362257e-08  1.02429836e-07\n",
      "  -2.05116709e-11 -4.61240747e-14  2.16027938e-11 -3.72669369e-11\n",
      "  -6.77543191e-12 -3.39762975e-11 -7.15469901e-08 -6.28848024e-08\n",
      "  -7.14411766e-12 -2.88818470e-11 -4.23630214e-11 -4.77832301e-11\n",
      "  -4.48254541e-11 -4.86696930e-12 -3.20727247e-09  1.47295892e-07\n",
      "  -1.55308416e-11  6.70574247e-12 -4.68823846e-11 -2.53685498e-11\n",
      "  -3.90890096e-11 -8.58537024e-11  4.61212612e-08 -3.48367693e-07\n",
      "  -5.75462570e-11  8.76267298e-12 -1.93184374e-11 -5.74951532e-11\n",
      "  -5.11100322e-11 -2.33571857e-11 -2.17976715e-08  1.22226354e-07\n",
      "   8.98900798e-12 -1.10078992e-11 -6.22859122e-11  5.65898225e-11\n",
      "   1.39211695e-11  3.73297276e-11  2.62547341e-09  3.28940633e-08\n",
      "  -2.99397185e-11  1.67980893e-13  5.44777808e-11 -4.86637699e-11\n",
      "   3.77186554e-11 -4.53647284e-11  1.70861662e-08 -5.77531422e-08\n",
      "  -1.27916653e-11 -4.03886304e-11 -3.33539410e-11  2.06609725e-11\n",
      "  -1.78281465e-11  1.20620684e-11  5.83312940e-08  4.96476769e-09\n",
      "  -7.80877855e-13  3.06839660e-11  1.70815971e-11  6.29139522e-13\n",
      "  -7.62182415e-14]]\n",
      "intercept =  [1.26806472e-12]\n"
     ]
    }
   ],
   "source": [
    "from sklearn.linear_model import LogisticRegression\n",
    "lrm = LogisticRegression()\n",
    "lrm.fit(x_train, y_train)\n",
    "\n",
    "print(\"coefficient = \", lrm.coef_)\n",
    "print(\"intercept = \", lrm.intercept_)"
   ]
  },
  {
   "cell_type": "code",
   "execution_count": 21,
   "metadata": {},
   "outputs": [
    {
     "name": "stdout",
     "output_type": "stream",
     "text": [
      "confusion matrix = \n",
      " [[ 63 438]\n",
      " [ 57 567]]\n",
      "accuracy =  0.56\n",
      "precision =  0.564179104477612\n",
      "recall =  0.9086538461538461\n",
      "f1 score =  0.696132596685083\n",
      "              precision    recall  f1-score   support\n",
      "\n",
      "       False       0.53      0.13      0.20       501\n",
      "        True       0.56      0.91      0.70       624\n",
      "\n",
      "    accuracy                           0.56      1125\n",
      "   macro avg       0.54      0.52      0.45      1125\n",
      "weighted avg       0.55      0.56      0.48      1125\n",
      "\n"
     ]
    }
   ],
   "source": [
    "from sklearn.metrics import confusion_matrix, accuracy_score, precision_score, recall_score, f1_score, classification_report\n",
    "\n",
    "# テスト\n",
    "y_pred_lr = lrm.predict(x_test)\n",
    "\n",
    "print('confusion matrix = \\n', confusion_matrix(y_true=y_test, y_pred=y_pred_lr))\n",
    "print('accuracy = ', accuracy_score(y_true=y_test, y_pred=y_pred_lr))\n",
    "print('precision = ', precision_score(y_true=y_test, y_pred=y_pred_lr))\n",
    "print('recall = ', recall_score(y_true=y_test, y_pred=y_pred_lr))\n",
    "print('f1 score = ', f1_score(y_true=y_test, y_pred=y_pred_lr))\n",
    "print(classification_report(y_test, y_pred_lr))"
   ]
  },
  {
   "cell_type": "markdown",
   "metadata": {},
   "source": [
    "# ランダムフォレスト"
   ]
  },
  {
   "cell_type": "code",
   "execution_count": 22,
   "metadata": {},
   "outputs": [
    {
     "data": {
      "text/plain": [
       "RandomForestClassifier(bootstrap=True, ccp_alpha=0.0, class_weight=None,\n",
       "                       criterion='gini', max_depth=None, max_features='auto',\n",
       "                       max_leaf_nodes=None, max_samples=None,\n",
       "                       min_impurity_decrease=0.0, min_impurity_split=None,\n",
       "                       min_samples_leaf=1, min_samples_split=2,\n",
       "                       min_weight_fraction_leaf=0.0, n_estimators=100,\n",
       "                       n_jobs=None, oob_score=False, random_state=None,\n",
       "                       verbose=0, warm_start=False)"
      ]
     },
     "execution_count": 22,
     "metadata": {},
     "output_type": "execute_result"
    }
   ],
   "source": [
    "from sklearn.ensemble import RandomForestClassifier\n",
    "rfm = RandomForestClassifier()\n",
    "rfm.fit(x_train, y_train)"
   ]
  },
  {
   "cell_type": "code",
   "execution_count": 23,
   "metadata": {},
   "outputs": [
    {
     "name": "stdout",
     "output_type": "stream",
     "text": [
      "confusion matrix = \n",
      " [[241 260]\n",
      " [302 322]]\n",
      "accuracy =  0.5004444444444445\n",
      "precision =  0.5532646048109966\n",
      "recall =  0.5160256410256411\n",
      "f1 score =  0.5339966832504146\n",
      "              precision    recall  f1-score   support\n",
      "\n",
      "       False       0.53      0.13      0.20       501\n",
      "        True       0.56      0.91      0.70       624\n",
      "\n",
      "    accuracy                           0.56      1125\n",
      "   macro avg       0.54      0.52      0.45      1125\n",
      "weighted avg       0.55      0.56      0.48      1125\n",
      "\n"
     ]
    }
   ],
   "source": [
    "# テスト\n",
    "y_pred_rf = rfm.predict(x_test)\n",
    "\n",
    "print('confusion matrix = \\n', confusion_matrix(y_true=y_test, y_pred=y_pred_rf))\n",
    "print('accuracy = ', accuracy_score(y_true=y_test, y_pred=y_pred_rf))\n",
    "print('precision = ', precision_score(y_true=y_test, y_pred=y_pred_rf))\n",
    "print('recall = ', recall_score(y_true=y_test, y_pred=y_pred_rf))\n",
    "print('f1 score = ', f1_score(y_true=y_test, y_pred=y_pred_rf))\n",
    "print(classification_report(y_test, y_pred_lr))"
   ]
  },
  {
   "cell_type": "markdown",
   "metadata": {},
   "source": [
    "# ランダムフォレストでグリッドサーチ"
   ]
  },
  {
   "cell_type": "code",
   "execution_count": 34,
   "metadata": {},
   "outputs": [
    {
     "data": {
      "text/plain": [
       "GridSearchCV(cv=PurgedKFold(n_overlaps=10, n_splits=5, pct_embargo=0.05),\n",
       "             error_score=nan,\n",
       "             estimator=RandomForestClassifier(bootstrap=True, ccp_alpha=0.0,\n",
       "                                              class_weight=None,\n",
       "                                              criterion='gini', max_depth=None,\n",
       "                                              max_features='auto',\n",
       "                                              max_leaf_nodes=None,\n",
       "                                              max_samples=None,\n",
       "                                              min_impurity_decrease=0.0,\n",
       "                                              min_impurity_split=None,\n",
       "                                              min_samples_leaf=1,\n",
       "                                              min_samples_split=2,\n",
       "                                              min_weight_fraction_leaf=0.0,\n",
       "                                              n_estimators=100, n_jobs=None,\n",
       "                                              oob_score=False,\n",
       "                                              random_state=None, verbose=0,\n",
       "                                              warm_start=False),\n",
       "             iid='deprecated', n_jobs=-1,\n",
       "             param_grid={'max_depth': [40], 'min_samples_leaf': [50],\n",
       "                         'min_samples_split': [20], 'n_estimators': [10]},\n",
       "             pre_dispatch='2*n_jobs', refit=True, return_train_score=False,\n",
       "             scoring=None, verbose=0)"
      ]
     },
     "execution_count": 34,
     "metadata": {},
     "output_type": "execute_result"
    }
   ],
   "source": [
    "from sklearn.model_selection import GridSearchCV\n",
    "params = {\n",
    "    'n_estimators': [10],\n",
    "    'max_depth': [40],\n",
    "    'min_samples_split': [20],\n",
    "    'min_samples_leaf': [50],\n",
    "}\n",
    "#    'min_samples_split': [4, 8, 16],\n",
    "#    'min_samples_leaf': [4, 8, 16]\n",
    "pkf = fl.PurgedKFold(n_splits=5, n_overlaps=10, pct_embargo=0.05)\n",
    "rfcv = GridSearchCV(rfm, params, cv=pkf, n_jobs=-1)\n",
    "rfcv.fit(x_train, y_train)"
   ]
  },
  {
   "cell_type": "code",
   "execution_count": 35,
   "metadata": {},
   "outputs": [
    {
     "name": "stdout",
     "output_type": "stream",
     "text": [
      "best parameters: {'max_depth': 40, 'min_samples_leaf': 50, 'min_samples_split': 20, 'n_estimators': 10}\n",
      "training accuracy: 0.6729657625611383\n",
      "training accuracy: 0.504\n"
     ]
    }
   ],
   "source": [
    "from sklearn.metrics import accuracy_score\n",
    "rf_best = rfcv.best_estimator_\n",
    "print('best parameters:', rfcv.best_params_)\n",
    "\n",
    "y_pred_tr = rf_best.predict(x_train)\n",
    "print(f'training accuracy: {accuracy_score(y_train, y_pred_tr)}')\n",
    "\n",
    "y_pred_te = rf_best.predict(x_test)\n",
    "print(f'training accuracy: {accuracy_score(y_test, y_pred_te)}')"
   ]
  },
  {
   "cell_type": "markdown",
   "metadata": {},
   "source": []
  },
  {
   "cell_type": "code",
   "execution_count": null,
   "metadata": {},
   "outputs": [],
   "source": []
  }
 ],
 "metadata": {
  "kernelspec": {
   "display_name": "Python 3",
   "language": "python",
   "name": "python3"
  },
  "language_info": {
   "codemirror_mode": {
    "name": "ipython",
    "version": 3
   },
   "file_extension": ".py",
   "mimetype": "text/x-python",
   "name": "python",
   "nbconvert_exporter": "python",
   "pygments_lexer": "ipython3",
   "version": "3.8.2"
  }
 },
 "nbformat": 4,
 "nbformat_minor": 4
}
