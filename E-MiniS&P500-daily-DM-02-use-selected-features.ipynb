{
 "cells": [
  {
   "cell_type": "markdown",
   "metadata": {},
   "source": [
    "# 過去10日間のデータから当日上昇するか否かを予測するモデル\n",
    "\n",
    "「E-MiniS&P500-daily-DM-01.ipynb」の実験結果をもとに使用する特徴量を絞って再度同じ検証をしてみる。\n",
    "使用する特徴量は\n",
    "- OI\n",
    "- Vol\n",
    "\n",
    "- CLDiff\n",
    "- HLDiff\n",
    "- HCDiff\n",
    "\n",
    "- OISlope\n",
    "- VSlope\n",
    "- LSlope\n",
    "- CSlope\n",
    "- CLSlope\n",
    "- HCSlope\n",
    "\n",
    "## モデル\n",
    "\n",
    "- ロジスティック回帰\n",
    "- ランダムフォレスト\n",
    "- 線形SVM\n",
    "- 非線形SVM\n",
    "\n",
    "# 結論\n",
    "- 特徴量をしぼっても過学習の問題は避けられなかった。「E-MiniS&P500-daily-DM-01.ipynb」のときと結果はほぼ同じで、木の数を増やすなどモデルを柔軟にすれば、学習データにフィットするがテストデータではランダム。モデルの柔軟性を下げると、学習データのフィットは悪くなり、テストデータではやはりランダム。\n",
    "- 今回は、まずは有用な特徴量だけを使うことで過学習を抑制できると考えた。そこで「E-MiniS&P500-daily-DM-01.ipynb」のテストデータ性能がどうであれ、様々なパラメータの組み合わせを試して重要度が高かった特徴量はやはり重要なのではないかと考えて、今回の学習にそれらの特徴量だけを使うというやり方をしたが、この仮説を支持することはできなかった。\n",
    "    - 原因としては３つ考えられる。\n",
    "        1. 極端な過学習という問題を、重要な特徴量に絞っても抑制できなかったため、その特徴量が実際に重要だったのかどうかを判断できない。\n",
    "        2. 汎化性能が皆無のモデルで重要度が高かった特徴量は、実際に重要な特徴量ではない。\n",
    "        3. 特徴量の重要度の測り方に問題があった。なぜなら、どの特徴量も非常に重要度の値は小さかったため、差があったとは言えない可能性がある。\n",
    "- いずれにしても、1番目より、そもそも今回の方法では２つのこと、つまり「重要な特徴量だけを使えば過学習を抑制することができる」と「今回の方法で重要な特徴量を選別することができる」という2つのことを同時に仮定してしまっているため、このやり方だけでは結論を導くことができない。\n",
    "- 特徴量の選別については、おそらく以下の方法で探すのが効率的だろう。\n",
    "    1. 経験豊富なトレーダーの意見\n",
    "    2. データマイニング\n",
    "- そこで、1.に対しては、引き続き本を読んでアイディアを集めることともう一つは、自分自身もまずは裁量トレードの経験を積んで勘を養う。2.に対しては、複数モデル × 複数データの組み合わせで片っ端から学習させてみることでよい汎化性能を持つモデルとデータの組み合わせを探索するデータマイニングシステムを構築して、特徴量を探索する。"
   ]
  },
  {
   "cell_type": "code",
   "execution_count": 3,
   "metadata": {},
   "outputs": [
    {
     "data": {
      "text/plain": [
       "'en_US.UTF-8'"
      ]
     },
     "execution_count": 3,
     "metadata": {},
     "output_type": "execute_result"
    }
   ],
   "source": [
    "%matplotlib inline\n",
    "\n",
    "import numpy as np\n",
    "import pandas as pd\n",
    "from pandas.api.types import CategoricalDtype\n",
    "import matplotlib as mpl\n",
    "import matplotlib.pyplot as plt\n",
    "import matplotlib.ticker as ticker\n",
    "import seaborn as sns\n",
    "import scipy\n",
    "import scipy.stats as st\n",
    "import statsmodels.stats.anova as anova\n",
    "from statsmodels.stats.multicomp import pairwise_tukeyhsd\n",
    "import datetime as dt\n",
    "from dateutil.relativedelta import relativedelta\n",
    "import locale\n",
    "\n",
    "import finalib as fl\n",
    "\n",
    "# 月や曜日を英語で取得するためこの設定をしておく\n",
    "locale.setlocale(locale.LC_TIME, 'en_US.UTF-8')"
   ]
  },
  {
   "cell_type": "markdown",
   "metadata": {},
   "source": [
    "# データ読み込み\n",
    "\n",
    "- E-MiniS&P500の日足データ（TradeStationからエクスポートしたもの）\n",
    "- 最新の限月価格を基準にして過去の限月価格との差額を単純に過去限月価格に足して限月間のずれを解消したつなぎ足データ\n",
    "    - 単純な方法でよく用いられるが、過去限月の価格が0以下になることがある\n",
    "    - 今回のデータでは、Open, High, Low, Closeで0以下の値はない"
   ]
  },
  {
   "cell_type": "code",
   "execution_count": 4,
   "metadata": {},
   "outputs": [
    {
     "name": "stdout",
     "output_type": "stream",
     "text": [
      "<class 'pandas.core.frame.DataFrame'>\n",
      "RangeIndex: 5729 entries, 0 to 5728\n",
      "Data columns (total 8 columns):\n",
      " #   Column  Non-Null Count  Dtype  \n",
      "---  ------  --------------  -----  \n",
      " 0   Date    5729 non-null   object \n",
      " 1   Time    5729 non-null   object \n",
      " 2   Open    5729 non-null   float64\n",
      " 3   High    5729 non-null   float64\n",
      " 4   Low     5729 non-null   float64\n",
      " 5   Close   5729 non-null   float64\n",
      " 6   Vol     5729 non-null   int64  \n",
      " 7   OI      5729 non-null   int64  \n",
      "dtypes: float64(4), int64(2), object(2)\n",
      "memory usage: 358.2+ KB\n"
     ]
    }
   ],
   "source": [
    "base_dir = 'data/e-mini-sp500-200530'\n",
    "df_raw = pd.read_csv(f'{base_dir}/e-mini-sp500-daily.csv')\n",
    "df_raw.info()"
   ]
  },
  {
   "cell_type": "markdown",
   "metadata": {},
   "source": [
    "# ベースデータ作成\n",
    "\n",
    "- 過去10足分まで見れるデータにする\n",
    "- 二次的指標の追加\n",
    "    - 「E-MiniS&P500-daily-DM-01.ipynb」の実験結果をもとに絞った特徴量を追加"
   ]
  },
  {
   "cell_type": "code",
   "execution_count": 5,
   "metadata": {},
   "outputs": [
    {
     "data": {
      "text/html": [
       "<div>\n",
       "<style scoped>\n",
       "    .dataframe tbody tr th:only-of-type {\n",
       "        vertical-align: middle;\n",
       "    }\n",
       "\n",
       "    .dataframe tbody tr th {\n",
       "        vertical-align: top;\n",
       "    }\n",
       "\n",
       "    .dataframe thead th {\n",
       "        text-align: right;\n",
       "    }\n",
       "</style>\n",
       "<table border=\"1\" class=\"dataframe\">\n",
       "  <thead>\n",
       "    <tr style=\"text-align: right;\">\n",
       "      <th></th>\n",
       "      <th>Date</th>\n",
       "      <th>Time</th>\n",
       "      <th>Open10</th>\n",
       "      <th>High10</th>\n",
       "      <th>Low10</th>\n",
       "      <th>Close10</th>\n",
       "      <th>Vol10</th>\n",
       "      <th>OI10</th>\n",
       "      <th>Open9</th>\n",
       "      <th>High9</th>\n",
       "      <th>...</th>\n",
       "      <th>Low1</th>\n",
       "      <th>Close1</th>\n",
       "      <th>Vol1</th>\n",
       "      <th>OI1</th>\n",
       "      <th>Open0</th>\n",
       "      <th>High0</th>\n",
       "      <th>Low0</th>\n",
       "      <th>Close0</th>\n",
       "      <th>Vol0</th>\n",
       "      <th>OI0</th>\n",
       "    </tr>\n",
       "  </thead>\n",
       "  <tbody>\n",
       "    <tr>\n",
       "      <th>0</th>\n",
       "      <td>09/25/1997</td>\n",
       "      <td>17:00</td>\n",
       "      <td>1071.25</td>\n",
       "      <td>1082.25</td>\n",
       "      <td>1062.75</td>\n",
       "      <td>1068.50</td>\n",
       "      <td>11825</td>\n",
       "      <td>2909</td>\n",
       "      <td>1070.50</td>\n",
       "      <td>1089.00</td>\n",
       "      <td>...</td>\n",
       "      <td>1104.5</td>\n",
       "      <td>1106.00</td>\n",
       "      <td>14580.0</td>\n",
       "      <td>6194.0</td>\n",
       "      <td>1106.25</td>\n",
       "      <td>1110.0</td>\n",
       "      <td>1098.00</td>\n",
       "      <td>1099.25</td>\n",
       "      <td>14114.0</td>\n",
       "      <td>6132.0</td>\n",
       "    </tr>\n",
       "    <tr>\n",
       "      <th>1</th>\n",
       "      <td>09/26/1997</td>\n",
       "      <td>17:00</td>\n",
       "      <td>1070.50</td>\n",
       "      <td>1089.00</td>\n",
       "      <td>1066.00</td>\n",
       "      <td>1071.25</td>\n",
       "      <td>9759</td>\n",
       "      <td>4059</td>\n",
       "      <td>1086.00</td>\n",
       "      <td>1092.25</td>\n",
       "      <td>...</td>\n",
       "      <td>1098.0</td>\n",
       "      <td>1099.25</td>\n",
       "      <td>14114.0</td>\n",
       "      <td>6132.0</td>\n",
       "      <td>1099.00</td>\n",
       "      <td>1109.0</td>\n",
       "      <td>1099.00</td>\n",
       "      <td>1106.00</td>\n",
       "      <td>12049.0</td>\n",
       "      <td>5666.0</td>\n",
       "    </tr>\n",
       "    <tr>\n",
       "      <th>2</th>\n",
       "      <td>09/29/1997</td>\n",
       "      <td>17:00</td>\n",
       "      <td>1086.00</td>\n",
       "      <td>1092.25</td>\n",
       "      <td>1081.50</td>\n",
       "      <td>1083.75</td>\n",
       "      <td>8551</td>\n",
       "      <td>3818</td>\n",
       "      <td>1083.75</td>\n",
       "      <td>1112.50</td>\n",
       "      <td>...</td>\n",
       "      <td>1099.0</td>\n",
       "      <td>1106.00</td>\n",
       "      <td>12049.0</td>\n",
       "      <td>5666.0</td>\n",
       "      <td>1105.75</td>\n",
       "      <td>1117.0</td>\n",
       "      <td>1102.75</td>\n",
       "      <td>1114.50</td>\n",
       "      <td>11104.0</td>\n",
       "      <td>5722.0</td>\n",
       "    </tr>\n",
       "  </tbody>\n",
       "</table>\n",
       "<p>3 rows × 68 columns</p>\n",
       "</div>"
      ],
      "text/plain": [
       "         Date   Time   Open10   High10    Low10  Close10  Vol10  OI10  \\\n",
       "0  09/25/1997  17:00  1071.25  1082.25  1062.75  1068.50  11825  2909   \n",
       "1  09/26/1997  17:00  1070.50  1089.00  1066.00  1071.25   9759  4059   \n",
       "2  09/29/1997  17:00  1086.00  1092.25  1081.50  1083.75   8551  3818   \n",
       "\n",
       "     Open9    High9  ...    Low1   Close1     Vol1     OI1    Open0   High0  \\\n",
       "0  1070.50  1089.00  ...  1104.5  1106.00  14580.0  6194.0  1106.25  1110.0   \n",
       "1  1086.00  1092.25  ...  1098.0  1099.25  14114.0  6132.0  1099.00  1109.0   \n",
       "2  1083.75  1112.50  ...  1099.0  1106.00  12049.0  5666.0  1105.75  1117.0   \n",
       "\n",
       "      Low0   Close0     Vol0     OI0  \n",
       "0  1098.00  1099.25  14114.0  6132.0  \n",
       "1  1099.00  1106.00  12049.0  5666.0  \n",
       "2  1102.75  1114.50  11104.0  5722.0  \n",
       "\n",
       "[3 rows x 68 columns]"
      ]
     },
     "execution_count": 5,
     "metadata": {},
     "output_type": "execute_result"
    }
   ],
   "source": [
    "# 過去N足分まで見れるデータにする\n",
    "\n",
    "# 何足分見るか\n",
    "N_BARS = 10\n",
    "\n",
    "df = fl.make_nbars(df_raw, N_BARS, cols=['Open', 'High', 'Low', 'Close', 'Vol', 'OI'])\n",
    "#fl.make_nbars(df_raw[:21], 10)\n",
    "df.head(3)"
   ]
  },
  {
   "cell_type": "code",
   "execution_count": 6,
   "metadata": {},
   "outputs": [],
   "source": [
    "# 値動き指標を追加\n",
    "\n",
    "# イントラバーの値動き\n",
    "for i in range(N_BARS+1):\n",
    "    df[f'CODiff{i}'] = df[f'Close{i}'] - df[f'Open{i}'] # 終値 - 始値\n",
    "    df[f'HLDiff{i}'] = df[f'High{i}'] - df[f'Low{i}'] # 高値 - 安値\n",
    "    df[f'HCDiff{i}'] = df[f'High{i}'] - df[f'Close{i}'] # 高値 - 終値\n",
    "    #df[f'OLDiff{i}'] = df[f'Open{i}'] - df[f'Low{i}'] # 始値 - 安値\n",
    "    df[f'CLDiff{i}'] = df[f'Close{i}'] - df[f'Low{i}'] # 終値 - 安値\n",
    "    \n",
    "# 2足間の値動き\n",
    "for i in range(N_BARS):\n",
    "    df[f'CSlope{i}'] = df[f'Close{i}'] - df[f'Close{i+1}'] # ある日の終値 - 前日の終値\n",
    "    df[f'LSlope{i}'] = df[f'Low{i}'] - df[f'Low{i+1}'] # ある日の安値 - 前日の安値\n",
    "    df[f'VSlope{i}'] = df[f'Vol{i}'] - df[f'Vol{i+1}'] # ある日の出来高 - 前日の出来高\n",
    "    df[f'OISlope{i}'] = df[f'OI{i}'] - df[f'OI{i+1}'] # ある日の建玉数 - 前日の建玉数\n",
    "    df[f'HCSlope{i}'] = df[f'High{i}'] - df[f'Close{i+1}'] # ある日の高値 - 前日の終値\n",
    "    df[f'CLSlope{i}'] = df[f'Close{i+1}'] - df[f'Low{i}'] # ある日の前日の終値 - ある日の安値"
   ]
  },
  {
   "cell_type": "code",
   "execution_count": 7,
   "metadata": {},
   "outputs": [
    {
     "name": "stdout",
     "output_type": "stream",
     "text": [
      "<class 'pandas.core.frame.DataFrame'>\n",
      "RangeIndex: 5633 entries, 0 to 5632\n",
      "Columns: 172 entries, Date to CLSlope9\n",
      "dtypes: float64(168), int64(2), object(2)\n",
      "memory usage: 7.4+ MB\n",
      "\n",
      "始めのデータ\n",
      "          Date   Time  Open10  High10   Low10  Close10  Vol10  OI10    Open9  \\\n",
      "0  1997-10-01  17:00  1108.5  1115.0  1104.0   1108.5  10849  5516  1108.25   \n",
      "\n",
      "    High9  ...  VSlope8  OISlope8  HCSlope8  CLSlope8  CSlope9  LSlope9  \\\n",
      "0  1123.0  ...  -1708.0    -286.0      5.25       5.0      2.0     3.25   \n",
      "\n",
      "   VSlope9  OISlope9  HCSlope9  CLSlope9  \n",
      "0    739.0     606.0      14.5      1.25  \n",
      "\n",
      "[1 rows x 172 columns]\n",
      "\n",
      "終わりのデータ\n",
      "             Date   Time  Open10   High10    Low10  Close10    Vol10     OI10  \\\n",
      "5632  2020-01-31  17:00  3283.0  3306.75  3282.75  3305.25  1335246  2716639   \n",
      "\n",
      "       Open9   High9  ...   VSlope8  OISlope8  HCSlope8  CLSlope8  CSlope9  \\\n",
      "5632  3305.5  3319.0  ...  260934.0   20279.0      4.75     17.75      8.5   \n",
      "\n",
      "      LSlope9  VSlope9  OISlope9  HCSlope9  CLSlope9  \n",
      "5632     22.0 -22993.0   -5714.0     13.75       0.5  \n",
      "\n",
      "[1 rows x 172 columns]\n"
     ]
    }
   ],
   "source": [
    "# DateをDatetime型にする\n",
    "df['Date'] = df['Date'].map(lambda s: dt.datetime.strptime(s, '%m/%d/%Y').date())\n",
    "\n",
    "# 始まりの年月と終わりの年月（終わりは含まない）\n",
    "s_year, s_month = 1997, 10\n",
    "e_year, e_month = 2020, 2\n",
    "\n",
    "df = df[(df['Date'] >= dt.date(s_year,s_month,1)) & (df['Date'] < dt.date(e_year,e_month,1))]\n",
    "df = df.reset_index(drop=True)\n",
    "df.info()\n",
    "print('\\n始めのデータ\\n', df[:1])\n",
    "print('\\n終わりのデータ\\n', df[-1:])"
   ]
  },
  {
   "cell_type": "code",
   "execution_count": 8,
   "metadata": {},
   "outputs": [],
   "source": [
    "# 年列を入れる\n",
    "df['year'] = df['Date'].map(lambda date: date.year)"
   ]
  },
  {
   "cell_type": "markdown",
   "metadata": {},
   "source": [
    "# 学習用データ作成\n",
    "\n",
    "過去10日間の全指標から、当日上昇するか否かを予測するための学習用データ\n",
    "\n",
    "- `Date`, `Time`, `year`は不要\n",
    "- 「E-MiniS&P500-daily-DM-01.ipynb」の結果に基づいて、以下は不要\n",
    "    - `OLDiff`, `CODiff`\n",
    "- 当日の指標については、`CODiff0`以外は不要\n",
    "- `CODiff0`から当日上昇する場合は1そうでない場合は0となる二値データ列（`isUp`）を作成\n",
    "    - その後`CODiff0`も不要"
   ]
  },
  {
   "cell_type": "code",
   "execution_count": 9,
   "metadata": {},
   "outputs": [
    {
     "data": {
      "text/html": [
       "<div>\n",
       "<style scoped>\n",
       "    .dataframe tbody tr th:only-of-type {\n",
       "        vertical-align: middle;\n",
       "    }\n",
       "\n",
       "    .dataframe tbody tr th {\n",
       "        vertical-align: top;\n",
       "    }\n",
       "\n",
       "    .dataframe thead th {\n",
       "        text-align: right;\n",
       "    }\n",
       "</style>\n",
       "<table border=\"1\" class=\"dataframe\">\n",
       "  <thead>\n",
       "    <tr style=\"text-align: right;\">\n",
       "      <th></th>\n",
       "      <th>CODiff0</th>\n",
       "      <th>isUp</th>\n",
       "    </tr>\n",
       "  </thead>\n",
       "  <tbody>\n",
       "    <tr>\n",
       "      <th>0</th>\n",
       "      <td>7.75</td>\n",
       "      <td>True</td>\n",
       "    </tr>\n",
       "    <tr>\n",
       "      <th>1</th>\n",
       "      <td>5.50</td>\n",
       "      <td>True</td>\n",
       "    </tr>\n",
       "    <tr>\n",
       "      <th>2</th>\n",
       "      <td>6.00</td>\n",
       "      <td>True</td>\n",
       "    </tr>\n",
       "    <tr>\n",
       "      <th>3</th>\n",
       "      <td>0.75</td>\n",
       "      <td>True</td>\n",
       "    </tr>\n",
       "    <tr>\n",
       "      <th>4</th>\n",
       "      <td>9.25</td>\n",
       "      <td>True</td>\n",
       "    </tr>\n",
       "    <tr>\n",
       "      <th>5</th>\n",
       "      <td>-7.50</td>\n",
       "      <td>False</td>\n",
       "    </tr>\n",
       "  </tbody>\n",
       "</table>\n",
       "</div>"
      ],
      "text/plain": [
       "   CODiff0   isUp\n",
       "0     7.75   True\n",
       "1     5.50   True\n",
       "2     6.00   True\n",
       "3     0.75   True\n",
       "4     9.25   True\n",
       "5    -7.50  False"
      ]
     },
     "execution_count": 9,
     "metadata": {},
     "output_type": "execute_result"
    }
   ],
   "source": [
    "# Up0列追加\n",
    "# 注意：1なら上昇、0なら横ばいか下降\n",
    "dfp = df.copy()\n",
    "#dfp['isUp'] = dfp['CODiff0'].map(lambda x: 1 if x > 0 else 0)\n",
    "dfp['isUp'] = dfp['CODiff0'] > 0\n",
    "dfp[['CODiff0', 'isUp']].head(6)"
   ]
  },
  {
   "cell_type": "code",
   "execution_count": 10,
   "metadata": {},
   "outputs": [
    {
     "data": {
      "text/plain": [
       "isUp\n",
       "False    2613\n",
       "True     3020\n",
       "Name: isUp, dtype: int64"
      ]
     },
     "execution_count": 10,
     "metadata": {},
     "output_type": "execute_result"
    }
   ],
   "source": [
    "# ポジティブとネガティブで偏りがないか\n",
    "dfp.groupby('isUp')['isUp'].count()\n",
    "\n",
    "# あまりない"
   ]
  },
  {
   "cell_type": "code",
   "execution_count": 11,
   "metadata": {},
   "outputs": [
    {
     "name": "stdout",
     "output_type": "stream",
     "text": [
      "もとデータのサンプル数 = 5633\n",
      "訓練データのサンプル数 = 4498\n",
      "テストデータのサンプル数 = 1125\n",
      "いくつのサンプルがパージされたか：10\n"
     ]
    }
   ],
   "source": [
    "# 訓練データを何割にするか\n",
    "train_ratio = 0.8\n",
    "\n",
    "train_df, test_df = fl.split_data(dfp, train_ratio, purging=True, n_bars=N_BARS+1)\n",
    "\n",
    "print(f'もとデータのサンプル数 = {df.shape[0]}')\n",
    "print(f'訓練データのサンプル数 = {train_df.shape[0]}')\n",
    "print(f'テストデータのサンプル数 = {test_df.shape[0]}')\n",
    "print(f'いくつのサンプルがパージされたか：{df.shape[0] - train_df.shape[0] - test_df.shape[0]}')"
   ]
  },
  {
   "cell_type": "code",
   "execution_count": 12,
   "metadata": {},
   "outputs": [
    {
     "name": "stdout",
     "output_type": "stream",
     "text": [
      "訓練データの期間：1997-10-01 - 2015-07-29\n",
      "テストデータの期間：2015-08-13 - 2020-01-31\n"
     ]
    },
    {
     "data": {
      "text/plain": [
       "<matplotlib.axes._subplots.AxesSubplot at 0x7faf42aded90>"
      ]
     },
     "execution_count": 12,
     "metadata": {},
     "output_type": "execute_result"
    },
    {
     "data": {
      "image/png": "[encoded data removed]",
      "text/plain": [
       "<Figure size 1440x288 with 2 Axes>"
      ]
     },
     "metadata": {
      "needs_background": "light"
     },
     "output_type": "display_data"
    }
   ],
   "source": [
    "# 各データの期間\n",
    "print(f\"訓練データの期間：{train_df['Date'].iloc[0].strftime('%Y-%m-%d')} - {train_df['Date'].iloc[-1].strftime('%Y-%m-%d')}\")\n",
    "print(f\"テストデータの期間：{test_df['Date'].iloc[0].strftime('%Y-%m-%d')} - {test_df['Date'].iloc[-1].strftime('%Y-%m-%d')}\")\n",
    "fix, ax = plt.subplots(1, 2, figsize=(20, 4))\n",
    "train_df['Close0'].plot(ax=ax[0])\n",
    "test_df['Close0'].plot(ax=ax[1])"
   ]
  },
  {
   "cell_type": "code",
   "execution_count": 13,
   "metadata": {},
   "outputs": [],
   "source": [
    "# 不要な列を削除\n",
    "drop_cols = ['Date','Time','year','Open0','High0','Low0','Close0','Vol0','OI0','CODiff0','HLDiff0',\n",
    "             'HCDiff0','CLDiff0','CSlope0','LSlope0','VSlope0','OISlope0','HCSlope0','CLSlope0',\n",
    "             'CODiff1','CODiff2','CODiff3','CODiff4','CODiff5','CODiff6','CODiff7','CODiff8','CODiff9','CODiff10'\n",
    "             ]\n",
    "drop_cols = drop_cols \\\n",
    "            + [f'Open{i}' for i in range(1,11)] \\\n",
    "            + [f'High{i}' for i in range(1,11)] \\\n",
    "            + [f'Low{i}' for i in range(1,11)] \\\n",
    "            + [f'Close{i}' for i in range(1,11)]\n",
    "train_data = train_df.drop(drop_cols, axis=1)\n",
    "test_data = test_df.drop(drop_cols, axis=1)"
   ]
  },
  {
   "cell_type": "markdown",
   "metadata": {},
   "source": [
    "# 入力と出力"
   ]
  },
  {
   "cell_type": "code",
   "execution_count": 14,
   "metadata": {},
   "outputs": [],
   "source": [
    "x_train = train_data.drop(['isUp'], axis=1)\n",
    "y_train = train_data['isUp']\n",
    "\n",
    "x_test = test_data.drop(['isUp'], axis=1)\n",
    "y_test = test_data['isUp']"
   ]
  },
  {
   "cell_type": "markdown",
   "metadata": {},
   "source": [
    "# ロジスティック回帰"
   ]
  },
  {
   "cell_type": "code",
   "execution_count": 15,
   "metadata": {},
   "outputs": [
    {
     "name": "stdout",
     "output_type": "stream",
     "text": [
      "traininig accuracy =  0.5411293908403735\n",
      "coefficient =  [[-6.78806415e-08  8.64945260e-08 -9.59534184e-09  9.15418372e-08\n",
      "   7.48577751e-09  3.37474310e-08  1.01271071e-08  6.66155186e-08\n",
      "  -1.16640886e-08  1.88800741e-07  3.44399847e-08 -1.59390416e-07\n",
      "   3.12433829e-08 -1.21577399e-08 -4.02822975e-08 -7.50745142e-08\n",
      "  -1.21347993e-08  2.72036104e-08  6.06981687e-08 -1.65859167e-07\n",
      "  -1.61499984e-11  5.69655301e-11 -7.31155285e-11 -2.04936446e-11\n",
      "  -4.38518968e-12 -1.61084549e-11 -3.59121386e-11 -2.86577241e-11\n",
      "  -7.25441452e-12 -8.79635341e-12  2.67480757e-11 -3.55444291e-11\n",
      "  -4.86231569e-11 -1.06249415e-11 -3.79982153e-11 -2.01401027e-12\n",
      "   2.82192009e-11 -3.02332112e-11 -2.96760164e-11  3.22454273e-11\n",
      "  -6.19214438e-11 -5.30108900e-11 -6.70560608e-11  1.40451708e-11\n",
      "   2.98118816e-11  3.24739561e-11 -2.66207450e-12  1.18748145e-14\n",
      "  -1.28047187e-11  1.28165935e-11 -7.21324657e-11 -1.51253922e-11\n",
      "   7.28329680e-08 -1.93062777e-07 -1.51669356e-11 -9.83062756e-13\n",
      "  -1.60606760e-11 -7.20663553e-12  2.81474982e-08  1.02278125e-07\n",
      "  -2.04458656e-11 -4.77789959e-14  2.15365765e-11 -6.75343807e-12\n",
      "  -7.15256804e-08 -6.29167743e-08 -7.12114758e-12 -2.87909911e-11\n",
      "  -4.22286376e-11 -4.46824238e-11 -3.19660185e-09  1.47232676e-07\n",
      "  -1.54805618e-11  6.68420842e-12 -4.67402651e-11 -3.89752610e-11\n",
      "   4.61040733e-08 -3.48191157e-07 -5.73652067e-11  8.74204978e-12\n",
      "  -1.92578639e-11 -5.09460965e-11 -2.17911957e-08  1.22185222e-07\n",
      "   8.96133697e-12 -1.09753472e-11 -6.20900205e-11  1.38765941e-11\n",
      "   2.64132960e-09  3.28680876e-08 -2.98445932e-11  1.68576752e-13\n",
      "   5.43042552e-11  3.75970099e-11  1.70811193e-08 -5.77944062e-08\n",
      "  -1.27518056e-11 -4.02590844e-11 -3.32525207e-11 -1.77738527e-11\n",
      "   5.82852997e-08  5.04731120e-09 -7.78564589e-13  3.05904462e-11]]\n",
      "intercept =  [1.26424199e-12]\n"
     ]
    }
   ],
   "source": [
    "from sklearn.metrics import confusion_matrix, accuracy_score, precision_score, recall_score, f1_score, classification_report\n",
    "from sklearn.linear_model import LogisticRegression\n",
    "lrm = LogisticRegression()\n",
    "lrm.fit(x_train, y_train)\n",
    "\n",
    "y_pred_train_lrm = lrm.predict(x_train)\n",
    "\n",
    "pritn('score = ', lrm.)\n",
    "print('traininig accuracy = ', accuracy_score(y_true=y_train, y_pred=y_pred_train_lrm))\n",
    "print(\"coefficient = \", lrm.coef_)\n",
    "print(\"intercept = \", lrm.intercept_)"
   ]
  },
  {
   "cell_type": "code",
   "execution_count": 16,
   "metadata": {},
   "outputs": [
    {
     "name": "stdout",
     "output_type": "stream",
     "text": [
      "confusion matrix = \n",
      " [[ 63 438]\n",
      " [ 57 567]]\n",
      "accuracy =  0.56\n",
      "precision =  0.564179104477612\n",
      "recall =  0.9086538461538461\n",
      "f1 score =  0.696132596685083\n",
      "              precision    recall  f1-score   support\n",
      "\n",
      "       False       0.53      0.13      0.20       501\n",
      "        True       0.56      0.91      0.70       624\n",
      "\n",
      "    accuracy                           0.56      1125\n",
      "   macro avg       0.54      0.52      0.45      1125\n",
      "weighted avg       0.55      0.56      0.48      1125\n",
      "\n"
     ]
    }
   ],
   "source": [
    "# テスト\n",
    "y_pred_lr = lrm.predict(x_test)\n",
    "\n",
    "print('confusion matrix = \\n', confusion_matrix(y_true=y_test, y_pred=y_pred_lr))\n",
    "print('accuracy = ', accuracy_score(y_true=y_test, y_pred=y_pred_lr))\n",
    "print('precision = ', precision_score(y_true=y_test, y_pred=y_pred_lr))\n",
    "print('recall = ', recall_score(y_true=y_test, y_pred=y_pred_lr))\n",
    "print('f1 score = ', f1_score(y_true=y_test, y_pred=y_pred_lr))\n",
    "print(classification_report(y_test, y_pred_lr))"
   ]
  },
  {
   "cell_type": "markdown",
   "metadata": {},
   "source": [
    "# ランダムフォレスト"
   ]
  },
  {
   "cell_type": "code",
   "execution_count": 76,
   "metadata": {},
   "outputs": [
    {
     "name": "stdout",
     "output_type": "stream",
     "text": [
      "traininig accuracy =  0.5411293908403735\n"
     ]
    }
   ],
   "source": [
    "from sklearn.ensemble import RandomForestClassifier\n",
    "rfm = RandomForestClassifier()\n",
    "rfm.fit(x_train, y_train)\n",
    "\n",
    "y_pred_train_rfm = lrm.predict(x_train)\n",
    "\n",
    "print('traininig accuracy = ', accuracy_score(y_true=y_train, y_pred=y_pred_train_rfm))"
   ]
  },
  {
   "cell_type": "code",
   "execution_count": 77,
   "metadata": {},
   "outputs": [
    {
     "name": "stdout",
     "output_type": "stream",
     "text": [
      "confusion matrix = \n",
      " [[214 287]\n",
      " [247 377]]\n",
      "accuracy =  0.5253333333333333\n",
      "precision =  0.5677710843373494\n",
      "recall =  0.6041666666666666\n",
      "f1 score =  0.5854037267080744\n",
      "              precision    recall  f1-score   support\n",
      "\n",
      "       False       0.53      0.13      0.20       501\n",
      "        True       0.56      0.91      0.70       624\n",
      "\n",
      "    accuracy                           0.56      1125\n",
      "   macro avg       0.54      0.52      0.45      1125\n",
      "weighted avg       0.55      0.56      0.48      1125\n",
      "\n"
     ]
    }
   ],
   "source": [
    "# テスト\n",
    "y_pred_rf = rfm.predict(x_test)\n",
    "\n",
    "print('confusion matrix = \\n', confusion_matrix(y_true=y_test, y_pred=y_pred_rf))\n",
    "print('accuracy = ', accuracy_score(y_true=y_test, y_pred=y_pred_rf))\n",
    "print('precision = ', precision_score(y_true=y_test, y_pred=y_pred_rf))\n",
    "print('recall = ', recall_score(y_true=y_test, y_pred=y_pred_rf))\n",
    "print('f1 score = ', f1_score(y_true=y_test, y_pred=y_pred_rf))\n",
    "print(classification_report(y_test, y_pred_lr))"
   ]
  },
  {
   "cell_type": "markdown",
   "metadata": {},
   "source": [
    "# ランダムフォレスト（バギング）でグリッドサーチ"
   ]
  },
  {
   "cell_type": "code",
   "execution_count": 92,
   "metadata": {},
   "outputs": [
    {
     "name": "stdout",
     "output_type": "stream",
     "text": [
      "Fitting 10 folds for each of 1470 candidates, totalling 14700 fits\n"
     ]
    },
    {
     "name": "stderr",
     "output_type": "stream",
     "text": [
      "[Parallel(n_jobs=-1)]: Using backend LokyBackend with 6 concurrent workers.\n",
      "[Parallel(n_jobs=-1)]: Done  38 tasks      | elapsed:    2.1s\n",
      "[Parallel(n_jobs=-1)]: Done 334 tasks      | elapsed:   10.7s\n",
      "[Parallel(n_jobs=-1)]: Done 834 tasks      | elapsed:   24.7s\n",
      "[Parallel(n_jobs=-1)]: Done 1534 tasks      | elapsed:   44.5s\n",
      "[Parallel(n_jobs=-1)]: Done 2434 tasks      | elapsed:  1.2min\n",
      "[Parallel(n_jobs=-1)]: Done 3534 tasks      | elapsed:  1.9min\n",
      "[Parallel(n_jobs=-1)]: Done 4834 tasks      | elapsed:  2.9min\n",
      "[Parallel(n_jobs=-1)]: Done 6334 tasks      | elapsed:  4.2min\n",
      "[Parallel(n_jobs=-1)]: Done 7212 tasks      | elapsed:  5.3min\n",
      "[Parallel(n_jobs=-1)]: Done 8162 tasks      | elapsed:  6.4min\n",
      "[Parallel(n_jobs=-1)]: Done 9212 tasks      | elapsed:  7.9min\n",
      "[Parallel(n_jobs=-1)]: Done 10362 tasks      | elapsed:  9.6min\n",
      "[Parallel(n_jobs=-1)]: Done 11612 tasks      | elapsed: 12.0min\n",
      "[Parallel(n_jobs=-1)]: Done 12962 tasks      | elapsed: 14.4min\n",
      "[Parallel(n_jobs=-1)]: Done 14412 tasks      | elapsed: 17.0min\n",
      "[Parallel(n_jobs=-1)]: Done 14700 out of 14700 | elapsed: 17.5min finished\n"
     ]
    },
    {
     "data": {
      "text/plain": [
       "GridSearchCV(cv=PurgedKFold(n_overlaps=10, n_splits=10, pct_embargo=0.05),\n",
       "             error_score=nan,\n",
       "             estimator=RandomForestClassifier(bootstrap=True, ccp_alpha=0.0,\n",
       "                                              class_weight=None,\n",
       "                                              criterion='gini', max_depth=None,\n",
       "                                              max_features='auto',\n",
       "                                              max_leaf_nodes=None,\n",
       "                                              max_samples=None,\n",
       "                                              min_impurity_decrease=0.0,\n",
       "                                              min_impurity_split=None,\n",
       "                                              min_samples_leaf=1,\n",
       "                                              min_samples_split=2,\n",
       "                                              min_...\n",
       "                                              n_estimators=100, n_jobs=None,\n",
       "                                              oob_score=False,\n",
       "                                              random_state=None, verbose=0,\n",
       "                                              warm_start=False),\n",
       "             iid='deprecated', n_jobs=-1,\n",
       "             param_grid={'max_depth': [2, 3, 5, 7, 10, 20, 40],\n",
       "                         'min_samples_leaf': [1, 5, 10, 20, 30],\n",
       "                         'min_samples_split': [2, 5, 10, 15, 20, 40],\n",
       "                         'n_estimators': [5, 10, 15, 20, 30, 50, 70]},\n",
       "             pre_dispatch='2*n_jobs', refit=True, return_train_score=False,\n",
       "             scoring=None, verbose=1)"
      ]
     },
     "execution_count": 92,
     "metadata": {},
     "output_type": "execute_result"
    }
   ],
   "source": [
    "from sklearn.model_selection import GridSearchCV\n",
    "params = {\n",
    "    'n_estimators': [5, 10, 15, 20, 30, 50, 70],\n",
    "    'max_depth': [2, 3, 5, 7, 10, 20, 40],\n",
    "    'min_samples_split': [2, 5, 10, 15, 20, 40],\n",
    "    'min_samples_leaf': [1, 5, 10, 20, 30],\n",
    "}\n",
    "pkf = fl.PurgedKFold(n_splits=10, n_overlaps=10, pct_embargo=0.05)\n",
    "rfcv = GridSearchCV(rfm, params, cv=pkf, n_jobs=-1, verbose=1)\n",
    "rfcv.fit(x_train, y_train)"
   ]
  },
  {
   "cell_type": "code",
   "execution_count": 93,
   "metadata": {},
   "outputs": [
    {
     "name": "stdout",
     "output_type": "stream",
     "text": [
      "best parameters: {'max_depth': 3, 'min_samples_leaf': 10, 'min_samples_split': 10, 'n_estimators': 5}\n",
      "training accuracy: 0.5651400622498889\n",
      "test accuracy: 0.5333333333333333\n"
     ]
    }
   ],
   "source": [
    "from sklearn.metrics import accuracy_score\n",
    "rf_best = rfcv.best_estimator_\n",
    "print('best parameters:', rfcv.best_params_)\n",
    "\n",
    "y_pred_tr = rf_best.predict(x_train)\n",
    "print(f'training accuracy: {accuracy_score(y_train, y_pred_tr)}')\n",
    "\n",
    "y_pred_te = rf_best.predict(x_test)\n",
    "print(f'test accuracy: {accuracy_score(y_test, y_pred_te)}')"
   ]
  },
  {
   "cell_type": "markdown",
   "metadata": {},
   "source": [
    "## 学習済みモデルから、特徴量の重要度を確認する"
   ]
  },
  {
   "cell_type": "code",
   "execution_count": 94,
   "metadata": {},
   "outputs": [
    {
     "name": "stdout",
     "output_type": "stream",
     "text": [
      "CSlope2    : 0.06675\n",
      "Vol1       : 0.06602\n",
      "HCDiff3    : 0.06459\n",
      "OI5        : 0.06434\n",
      "CSlope7    : 0.05525\n",
      "OI4        : 0.05313\n",
      "HLDiff10   : 0.04869\n",
      "CLDiff1    : 0.04862\n",
      "HCSlope4   : 0.04761\n",
      "OI10       : 0.04080\n"
     ]
    }
   ],
   "source": [
    "feat_scores = zip(x_test.columns, list(rf_best.feature_importances_))\n",
    "feat_scores_ranking = sorted(feat_scores, key=lambda x: x[1], reverse=True)\n",
    "for name, feat in feat_scores_ranking[:10]:\n",
    "    print(f'{name:10s} : {feat:.05f}')"
   ]
  },
  {
   "cell_type": "markdown",
   "metadata": {},
   "source": [
    "# ランダムフォレスト（AdaBoost）でグリッドサーチ"
   ]
  },
  {
   "cell_type": "code",
   "execution_count": 108,
   "metadata": {},
   "outputs": [
    {
     "name": "stdout",
     "output_type": "stream",
     "text": [
      "Fitting 10 folds for each of 2688 candidates, totalling 26880 fits\n"
     ]
    },
    {
     "name": "stderr",
     "output_type": "stream",
     "text": [
      "[Parallel(n_jobs=-1)]: Using backend LokyBackend with 6 concurrent workers.\n",
      "[Parallel(n_jobs=-1)]: Done  40 tasks      | elapsed:    1.5s\n",
      "[Parallel(n_jobs=-1)]: Done 340 tasks      | elapsed:    5.8s\n",
      "[Parallel(n_jobs=-1)]: Done 840 tasks      | elapsed:   13.1s\n",
      "[Parallel(n_jobs=-1)]: Done 1540 tasks      | elapsed:   23.4s\n",
      "[Parallel(n_jobs=-1)]: Done 2440 tasks      | elapsed:   43.0s\n",
      "[Parallel(n_jobs=-1)]: Done 3540 tasks      | elapsed:  1.2min\n",
      "[Parallel(n_jobs=-1)]: Done 4840 tasks      | elapsed:  1.8min\n",
      "[Parallel(n_jobs=-1)]: Done 6340 tasks      | elapsed:  2.9min\n",
      "[Parallel(n_jobs=-1)]: Done 7422 tasks      | elapsed:  3.9min\n",
      "[Parallel(n_jobs=-1)]: Done 8372 tasks      | elapsed:  4.9min\n",
      "[Parallel(n_jobs=-1)]: Done 9422 tasks      | elapsed:  6.3min\n",
      "[Parallel(n_jobs=-1)]: Done 10572 tasks      | elapsed:  8.0min\n",
      "[Parallel(n_jobs=-1)]: Done 11822 tasks      | elapsed: 10.0min\n",
      "[Parallel(n_jobs=-1)]: Done 13172 tasks      | elapsed: 12.5min\n",
      "[Parallel(n_jobs=-1)]: Done 17382 tasks      | elapsed: 14.4min\n",
      "[Parallel(n_jobs=-1)]: Done 20360 tasks      | elapsed: 16.8min\n",
      "[Parallel(n_jobs=-1)]: Done 22010 tasks      | elapsed: 18.9min\n",
      "[Parallel(n_jobs=-1)]: Done 23760 tasks      | elapsed: 21.9min\n",
      "[Parallel(n_jobs=-1)]: Done 25610 tasks      | elapsed: 26.0min\n",
      "[Parallel(n_jobs=-1)]: Done 26880 out of 26880 | elapsed: 28.9min finished\n"
     ]
    },
    {
     "data": {
      "text/plain": [
       "GridSearchCV(cv=PurgedKFold(n_overlaps=10, n_splits=10, pct_embargo=0.05),\n",
       "             error_score=nan,\n",
       "             estimator=AdaBoostClassifier(algorithm='SAMME.R',\n",
       "                                          base_estimator=None,\n",
       "                                          learning_rate=1.0, n_estimators=50,\n",
       "                                          random_state=None),\n",
       "             iid='deprecated', n_jobs=-1,\n",
       "             param_grid={'base_estimator': [DecisionTreeClassifier(ccp_alpha=0.0,\n",
       "                                                                   class_weight=None,\n",
       "                                                                   criterion='gini',\n",
       "                                                                   max_depth=1...\n",
       "                                                                   max_depth=1,\n",
       "                                                                   max_features='sqrt',\n",
       "                                                                   max_leaf_nodes=None,\n",
       "                                                                   min_impurity_decrease=0.0,\n",
       "                                                                   min_impurity_split=None,\n",
       "                                                                   min_samples_leaf=2,\n",
       "                                                                   min_samples_split=3,\n",
       "                                                                   min_weight_fraction_leaf=0.0,\n",
       "                                                                   presort='deprecated',\n",
       "                                                                   random_state=None,\n",
       "                                                                   splitter='best'), ...],\n",
       "                         'learning_rate': [1], 'n_estimators': [5]},\n",
       "             pre_dispatch='2*n_jobs', refit=True, return_train_score=False,\n",
       "             scoring=None, verbose=1)"
      ]
     },
     "execution_count": 108,
     "metadata": {},
     "output_type": "execute_result"
    }
   ],
   "source": [
    "from itertools import product\n",
    "from sklearn.tree import DecisionTreeClassifier as DTC\n",
    "from sklearn.ensemble import AdaBoostClassifier\n",
    "dtc_params = {\n",
    "    'criterion': ['gini', 'entropy'],\n",
    "    'max_depth': [1, 2, 3, 5, 7, 10, 20, 40],\n",
    "    'min_samples_split': [2, 3, 5, 10, 15, 20, 40],\n",
    "    'min_samples_leaf': [1, 2, 5, 10, 20, 30],\n",
    "    'max_features': ['auto', 'sqrt', 'log2', None],\n",
    "}\n",
    "param_prods = product(dtc_params['criterion'],\n",
    "                     dtc_params['max_depth'],\n",
    "                     dtc_params['min_samples_split'],\n",
    "                     dtc_params['min_samples_leaf'],\n",
    "                     dtc_params['max_features'],\n",
    "                     )\n",
    "dtcs = [DTC(criterion=c, max_depth=d, min_samples_split=s, min_samples_leaf=l, max_features=f) for c, d, s, l, f in param_prods]\n",
    "\n",
    "params = {\n",
    "    'base_estimator': dtcs,\n",
    "    'n_estimators': [5],\n",
    "    'learning_rate': [1],\n",
    "}\n",
    "abc = AdaBoostClassifier()\n",
    "pkf = fl.PurgedKFold(n_splits=10, n_overlaps=10, pct_embargo=0.05)\n",
    "abccv = GridSearchCV(abc, params, cv=pkf, n_jobs=-1, verbose=1)\n",
    "abccv.fit(x_train, y_train)"
   ]
  },
  {
   "cell_type": "code",
   "execution_count": 109,
   "metadata": {},
   "outputs": [
    {
     "name": "stdout",
     "output_type": "stream",
     "text": [
      "best parameters: {'base_estimator': DecisionTreeClassifier(ccp_alpha=0.0, class_weight=None, criterion='entropy',\n",
      "                       max_depth=3, max_features='log2', max_leaf_nodes=None,\n",
      "                       min_impurity_decrease=0.0, min_impurity_split=None,\n",
      "                       min_samples_leaf=1, min_samples_split=15,\n",
      "                       min_weight_fraction_leaf=0.0, presort='deprecated',\n",
      "                       random_state=None, splitter='best'), 'learning_rate': 1, 'n_estimators': 5}\n",
      "training accuracy: 0.565584704313028\n",
      "test accuracy: 0.5404444444444444\n"
     ]
    }
   ],
   "source": [
    "ab_best = abccv.best_estimator_\n",
    "print('best parameters:', abccv.best_params_)\n",
    "\n",
    "y_pred_tr = ab_best.predict(x_train)\n",
    "print(f'training accuracy: {accuracy_score(y_train, y_pred_tr)}')\n",
    "\n",
    "y_pred_te = ab_best.predict(x_test)\n",
    "print(f'test accuracy: {accuracy_score(y_test, y_pred_te)}')"
   ]
  },
  {
   "cell_type": "code",
   "execution_count": 110,
   "metadata": {},
   "outputs": [
    {
     "name": "stdout",
     "output_type": "stream",
     "text": [
      "CSlope3    : 0.11435\n",
      "OISlope3   : 0.08953\n",
      "OI5        : 0.07385\n",
      "HCSlope5   : 0.07297\n",
      "VSlope2    : 0.06572\n",
      "HLDiff5    : 0.06470\n",
      "OISlope6   : 0.06406\n",
      "CLDiff1    : 0.05556\n",
      "Vol7       : 0.05491\n",
      "VSlope3    : 0.05318\n"
     ]
    }
   ],
   "source": [
    "feat_scores = zip(x_test.columns, list(ab_best.feature_importances_))\n",
    "feat_scores_ranking = sorted(feat_scores, key=lambda x: x[1], reverse=True)\n",
    "for name, feat in feat_scores_ranking[:10]:\n",
    "    print(f'{name:10s} : {feat:.05f}')"
   ]
  },
  {
   "cell_type": "markdown",
   "metadata": {},
   "source": [
    "# ランダムフォレスト（XGBoost）でグリッドサーチ"
   ]
  },
  {
   "cell_type": "code",
   "execution_count": 22,
   "metadata": {},
   "outputs": [
    {
     "name": "stdout",
     "output_type": "stream",
     "text": [
      "Fitting 10 folds for each of 3 candidates, totalling 30 fits\n"
     ]
    },
    {
     "name": "stderr",
     "output_type": "stream",
     "text": [
      "[Parallel(n_jobs=-1)]: Using backend LokyBackend with 6 concurrent workers.\n",
      "[Parallel(n_jobs=-1)]: Done  30 out of  30 | elapsed:    5.1s finished\n"
     ]
    },
    {
     "data": {
      "text/plain": [
       "GridSearchCV(cv=PurgedKFold(n_overlaps=10, n_splits=10, pct_embargo=0.05),\n",
       "             error_score=nan,\n",
       "             estimator=XGBClassifier(base_score=None, booster=None,\n",
       "                                     colsample_bylevel=None,\n",
       "                                     colsample_bynode=None,\n",
       "                                     colsample_bytree=None, gamma=None,\n",
       "                                     gpu_id=None, importance_type='gain',\n",
       "                                     interaction_constraints=None,\n",
       "                                     learning_rate=0.02, max_delta_step=None,\n",
       "                                     max_depth=None, min_child_wei...\n",
       "                                     random_state=None, reg_alpha=None,\n",
       "                                     reg_lambda=None, scale_pos_weight=None,\n",
       "                                     subsample=None, tree_method=None,\n",
       "                                     validate_parameters=None, verbosity=None),\n",
       "             iid='deprecated', n_jobs=-1,\n",
       "             param_grid={'colsample_bytree': [0.6], 'gamma': [0.5],\n",
       "                         'max_depth': [3], 'min_child_weight': [1, 5, 10],\n",
       "                         'subsample': [0.6]},\n",
       "             pre_dispatch='2*n_jobs', refit=True, return_train_score=False,\n",
       "             scoring=None, verbose=1)"
      ]
     },
     "execution_count": 22,
     "metadata": {},
     "output_type": "execute_result"
    }
   ],
   "source": [
    "from itertools import product\n",
    "from sklearn.model_selection import GridSearchCV\n",
    "from xgboost import XGBClassifier\n",
    "'''params = {\n",
    "        'min_child_weight': [1, 5, 10],\n",
    "        'gamma': [0.5, 1, 1.5, 2, 5],\n",
    "        'subsample': [0.6, 0.8, 1.0],\n",
    "        'colsample_bytree': [0.6, 0.8, 1.0],\n",
    "        'max_depth': [3, 4, 5]\n",
    "        }'''\n",
    "params = {\n",
    "        'min_child_weight': [1, 5, 10],\n",
    "        'gamma': [0.5],\n",
    "        'subsample': [0.6],\n",
    "        'colsample_bytree': [0.6],\n",
    "        'max_depth': [3]\n",
    "        }\n",
    "\n",
    "xgb = XGBClassifier(learning_rate=0.02, n_estimators=100, objective='binary:logistic', nthread=1)\n",
    "pkf = fl.PurgedKFold(n_splits=10, n_overlaps=10, pct_embargo=0.05)\n",
    "xgbcv = GridSearchCV(xgb, params, cv=pkf, n_jobs=-1, verbose=1)\n",
    "xgbcv.fit(x_train, y_train)"
   ]
  },
  {
   "cell_type": "code",
   "execution_count": 23,
   "metadata": {},
   "outputs": [
    {
     "name": "stdout",
     "output_type": "stream",
     "text": [
      "best parameters: {'colsample_bytree': 0.6, 'gamma': 0.5, 'max_depth': 3, 'min_child_weight': 1, 'subsample': 0.6}\n",
      "training accuracy: 0.6365051133837261\n",
      "test accuracy: 0.5395555555555556\n"
     ]
    }
   ],
   "source": [
    "xg_best = xgbcv.best_estimator_\n",
    "print('best parameters:', xgbcv.best_params_)\n",
    "\n",
    "y_pred_tr = xg_best.predict(x_train)\n",
    "print(f'training accuracy: {accuracy_score(y_train, y_pred_tr)}')\n",
    "\n",
    "y_pred_te = xg_best.predict(x_test)\n",
    "print(f'test accuracy: {accuracy_score(y_test, y_pred_te)}')"
   ]
  },
  {
   "cell_type": "code",
   "execution_count": 24,
   "metadata": {},
   "outputs": [
    {
     "name": "stdout",
     "output_type": "stream",
     "text": [
      "OISlope4   : 0.01401\n",
      "LSlope6    : 0.01286\n",
      "VSlope2    : 0.01256\n",
      "HCDiff2    : 0.01241\n",
      "CLSlope9   : 0.01194\n",
      "Vol3       : 0.01178\n",
      "HCDiff7    : 0.01171\n",
      "CLDiff4    : 0.01161\n",
      "Vol1       : 0.01160\n",
      "Vol4       : 0.01153\n"
     ]
    }
   ],
   "source": [
    "feat_scores = zip(x_test.columns, list(xg_best.feature_importances_))\n",
    "feat_scores_ranking = sorted(feat_scores, key=lambda x: x[1], reverse=True)\n",
    "for name, feat in feat_scores_ranking[:10]:\n",
    "    print(f'{name:10s} : {feat:.05f}')"
   ]
  },
  {
   "cell_type": "code",
   "execution_count": 26,
   "metadata": {},
   "outputs": [
    {
     "data": {
      "text/plain": [
       "0.5202881288453963"
      ]
     },
     "execution_count": 26,
     "metadata": {},
     "output_type": "execute_result"
    }
   ],
   "source": [
    "xgbcv.best_score_"
   ]
  },
  {
   "cell_type": "code",
   "execution_count": 27,
   "metadata": {},
   "outputs": [
    {
     "name": "stdout",
     "output_type": "stream",
     "text": [
      "<class 'numpy.ndarray'>\n"
     ]
    }
   ],
   "source": [
    "a = np.array([])\n",
    "print(type(a))"
   ]
  },
  {
   "cell_type": "code",
   "execution_count": null,
   "metadata": {},
   "outputs": [],
   "source": []
  }
 ],
 "metadata": {
  "kernelspec": {
   "display_name": "Python 3",
   "language": "python",
   "name": "python3"
  },
  "language_info": {
   "codemirror_mode": {
    "name": "ipython",
    "version": 3
   },
   "file_extension": ".py",
   "mimetype": "text/x-python",
   "name": "python",
   "nbconvert_exporter": "python",
   "pygments_lexer": "ipython3",
   "version": "3.8.2"
  }
 },
 "nbformat": 4,
 "nbformat_minor": 4
}
