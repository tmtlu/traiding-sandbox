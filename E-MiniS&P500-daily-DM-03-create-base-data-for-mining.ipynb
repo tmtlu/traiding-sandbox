{
 "cells": [
  {
   "cell_type": "markdown",
   "metadata": {},
   "source": [
    "# データマイニングのトライアル（まずはデータ作成のみ）\n",
    "\n",
    "マイニング対象は\n",
    "- モデル（とそのパラメータ）\n",
    "- 入力データ\n",
    "- 出力データ\n",
    "\n",
    "## モデル\n",
    "初回だからシンプルに\n",
    "- 非線形SVM\n",
    "- XGBoost\n",
    "\n",
    "の2種類で試す。モデルパラメータについては、各モデルのパラメータをそれぞれグリッドサーチで探索する\n",
    "\n",
    "## 入力データ\n",
    "まずは「E-MiniS&P500-daily-DM-02-use-selected-features.ipynb」で使ったデータを使う。\n",
    "そこから、指標を組み合わせて何種類かの入力データを作る\n",
    "- すべて使う\n",
    "- 「E-MiniS&P500-daily-DM-02-use-selected-features.ipynb」の結果で出てきた上位N個の変数だけ使う\n",
    "\n",
    "## 出力データ\n",
    "以下2種類を試す\n",
    "- これまでと同様に、上昇 or not の二値分類\n",
    "- X%以上上昇、-X~X%、X%以上下落、という3値分類"
   ]
  },
  {
   "cell_type": "code",
   "execution_count": 9,
   "metadata": {},
   "outputs": [
    {
     "data": {
      "text/plain": [
       "'en_US.UTF-8'"
      ]
     },
     "execution_count": 9,
     "metadata": {},
     "output_type": "execute_result"
    }
   ],
   "source": [
    "%matplotlib inline\n",
    "\n",
    "import numpy as np\n",
    "import pandas as pd\n",
    "from pandas.api.types import CategoricalDtype\n",
    "import matplotlib as mpl\n",
    "import matplotlib.pyplot as plt\n",
    "import matplotlib.ticker as ticker\n",
    "import seaborn as sns\n",
    "import scipy\n",
    "import scipy.stats as st\n",
    "import statsmodels.stats.anova as anova\n",
    "from statsmodels.stats.multicomp import pairwise_tukeyhsd\n",
    "import datetime as dt\n",
    "from dateutil.relativedelta import relativedelta\n",
    "import locale\n",
    "\n",
    "import finalib as fl\n",
    "import finalib.mine as mi\n",
    "\n",
    "# 月や曜日を英語で取得するためこの設定をしておく\n",
    "locale.setlocale(locale.LC_TIME, 'en_US.UTF-8')"
   ]
  },
  {
   "cell_type": "markdown",
   "metadata": {},
   "source": [
    "# ベースデータ作成"
   ]
  },
  {
   "cell_type": "code",
   "execution_count": 10,
   "metadata": {},
   "outputs": [],
   "source": [
    "# 生データ\n",
    "base_dir = 'data/e-mini-sp500-200530'\n",
    "df_raw = pd.read_csv(f'{base_dir}/e-mini-sp500-daily.csv')"
   ]
  },
  {
   "cell_type": "code",
   "execution_count": 11,
   "metadata": {},
   "outputs": [],
   "source": [
    "# ベースデータ\n",
    "N_BARS = 10 # 過去何足分まで見るか\n",
    "df = fl.make_nbars(df_raw, N_BARS, cols=['Open', 'High', 'Low', 'Close', 'Vol', 'OI'])"
   ]
  },
  {
   "cell_type": "code",
   "execution_count": 12,
   "metadata": {},
   "outputs": [],
   "source": [
    "# 値動き指標を追加\n",
    "for i in range(N_BARS+1): # イントラバーの値動き\n",
    "    df[f'CODiff{i}'] = df[f'Close{i}'] - df[f'Open{i}'] # 終値 - 始値\n",
    "    df[f'HLDiff{i}'] = df[f'High{i}'] - df[f'Low{i}'] # 高値 - 安値\n",
    "    df[f'HCDiff{i}'] = df[f'High{i}'] - df[f'Close{i}'] # 高値 - 終値\n",
    "    df[f'OLDiff{i}'] = df[f'Open{i}'] - df[f'Low{i}'] # 始値 - 安値\n",
    "    df[f'CLDiff{i}'] = df[f'Close{i}'] - df[f'Low{i}'] # 終値 - 安値\n",
    "for i in range(N_BARS): # 2足間の値動き\n",
    "    df[f'CSlope{i}'] = df[f'Close{i}'] - df[f'Close{i+1}'] # ある日の終値 - 前日の終値\n",
    "    df[f'OSlope{i}'] = df[f'Open{i}'] - df[f'Open{i+1}'] # ある日の始値 - 前日の始値\n",
    "    df[f'LSlope{i}'] = df[f'Low{i}'] - df[f'Low{i+1}'] # ある日の安値 - 前日の安値\n",
    "    df[f'HSlope{i}'] = df[f'High{i}'] - df[f'High{i+1}'] # ある日の高値 - 前日の高値\n",
    "    df[f'VSlope{i}'] = df[f'Vol{i}'] - df[f'Vol{i+1}'] # ある日の出来高 - 前日の出来高\n",
    "    df[f'OISlope{i}'] = df[f'OI{i}'] - df[f'OI{i+1}'] # ある日の建玉数 - 前日の建玉数\n",
    "    df[f'HCSlope{i}'] = df[f'High{i}'] - df[f'Close{i+1}'] # ある日の高値 - 前日の終値\n",
    "    df[f'CLSlope{i}'] = df[f'Close{i+1}'] - df[f'Low{i}'] # ある日の前日の終値 - ある日の安値"
   ]
  },
  {
   "cell_type": "code",
   "execution_count": 13,
   "metadata": {},
   "outputs": [],
   "source": [
    "# DateをDatetime型にする\n",
    "df['Date'] = df['Date'].map(lambda s: dt.datetime.strptime(s, '%m/%d/%Y').date())\n",
    "\n",
    "# 始まりの年月と終わりの年月（終わりは含まない）\n",
    "s_year, s_month = 1997, 10\n",
    "e_year, e_month = 2020, 2\n",
    "\n",
    "df = df[(df['Date'] >= dt.date(s_year,s_month,1)) & (df['Date'] < dt.date(e_year,e_month,1))]\n",
    "df = df.reset_index(drop=True)\n",
    "# print('\\n始めのデータ\\n', df[:1])\n",
    "# print('\\n終わりのデータ\\n', df[-1:])"
   ]
  },
  {
   "cell_type": "code",
   "execution_count": 14,
   "metadata": {},
   "outputs": [],
   "source": [
    "# 年列を入れる\n",
    "df['year'] = df['Date'].map(lambda date: date.year)\n",
    "# 月列を入れる\n",
    "df['month'] = df['Date'].map(lambda date: date.month)\n",
    "# 曜日列を入れる\n",
    "day_type = CategoricalDtype(categories=[\"Mon\", \"Tue\", \"Wed\", \"Thu\", \"Fri\"], ordered=True)\n",
    "df['day'] = df['Date'].map(lambda d: d.strftime('%a')).astype(day_type)"
   ]
  },
  {
   "cell_type": "code",
   "execution_count": 15,
   "metadata": {},
   "outputs": [],
   "source": [
    "# 月の上旬・中旬・下旬の列を入れる\n",
    "# 月初めから7日間を上旬、次の7日間を中旬、それ以降を下旬とする\n",
    "tdm_type = CategoricalDtype(categories=['Early', 'Mid', 'Late'])\n",
    "df['tdm'] = 'Early'\n",
    "y_m = dt.date(s_year, s_month, 1)\n",
    "while True:\n",
    "    month_data = df[(df['year'] == y_m.year) & (df['month'] == y_m.month)]['tdm']\n",
    "    if month_data.size == 0:\n",
    "        break\n",
    "\n",
    "    for count, (idx, val) in enumerate(month_data.items()):\n",
    "        if count > 6 and count < 14:\n",
    "            df.loc[idx, 'tdm'] = 'Mid'\n",
    "        elif count >= 14:\n",
    "            df.loc[idx, 'tdm'] = 'Late'\n",
    "\n",
    "    y_m = y_m + relativedelta(months=1)"
   ]
  },
  {
   "cell_type": "markdown",
   "metadata": {},
   "source": [
    "# 機械学習用データ作成"
   ]
  },
  {
   "cell_type": "code",
   "execution_count": 18,
   "metadata": {},
   "outputs": [],
   "source": [
    "# isUp列追加\n",
    "# 注意：1なら上昇、0なら横ばいか下降\n",
    "dfp = df.copy()\n",
    "#dfp['isUp'] = dfp['CODiff0'].map(lambda x: 1 if x > 0 else 0)\n",
    "dfp['isUp'] = dfp['CODiff0'] > 0"
   ]
  },
  {
   "cell_type": "code",
   "execution_count": 19,
   "metadata": {},
   "outputs": [
    {
     "data": {
      "text/plain": [
       "isUp\n",
       "False    2613\n",
       "True     3020\n",
       "Name: isUp, dtype: int64"
      ]
     },
     "execution_count": 19,
     "metadata": {},
     "output_type": "execute_result"
    }
   ],
   "source": [
    "# ポジティブとネガティブで偏りがないか\n",
    "dfp.groupby('isUp')['isUp'].count()\n",
    "# --> あまりない"
   ]
  },
  {
   "cell_type": "code",
   "execution_count": 20,
   "metadata": {},
   "outputs": [
    {
     "name": "stdout",
     "output_type": "stream",
     "text": [
      "もとデータのサンプル数 = 5633\n",
      "マイニング用データのサンプル数 = 4498\n",
      "テストデータのサンプル数 = 1125\n",
      "いくつのサンプルがパージされたか：10\n",
      "訓練データサンプル数 = 3590\n",
      "検証データ（マイニング時のテスト用）サンプル数 = 898\n"
     ]
    }
   ],
   "source": [
    "# マイニング用データの割合\n",
    "mine_ratio = 0.8\n",
    "# マイニングデータのうち、訓練用の割合\n",
    "train_ratio = 0.8\n",
    "\n",
    "base_train_df, test_df = fl.split_data(dfp, mine_ratio, purging=True, n_bars=N_BARS+1)\n",
    "\n",
    "train_df, validation_df = fl.split_data(base_train_df, train_ratio, purging=True, n_bars=N_BARS+1)\n",
    "\n",
    "print(f'もとデータのサンプル数 = {df.shape[0]}')\n",
    "print(f'マイニング用データのサンプル数 = {base_train_df.shape[0]}')\n",
    "print(f'テストデータのサンプル数 = {test_df.shape[0]}')\n",
    "print(f'いくつのサンプルがパージされたか：{df.shape[0] - base_train_df.shape[0] - test_df.shape[0]}')\n",
    "print(f'訓練データサンプル数 = {train_df.shape[0]}')\n",
    "print(f'検証データ（マイニング時のテスト用）サンプル数 = {validation_df.shape[0]}')"
   ]
  },
  {
   "cell_type": "code",
   "execution_count": 25,
   "metadata": {},
   "outputs": [
    {
     "name": "stdout",
     "output_type": "stream",
     "text": [
      "訓練データの期間：1997-10-01 - 2011-12-22\n",
      "検証データの期間：2012-01-10 - 2015-07-29\n",
      "テストデータの期間：2015-08-13 - 2020-01-31\n"
     ]
    },
    {
     "data": {
      "image/png": "[encoded data removed]",
      "text/plain": [
       "<Figure size 1440x288 with 1 Axes>"
      ]
     },
     "metadata": {
      "needs_background": "light"
     },
     "output_type": "display_data"
    }
   ],
   "source": [
    "plt.figure(figsize=(20, 4))\n",
    "train_df['Close0'].plot()\n",
    "validation_df['Close0'].plot()\n",
    "test_df['Close0'].plot()\n",
    "\n",
    "# 各データの期間\n",
    "print(f\"訓練データの期間：{train_df['Date'].iloc[0].strftime('%Y-%m-%d')} - {train_df['Date'].iloc[-1].strftime('%Y-%m-%d')}\")\n",
    "print(f\"検証データの期間：{validation_df['Date'].iloc[0].strftime('%Y-%m-%d')} - {validation_df['Date'].iloc[-1].strftime('%Y-%m-%d')}\")\n",
    "print(f\"テストデータの期間：{test_df['Date'].iloc[0].strftime('%Y-%m-%d')} - {test_df['Date'].iloc[-1].strftime('%Y-%m-%d')}\")"
   ]
  },
  {
   "cell_type": "code",
   "execution_count": 26,
   "metadata": {},
   "outputs": [],
   "source": [
    "# 書き出し\n",
    "df.to_csv(f'{base_dir}/mine_train_daily-last10days.csv')\n",
    "df.to_csv(f'{base_dir}/mine_validation_daily-last10days.csv')\n",
    "df.to_csv(f'{base_dir}/mine_test_daily-last10days.csv')"
   ]
  },
  {
   "cell_type": "code",
   "execution_count": null,
   "metadata": {},
   "outputs": [],
   "source": []
  }
 ],
 "metadata": {
  "kernelspec": {
   "display_name": "Python 3",
   "language": "python",
   "name": "python3"
  },
  "language_info": {
   "codemirror_mode": {
    "name": "ipython",
    "version": 3
   },
   "file_extension": ".py",
   "mimetype": "text/x-python",
   "name": "python",
   "nbconvert_exporter": "python",
   "pygments_lexer": "ipython3",
   "version": "3.8.2"
  }
 },
 "nbformat": 4,
 "nbformat_minor": 4
}
