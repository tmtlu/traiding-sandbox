{
 "cells": [
  {
   "cell_type": "markdown",
   "metadata": {},
   "source": [
    "# ほかの市場で値動きがあった後にS&P500先物がどう動くか\n",
    "\n",
    "「E-MiniS&P500-60min-EDA-02-inter-market-corr-analysis.ipynb」では、60分足で検証したが、単純に先行指標としてつかえる商品は見つからなかった。60分足では時間枠が短すぎた可能性があるため、日足データで同じ検証をしてみる。\n",
    "\n",
    "## 目的\n",
    "S&P500先物の先行指標となりうる商品を探すこと\n",
    "\n",
    "### 仮説\n",
    "- 金利が上がったらS&P500も上がる。\n",
    "- 原油や金が上がったらS&P500は下がる。\n",
    "- ダウとS&P500が異なる動きをしたらその後修正の方向に価格が動く。"
   ]
  },
  {
   "cell_type": "code",
   "execution_count": 1,
   "metadata": {},
   "outputs": [
    {
     "data": {
      "text/plain": [
       "'en_US.UTF-8'"
      ]
     },
     "execution_count": 1,
     "metadata": {},
     "output_type": "execute_result"
    }
   ],
   "source": [
    "%matplotlib inline\n",
    "\n",
    "import numpy as np\n",
    "import pandas as pd\n",
    "from pandas.api.types import CategoricalDtype\n",
    "import matplotlib as mpl\n",
    "import matplotlib.pyplot as plt\n",
    "import matplotlib.ticker as ticker\n",
    "import seaborn as sns\n",
    "import scipy\n",
    "import scipy.stats as st\n",
    "import statsmodels.stats.anova as anova\n",
    "from statsmodels.stats.multicomp import pairwise_tukeyhsd\n",
    "import datetime as dt\n",
    "from dateutil.relativedelta import relativedelta\n",
    "import locale\n",
    "from joblib import Parallel, delayed\n",
    "\n",
    "import finalib as fl\n",
    "import finalib.mine as mi\n",
    "import ta\n",
    "\n",
    "# 月や曜日を英語で取得するためこの設定をしておく\n",
    "locale.setlocale(locale.LC_TIME, 'en_US.UTF-8')"
   ]
  },
  {
   "cell_type": "markdown",
   "metadata": {},
   "source": [
    "# データ読み込み"
   ]
  },
  {
   "cell_type": "code",
   "execution_count": 3,
   "metadata": {},
   "outputs": [],
   "source": [
    "# 生データ\n",
    "\n",
    "# 時間枠\n",
    "time_scale = 'daily'\n",
    "\n",
    "sp_dir = 'data/e-mini-sp500-200530'\n",
    "df_sp_raw = pd.read_csv(f'{sp_dir}/e-mini-sp500-{time_scale}.csv')\n",
    "\n",
    "dow_dir = 'data/e-mini-dow-200626'\n",
    "df_dow_raw = pd.read_csv(f'{dow_dir}/e-mini-dow-{time_scale}.csv')\n",
    "\n",
    "oil_dir = 'data/e-mini-crude-oil-200626'\n",
    "df_oil_raw = pd.read_csv(f'{oil_dir}/e-mini-crude-oil-{time_scale}.csv')\n",
    "\n",
    "gold_dir = 'data/gold-200626'\n",
    "df_gold_raw = pd.read_csv(f'{gold_dir}/gold-{time_scale}.csv')\n",
    "\n",
    "tnote2_dir = 'data/t-notes-2yr-200626'\n",
    "df_tnote2_raw = pd.read_csv(f'{tnote2_dir}/t-notes-2yr-{time_scale}.csv')\n",
    "\n",
    "tnote5_dir = 'data/t-notes-5yr-200626'\n",
    "df_tnote5_raw = pd.read_csv(f'{tnote5_dir}/t-notes-5yr-{time_scale}.csv')\n",
    "\n",
    "tnote10_dir = 'data/t-notes-10yr-200626'\n",
    "df_tnote10_raw = pd.read_csv(f'{tnote10_dir}/t-notes-10yr-{time_scale}.csv')\n",
    "\n",
    "tbond30_dir = 'data/t-bond-30yr-200629'\n",
    "df_tbond30_raw = pd.read_csv(f'{tbond30_dir}/t-bond-30yr-{time_scale}.csv')\n",
    "\n",
    "dfnames = ['sp', 'dow', 'oil', 'gold', 'tnote2', 'tnote5', 'tnote10', 'tbond30']\n",
    "dfraws = [df_sp_raw, df_dow_raw, df_oil_raw, df_gold_raw, df_tnote2_raw, df_tnote5_raw, df_tnote10_raw, df_tbond30_raw]\n",
    "#dfraws = [df_sp_raw, df_dow_raw, df_oil_raw, df_gold_raw]\n",
    "#dfraws = [df_sp_raw, df_dow_raw]"
   ]
  },
  {
   "cell_type": "code",
   "execution_count": 7,
   "metadata": {},
   "outputs": [
    {
     "data": {
      "text/html": [
       "<div>\n",
       "<style scoped>\n",
       "    .dataframe tbody tr th:only-of-type {\n",
       "        vertical-align: middle;\n",
       "    }\n",
       "\n",
       "    .dataframe tbody tr th {\n",
       "        vertical-align: top;\n",
       "    }\n",
       "\n",
       "    .dataframe thead th {\n",
       "        text-align: right;\n",
       "    }\n",
       "</style>\n",
       "<table border=\"1\" class=\"dataframe\">\n",
       "  <thead>\n",
       "    <tr style=\"text-align: right;\">\n",
       "      <th></th>\n",
       "      <th>Date</th>\n",
       "      <th>Time</th>\n",
       "      <th>Open</th>\n",
       "      <th>High</th>\n",
       "      <th>Low</th>\n",
       "      <th>Close</th>\n",
       "      <th>Vol</th>\n",
       "      <th>OI</th>\n",
       "    </tr>\n",
       "  </thead>\n",
       "  <tbody>\n",
       "    <tr>\n",
       "      <th>0</th>\n",
       "      <td>09/11/1997</td>\n",
       "      <td>17:00</td>\n",
       "      <td>1071.25</td>\n",
       "      <td>1082.25</td>\n",
       "      <td>1062.75</td>\n",
       "      <td>1068.5</td>\n",
       "      <td>11825</td>\n",
       "      <td>2909</td>\n",
       "    </tr>\n",
       "  </tbody>\n",
       "</table>\n",
       "</div>"
      ],
      "text/plain": [
       "         Date   Time     Open     High      Low   Close    Vol    OI\n",
       "0  09/11/1997  17:00  1071.25  1082.25  1062.75  1068.5  11825  2909"
      ]
     },
     "execution_count": 7,
     "metadata": {},
     "output_type": "execute_result"
    }
   ],
   "source": [
    "dfraws[0].head(1)"
   ]
  },
  {
   "cell_type": "code",
   "execution_count": 5,
   "metadata": {},
   "outputs": [],
   "source": [
    "dfs = []\n",
    "for df in dfraws:\n",
    "    dfs.append(df.copy())"
   ]
  },
  {
   "cell_type": "code",
   "execution_count": 6,
   "metadata": {},
   "outputs": [],
   "source": [
    "# 日足だから時間は不要だけど、入っていても特に問題ないはず\n",
    "def to_datetime_idx(df):\n",
    "    df['DT'] = (df['Date'] + '-' + df['Time']).map(lambda s: dt.datetime.strptime(s, '%m/%d/%Y-%H:%M'))\n",
    "    return df.set_index('DT')\n",
    "\n",
    "for i, df in enumerate(dfs):\n",
    "    dfs[i] = to_datetime_idx(df)"
   ]
  },
  {
   "cell_type": "markdown",
   "metadata": {},
   "source": [
    "# ある商品が上がったらその後S&P500先物が上がるか\n",
    "\n",
    "## 検証１\n",
    "- （１）S&P500先物が上昇する確率\n",
    "- （２）ある商品が上昇した次の足でS&P500先物が上昇する確率\n",
    "- （２）が（１）より大きければ（統計的な判断は今はしない）その商品が正方向の先行指標として使える可能性がある。小さければ負方向の指標として使える可能性がある。\n",
    "\n",
    "### 結果\n",
    "- 60分足の時と同様の結果。\n",
    "- （２）が（１）より大きいと言える商品はなかった。一番大きかったのが`P(S&P UP | tnote10 UP) = 0.5524384980578334`だが、事前確率からの上昇は0.7%程度であり、ここにもし有意な差があったとしても、予測には使えない。\n",
    "- 逆方向、つまり下落の予測についてもほぼ同じ結果になるはずのため試す必要はない。"
   ]
  },
  {
   "cell_type": "code",
   "execution_count": 15,
   "metadata": {},
   "outputs": [],
   "source": [
    "# 値動きの列を加える\n",
    "# 値動き　＝　終値　－　始値\n",
    "# 上昇　＝　値動き　＞　０\n",
    "# とする。\n",
    "\n",
    "CODIFF_COL = 'CODiff'\n",
    "ISUP_COL = 'isUp'\n",
    "\n",
    "def add_CODiff(df):\n",
    "    df[CODIFF_COL] = df['Close'] - df['Open']\n",
    "    return df\n",
    "\n",
    "def add_isUp(df):\n",
    "    df[ISUP_COL] = df[CODIFF_COL] > 0\n",
    "    return df\n",
    "\n",
    "for i in range(len(dfs)):\n",
    "    dfs[i] = add_CODiff(dfs[i])\n",
    "    dfs[i] = add_isUp(dfs[i])"
   ]
  },
  {
   "cell_type": "code",
   "execution_count": 30,
   "metadata": {},
   "outputs": [
    {
     "data": {
      "text/plain": [
       "(5774, 8)"
      ]
     },
     "execution_count": 30,
     "metadata": {},
     "output_type": "execute_result"
    }
   ],
   "source": [
    "# 各商品の上昇列を取ってきて一つのDFにする\n",
    "isUp_df = dfs[0].loc[:, [ISUP_COL]].rename(columns={ISUP_COL:dfnames[0]})\n",
    "for i in range(1, len(dfs)):\n",
    "    isUp_df = isUp_df.merge(dfs[i].loc[:, [ISUP_COL]].rename(columns={ISUP_COL:dfnames[i]}), how='outer', left_index=True, right_index=True)\n",
    "\n",
    "isUp_df.shape"
   ]
  },
  {
   "cell_type": "code",
   "execution_count": 31,
   "metadata": {},
   "outputs": [
    {
     "data": {
      "text/plain": [
       "(4479, 8)"
      ]
     },
     "execution_count": 31,
     "metadata": {},
     "output_type": "execute_result"
    }
   ],
   "source": [
    "# NaNを含む行を全部削除\n",
    "isUp_df = isUp_df[isUp_df.notnull().all(axis=1)]\n",
    "isUp_df.shape"
   ]
  },
  {
   "cell_type": "code",
   "execution_count": 32,
   "metadata": {},
   "outputs": [
    {
     "data": {
      "text/plain": [
       "(4478, 8)"
      ]
     },
     "execution_count": 32,
     "metadata": {},
     "output_type": "execute_result"
    }
   ],
   "source": [
    "# ほかの列で上昇したときに、次の足で'sp'が上昇するかどうかを調べたい\n",
    "# だから、'sp'の列だけ１つ繰り上げる（これで'sp'列については日時インデックスがずれることになることに注意）\n",
    "isUp_df['sp'] = isUp_df['sp'].iloc[1:].append(pd.Series([np.nan])).to_numpy()\n",
    "isUp_df = isUp_df[isUp_df.notnull().all(axis=1)]\n",
    "isUp_len = isUp_df.shape[0]\n",
    "isUp_df.shape"
   ]
  },
  {
   "cell_type": "code",
   "execution_count": 33,
   "metadata": {},
   "outputs": [
    {
     "name": "stdout",
     "output_type": "stream",
     "text": [
      "P(S&P UP) = 0.5455560518088433\n"
     ]
    }
   ],
   "source": [
    "# S&P500先物の上昇確率\n",
    "print(f\"P(S&P UP) = {isUp_df['sp'].sum() / isUp_len}\")"
   ]
  },
  {
   "cell_type": "code",
   "execution_count": 34,
   "metadata": {},
   "outputs": [
    {
     "name": "stdout",
     "output_type": "stream",
     "text": [
      "P(dow UP) = 0.541313086199196\n",
      "P(S&P UP | dow UP) = 0.5334158415841584\n",
      "P(oil UP) = 0.5111656989727557\n",
      "P(S&P UP | oil UP) = 0.5430318916557448\n",
      "P(gold UP) = 0.5129522108083966\n",
      "P(S&P UP | gold UP) = 0.5446234218545929\n",
      "P(tnote2 UP) = 0.47856185797230905\n",
      "P(S&P UP | tnote2 UP) = 0.5482967802146523\n",
      "P(tnote5 UP) = 0.5107190710138455\n",
      "P(S&P UP | tnote5 UP) = 0.5505028421512899\n",
      "P(tnote10 UP) = 0.5174184903974989\n",
      "P(S&P UP | tnote10 UP) = 0.5524384980578334\n",
      "P(tbond30 UP) = 0.5207682000893256\n",
      "P(S&P UP | tbond30 UP) = 0.5493138936535163\n"
     ]
    }
   ],
   "source": [
    "# ほかの商品が上昇した次の足でS&Pが上昇する確率\n",
    "for col_name in isUp_df.columns.tolist()[1:]:\n",
    "    ups_tmp = isUp_df[isUp_df[col_name]]\n",
    "    print(f\"P({col_name} UP) = {ups_tmp.shape[0] / isUp_len}\")\n",
    "    print(f\"P(S&P UP | {col_name} UP) = {ups_tmp['sp'].sum() / ups_tmp.shape[0]}\")"
   ]
  },
  {
   "cell_type": "markdown",
   "metadata": {},
   "source": [
    "## 検証2\n",
    "ある商品が上がった足でS&Pは下がったとき、次の足でS&Pが上昇する確率が高まるような商品があるか。\n",
    "\n",
    "- （１）下落した次の足でS&Pが上昇する確率\n",
    "- （２）ある商品が上がってかつS&Pが下落したとき、次の足でS&Pが上昇する確率\n",
    "- （２）が（１）より大きければ、その商品をこの条件における先行指標として使える可能性がある。\n",
    "\n",
    "### 結果\n",
    "- これについても、先行指標として使えそうなものはない。\n",
    "- 一番大きかったのが`P(S&P UP | (oil UP, S&P DOWN)) = 0.5697896749521989`だが、事前確率からの上昇は0.5%程度。\n"
   ]
  },
  {
   "cell_type": "code",
   "execution_count": 35,
   "metadata": {},
   "outputs": [
    {
     "data": {
      "text/plain": [
       "(4477, 9)"
      ]
     },
     "execution_count": 35,
     "metadata": {},
     "output_type": "execute_result"
    }
   ],
   "source": [
    "# もう一足繰り上げたS&P列を追加\n",
    "# したがってこの列はインデックスの日付より2日先の価格ということになる\n",
    "isUp_df['sp0'] = isUp_df['sp'].iloc[1:].append(pd.Series([np.nan])).to_numpy()\n",
    "isUp_df = isUp_df[isUp_df.notnull().all(axis=1)]\n",
    "isUp_len = isUp_df.shape[0]\n",
    "isUp_df.shape"
   ]
  },
  {
   "cell_type": "code",
   "execution_count": 37,
   "metadata": {},
   "outputs": [
    {
     "name": "stdout",
     "output_type": "stream",
     "text": [
      "P(S&P UP | S&P Prev DOWN) = 0.5646191646191646\n"
     ]
    }
   ],
   "source": [
    "# S&Pが下落した次の日に上昇する確率\n",
    "prev_down = isUp_df[isUp_df['sp'] == False]\n",
    "print(f\"P(S&P UP | S&P Prev DOWN) = {prev_down['sp0'].sum() / prev_down.shape[0]}\")"
   ]
  },
  {
   "cell_type": "code",
   "execution_count": 42,
   "metadata": {},
   "outputs": [
    {
     "name": "stdout",
     "output_type": "stream",
     "text": [
      "P(dow UP, S&P DOWN) = 0.5557739557739557\n",
      "P(S&P UP | (dow UP, S&P DOWN)) = 0.5570291777188329\n",
      "P(oil UP, S&P DOWN) = 0.514004914004914\n",
      "P(S&P UP | (oil UP, S&P DOWN)) = 0.5697896749521989\n",
      "P(gold UP, S&P DOWN) = 0.514004914004914\n",
      "P(S&P UP | (gold UP, S&P DOWN)) = 0.5592734225621415\n",
      "P(tnote2 UP, S&P DOWN) = 0.4756756756756757\n",
      "P(S&P UP | (tnote2 UP, S&P DOWN)) = 0.5516528925619835\n",
      "P(tnote5 UP, S&P DOWN) = 0.5051597051597052\n",
      "P(S&P UP | (tnote5 UP, S&P DOWN)) = 0.5554474708171206\n",
      "P(tnote10 UP, S&P DOWN) = 0.5095823095823095\n",
      "P(S&P UP | (tnote10 UP, S&P DOWN)) = 0.5564127290260367\n",
      "P(tbond30 UP, S&P DOWN) = 0.5164619164619164\n",
      "P(S&P UP | (tbond30 UP, S&P DOWN)) = 0.5528068506184586\n"
     ]
    }
   ],
   "source": [
    "# ほかの商品が上がってS&Pが下がったとき、次の足でS&Pが上がる確率\n",
    "for col_name in isUp_df.columns.tolist()[1:-1]:\n",
    "    ups_tmp = prev_down[prev_down[col_name]]\n",
    "    print(f\"P({col_name} UP, S&P DOWN) = {ups_tmp.shape[0] / prev_down.shape[0]}\")\n",
    "    print(f\"P(S&P UP | ({col_name} UP, S&P DOWN)) = {ups_tmp['sp0'].sum() / ups_tmp.shape[0]}\")"
   ]
  },
  {
   "cell_type": "markdown",
   "metadata": {},
   "source": [
    "## 検証3：検証1と検証2の結果を組み合わせたらどうなるか\n",
    "- 検証1より、10年国債上昇の次の足でS&Pの上昇確率は0.7%程度上昇する\n",
    "- 検証2より、原油上昇かつS&P下落の次の足でS&Pの上昇確率は0.5%程度上昇する\n",
    "\n",
    "以下を検証\n",
    "- （１）S&P下落の次の足でのS&Pの上昇確率\n",
    "- （２）10年国債上昇かつ原油上昇かつS&P下落の次の足でのS&Pの上昇確率\n",
    "- （２）が（１）より大きければ、買いのセットアップとして利用できる可能性がわずかにあるかも。\n",
    "\n",
    "### 結果\n",
    "- 組み合わせたら、むしろ上昇確率は下がった。この組み合わせは指標としては使えない。かなり絞り込んで母数がもとの10%まで減ったのにこの結果。"
   ]
  },
  {
   "cell_type": "code",
   "execution_count": 43,
   "metadata": {},
   "outputs": [],
   "source": [
    "# （１）については検証2で計算済み"
   ]
  },
  {
   "cell_type": "code",
   "execution_count": 45,
   "metadata": {},
   "outputs": [
    {
     "name": "stdout",
     "output_type": "stream",
     "text": [
      "P(tnote10 UP, oil UP, sp DOWN) = 0.1029707393343757\n",
      "P(sp UP | Prev (tnote10 UP, oil UP, sp DOWN)) = 0.5466377440347071\n"
     ]
    }
   ],
   "source": [
    "# （２）の確率\n",
    "prev_10yrU_oilU_spD = prev_down[prev_down['tnote10'] & prev_down['oil']]\n",
    "print(f\"P(tnote10 UP, oil UP, sp DOWN) = {prev_10yrU_oilU_spD.shape[0] / isUp_len}\")\n",
    "print(f\"P(sp UP | Prev (tnote10 UP, oil UP, sp DOWN)) = {prev_10yrU_oilU_spD['sp0'].sum() / prev_10yrU_oilU_spD.shape[0]}\")"
   ]
  },
  {
   "cell_type": "code",
   "execution_count": null,
   "metadata": {},
   "outputs": [],
   "source": []
  }
 ],
 "metadata": {
  "kernelspec": {
   "display_name": "Python 3",
   "language": "python",
   "name": "python3"
  },
  "language_info": {
   "codemirror_mode": {
    "name": "ipython",
    "version": 3
   },
   "file_extension": ".py",
   "mimetype": "text/x-python",
   "name": "python",
   "nbconvert_exporter": "python",
   "pygments_lexer": "ipython3",
   "version": "3.8.2"
  }
 },
 "nbformat": 4,
 "nbformat_minor": 4
}
