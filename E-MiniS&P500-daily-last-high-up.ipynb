{
 "cells": [
  {
   "cell_type": "markdown",
   "metadata": {},
   "source": [
    "# E-Mini S&P500で日足データで上昇下降予測\n",
    "\n",
    "ラリー本の、「高値かその付近で引けた翌日に上昇しやすい」という「真実」を検証する。\n",
    "\n",
    "## 結果\n",
    "これは真実ではないかもしれない。"
   ]
  },
  {
   "cell_type": "code",
   "execution_count": 43,
   "metadata": {},
   "outputs": [
    {
     "data": {
      "text/plain": [
       "'en_US.UTF-8'"
      ]
     },
     "execution_count": 43,
     "metadata": {},
     "output_type": "execute_result"
    }
   ],
   "source": [
    "%matplotlib inline\n",
    "\n",
    "import numpy as np\n",
    "import pandas as pd\n",
    "from pandas.api.types import CategoricalDtype\n",
    "import matplotlib as mpl\n",
    "import matplotlib.pyplot as plt\n",
    "import matplotlib.ticker as ticker\n",
    "import seaborn as sns\n",
    "import scipy\n",
    "import scipy.stats as st\n",
    "import statsmodels.stats.anova as anova\n",
    "from statsmodels.stats.multicomp import pairwise_tukeyhsd\n",
    "import datetime as dt\n",
    "import locale\n",
    "\n",
    "from finalib import finalib as fl\n",
    "\n",
    "# 月や曜日を英語で取得するためこの設定をしておく\n",
    "locale.setlocale(locale.LC_TIME, 'en_US.UTF-8')"
   ]
  },
  {
   "cell_type": "code",
   "execution_count": 2,
   "metadata": {},
   "outputs": [
    {
     "name": "stdout",
     "output_type": "stream",
     "text": [
      "<class 'pandas.core.frame.DataFrame'>\n",
      "RangeIndex: 5729 entries, 0 to 5728\n",
      "Data columns (total 8 columns):\n",
      " #   Column  Non-Null Count  Dtype  \n",
      "---  ------  --------------  -----  \n",
      " 0   Date    5729 non-null   object \n",
      " 1   Time    5729 non-null   object \n",
      " 2   Open    5729 non-null   float64\n",
      " 3   High    5729 non-null   float64\n",
      " 4   Low     5729 non-null   float64\n",
      " 5   Close   5729 non-null   float64\n",
      " 6   Vol     5729 non-null   int64  \n",
      " 7   OI      5729 non-null   int64  \n",
      "dtypes: float64(4), int64(2), object(2)\n",
      "memory usage: 358.2+ KB\n"
     ]
    }
   ],
   "source": [
    "# 日足データ\n",
    "base_dir = 'data/e-mini-sp500-200530'\n",
    "df_raw = pd.read_csv(f'{base_dir}/e-mini-sp500-daily.csv')\n",
    "df_raw.info()"
   ]
  },
  {
   "cell_type": "code",
   "execution_count": 27,
   "metadata": {},
   "outputs": [
    {
     "data": {
      "text/html": [
       "<div>\n",
       "<style scoped>\n",
       "    .dataframe tbody tr th:only-of-type {\n",
       "        vertical-align: middle;\n",
       "    }\n",
       "\n",
       "    .dataframe tbody tr th {\n",
       "        vertical-align: top;\n",
       "    }\n",
       "\n",
       "    .dataframe thead th {\n",
       "        text-align: right;\n",
       "    }\n",
       "</style>\n",
       "<table border=\"1\" class=\"dataframe\">\n",
       "  <thead>\n",
       "    <tr style=\"text-align: right;\">\n",
       "      <th></th>\n",
       "      <th>Date</th>\n",
       "      <th>Time</th>\n",
       "      <th>Open10</th>\n",
       "      <th>High10</th>\n",
       "      <th>Low10</th>\n",
       "      <th>Close10</th>\n",
       "      <th>Vol10</th>\n",
       "      <th>OI10</th>\n",
       "      <th>Open9</th>\n",
       "      <th>High9</th>\n",
       "      <th>...</th>\n",
       "      <th>Low1</th>\n",
       "      <th>Close1</th>\n",
       "      <th>Vol1</th>\n",
       "      <th>OI1</th>\n",
       "      <th>Open0</th>\n",
       "      <th>High0</th>\n",
       "      <th>Low0</th>\n",
       "      <th>Close0</th>\n",
       "      <th>Vol0</th>\n",
       "      <th>OI0</th>\n",
       "    </tr>\n",
       "  </thead>\n",
       "  <tbody>\n",
       "    <tr>\n",
       "      <th>0</th>\n",
       "      <td>09/25/1997</td>\n",
       "      <td>17:00</td>\n",
       "      <td>1071.25</td>\n",
       "      <td>1082.25</td>\n",
       "      <td>1062.75</td>\n",
       "      <td>1068.50</td>\n",
       "      <td>11825</td>\n",
       "      <td>2909</td>\n",
       "      <td>1070.50</td>\n",
       "      <td>1089.00</td>\n",
       "      <td>...</td>\n",
       "      <td>1104.5</td>\n",
       "      <td>1106.00</td>\n",
       "      <td>14580.0</td>\n",
       "      <td>6194.0</td>\n",
       "      <td>1106.25</td>\n",
       "      <td>1110.0</td>\n",
       "      <td>1098.00</td>\n",
       "      <td>1099.25</td>\n",
       "      <td>14114.0</td>\n",
       "      <td>6132.0</td>\n",
       "    </tr>\n",
       "    <tr>\n",
       "      <th>1</th>\n",
       "      <td>09/26/1997</td>\n",
       "      <td>17:00</td>\n",
       "      <td>1070.50</td>\n",
       "      <td>1089.00</td>\n",
       "      <td>1066.00</td>\n",
       "      <td>1071.25</td>\n",
       "      <td>9759</td>\n",
       "      <td>4059</td>\n",
       "      <td>1086.00</td>\n",
       "      <td>1092.25</td>\n",
       "      <td>...</td>\n",
       "      <td>1098.0</td>\n",
       "      <td>1099.25</td>\n",
       "      <td>14114.0</td>\n",
       "      <td>6132.0</td>\n",
       "      <td>1099.00</td>\n",
       "      <td>1109.0</td>\n",
       "      <td>1099.00</td>\n",
       "      <td>1106.00</td>\n",
       "      <td>12049.0</td>\n",
       "      <td>5666.0</td>\n",
       "    </tr>\n",
       "    <tr>\n",
       "      <th>2</th>\n",
       "      <td>09/29/1997</td>\n",
       "      <td>17:00</td>\n",
       "      <td>1086.00</td>\n",
       "      <td>1092.25</td>\n",
       "      <td>1081.50</td>\n",
       "      <td>1083.75</td>\n",
       "      <td>8551</td>\n",
       "      <td>3818</td>\n",
       "      <td>1083.75</td>\n",
       "      <td>1112.50</td>\n",
       "      <td>...</td>\n",
       "      <td>1099.0</td>\n",
       "      <td>1106.00</td>\n",
       "      <td>12049.0</td>\n",
       "      <td>5666.0</td>\n",
       "      <td>1105.75</td>\n",
       "      <td>1117.0</td>\n",
       "      <td>1102.75</td>\n",
       "      <td>1114.50</td>\n",
       "      <td>11104.0</td>\n",
       "      <td>5722.0</td>\n",
       "    </tr>\n",
       "  </tbody>\n",
       "</table>\n",
       "<p>3 rows × 68 columns</p>\n",
       "</div>"
      ],
      "text/plain": [
       "         Date   Time   Open10   High10    Low10  Close10  Vol10  OI10  \\\n",
       "0  09/25/1997  17:00  1071.25  1082.25  1062.75  1068.50  11825  2909   \n",
       "1  09/26/1997  17:00  1070.50  1089.00  1066.00  1071.25   9759  4059   \n",
       "2  09/29/1997  17:00  1086.00  1092.25  1081.50  1083.75   8551  3818   \n",
       "\n",
       "     Open9    High9  ...    Low1   Close1     Vol1     OI1    Open0   High0  \\\n",
       "0  1070.50  1089.00  ...  1104.5  1106.00  14580.0  6194.0  1106.25  1110.0   \n",
       "1  1086.00  1092.25  ...  1098.0  1099.25  14114.0  6132.0  1099.00  1109.0   \n",
       "2  1083.75  1112.50  ...  1099.0  1106.00  12049.0  5666.0  1105.75  1117.0   \n",
       "\n",
       "      Low0   Close0     Vol0     OI0  \n",
       "0  1098.00  1099.25  14114.0  6132.0  \n",
       "1  1099.00  1106.00  12049.0  5666.0  \n",
       "2  1102.75  1114.50  11104.0  5722.0  \n",
       "\n",
       "[3 rows x 68 columns]"
      ]
     },
     "execution_count": 27,
     "metadata": {},
     "output_type": "execute_result"
    }
   ],
   "source": [
    "# 過去N足分まで見れるデータにする\n",
    "\n",
    "# 何足分見るか\n",
    "N_BARS = 10\n",
    "\n",
    "df = fl.make_nbars(df_raw, N_BARS, cols=['Open', 'High', 'Low', 'Close', 'Vol', 'OI'])\n",
    "#fl.make_nbars(df_raw[:21], 10)\n",
    "df.head(3)"
   ]
  },
  {
   "cell_type": "code",
   "execution_count": 28,
   "metadata": {},
   "outputs": [],
   "source": [
    "# 値動き指標を追加\n",
    "\n",
    "# イントラバーの値動き\n",
    "for i in range(N_BARS+1):\n",
    "    df[f'CODiff{i}'] = df[f'Close{i}'] - df[f'Open{i}'] # 終値 - 始値\n",
    "    df[f'HLDiff{i}'] = df[f'High{i}'] - df[f'Low{i}'] # 高値 - 安値\n",
    "    df[f'HCDiff{i}'] = df[f'High{i}'] - df[f'Close{i}'] # 高値 - 終値\n",
    "    df[f'OLDiff{i}'] = df[f'Open{i}'] - df[f'Low{i}'] # 始値 - 安値\n",
    "    df[f'CLDiff{i}'] = df[f'Close{i}'] - df[f'Low{i}'] # 終値 - 安値\n",
    "    \n",
    "# 2足間の値動き\n",
    "for i in range(N_BARS):\n",
    "    df[f'CSlope{i}'] = df[f'Close{i}'] - df[f'Close{i+1}'] # ある日の終値 - 前日の終値\n",
    "    #df[f'OSlope{i}'] = df[f'Open{i}'] - df[f'Open{i+1}'] # ある日の始値 - 前日の始値\n",
    "    #df[f'LSlope{i}'] = df[f'Low{i}'] - df[f'Low{i+1}'] # ある日の安値 - 前日の安値\n",
    "    #df[f'HSlope{i}'] = df[f'High{i}'] - df[f'High{i+1}'] # ある日の高値 - 前日の高値\n",
    "    #df[f'VSlope{i}'] = df[f'Vol{i}'] - df[f'Vol{i+1}'] # ある日の出来高 - 前日の出来高\n",
    "    df[f'HCSlope{i}'] = df[f'High{i}'] - df[f'Close{i+1}'] # ある日の高値 - 前日の終値\n",
    "    df[f'CLSlope{i}'] = df[f'Close{i+1}'] - df[f'Low{i}'] # ある日の前日の終値 - ある日の安値"
   ]
  },
  {
   "cell_type": "markdown",
   "metadata": {},
   "source": [
    "# 前処理\n",
    "\n",
    "- 年単位の分析もするため、半端になっている最初の年（1997）と最後の年（2020）は除外する\n",
    "- 始めの数年間は直近と比べると出来高が非常に小さく流動性が低いが、今は日足での値動きに注目しているため問題ないとみなして、それらのデータを除外しない\n",
    "\n",
    "だから、1998年初めから2019年終わりまでのデータを使用する。"
   ]
  },
  {
   "cell_type": "code",
   "execution_count": 29,
   "metadata": {},
   "outputs": [
    {
     "name": "stdout",
     "output_type": "stream",
     "text": [
      "<class 'pandas.core.frame.DataFrame'>\n",
      "RangeIndex: 5548 entries, 0 to 5547\n",
      "Columns: 153 entries, Date to CLSlope9\n",
      "dtypes: float64(149), int64(2), object(2)\n",
      "memory usage: 6.5+ MB\n",
      "\n",
      "始めのデータ\n",
      "          Date   Time  Open10   High10    Low10  Close10  Vol10  OI10   Open9  \\\n",
      "0  1998-01-02  17:00  1122.5  1130.25  1116.75   1117.5   9562  4611  1117.5   \n",
      "\n",
      "     High9  ...  CLSlope6  CSlope7  HCSlope7  CLSlope7  CSlope8  HCSlope8  \\\n",
      "0  1118.75  ...      18.5     5.25      11.0       9.0    -7.75      -0.5   \n",
      "\n",
      "   CLSlope8  CSlope9  HCSlope9  CLSlope9  \n",
      "0      30.0   -10.25      1.25     14.75  \n",
      "\n",
      "[1 rows x 153 columns]\n",
      "\n",
      "終わりのデータ\n",
      "             Date   Time   Open10   High10    Low10  Close10    Vol10     OI10  \\\n",
      "5547  2019-12-31  17:00  3168.25  3191.25  3165.75  3187.25  1973586  2015350   \n",
      "\n",
      "        Open9    High9  ...  CLSlope6  CSlope7  HCSlope7  CLSlope7  CSlope8  \\\n",
      "5547  3185.25  3192.25  ...      3.25     12.5      14.5      4.75     3.75   \n",
      "\n",
      "      HCSlope8  CLSlope8  CSlope9  HCSlope9  CLSlope9  \n",
      "5547       7.5       3.5     -3.0       5.0       6.5  \n",
      "\n",
      "[1 rows x 153 columns]\n"
     ]
    }
   ],
   "source": [
    "# DateをDatetime型にする\n",
    "df['Date'] = df['Date'].map(lambda s: dt.datetime.strptime(s, '%m/%d/%Y').date())\n",
    "\n",
    "# 最初の年（1997）と最後の年（2020）は1年分のデータがないから除外する\n",
    "# 始まりの年と終わりの年（終わりは含まない）\n",
    "s_year = 1998\n",
    "e_year = 2020\n",
    "\n",
    "df = df[(df['Date'] >= dt.date(s_year,1,1)) & (df['Date'] < dt.date(e_year,1,1))]\n",
    "df = df.reset_index(drop=True)\n",
    "df.info()\n",
    "print('\\n始めのデータ\\n', df[:1])\n",
    "print('\\n終わりのデータ\\n', df[-1:])\n",
    "\n",
    "# 年列を入れる\n",
    "df['year'] = df['Date'].map(lambda date: date.year)"
   ]
  },
  {
   "cell_type": "markdown",
   "metadata": {},
   "source": [
    "# 高値かその付近で引けた翌日に上昇するか\n",
    "\n",
    "- ラリーの本の15章より\n",
    "- 「高値かその付近で引けた」を終値が真の値幅の上部X%以内であることと定義する\n",
    "\n",
    "真の値幅（TR)とは\n",
    "- 高値 - 安値\n",
    "- 高値 - 前日終値\n",
    "- 前日終値 - 安値\n",
    "\n",
    "のうち最も大きいもの\n",
    "\n",
    "## 結果\n",
    "- 高値で引けた日については、そもそも発生率が低すぎるため、調査対象外\n",
    "- 高値かその付近で引けた日の場合は、「その付近」の定義次第で発生率は変わる\n",
    "    - 「高値かその付近」を「終値が（高値 - 真の値幅 * X）以上」と定義し、X=0.1としてみた\n",
    "        - この時、発生率は15.6%であり、年によって全く発生しないなどということもないため、現実的\n",
    "        - しかし、翌日の値動き平均は`-0.45`だった。\n",
    "        - また翌日の上昇日割合は51.3%だった。\n",
    "        - したがって、「高値かその付近で引けた翌日に上昇する」という仮説は全く支持されない。\n",
    "- 上の結果は、「高値かその付近」を定義してしまっているため、その定義を変えたときに結果がどう変わるかは各定義で試してみなければわからない。これだと効率が悪いため、調査内容を「前日が上昇日だった場合に、高値付近で引けるほど翌日上昇しやすいかどうか」とした。つまり（高値 - 終値）に対して翌日の（終値 - 始値）をプロットする。またこの時相関係数が負の値になることを期待する。\n",
    "    - 結果、相関はほぼなく、相関係数は0.024だった。"
   ]
  },
  {
   "cell_type": "code",
   "execution_count": 30,
   "metadata": {},
   "outputs": [
    {
     "name": "stdout",
     "output_type": "stream",
     "text": [
      "高値で引けた日 / 全日数 = 17 / 5548\n",
      "高値で引けた日の割合 = 0.0030641672674837778\n"
     ]
    }
   ],
   "source": [
    "# まずは高値で引けた場合で見てみる\n",
    "# p(当日上昇 | 前日高値で引ける)\n",
    "df_last_high = df[df['Close1'] == df['High1']]\n",
    "df_last_high.shape[0]\n",
    "print(f'高値で引けた日 / 全日数 = {df_last_high.shape[0]} / {df.shape[0]}')\n",
    "print(f'高値で引けた日の割合 = {df_last_high.shape[0] / df.shape[0]}')"
   ]
  },
  {
   "cell_type": "code",
   "execution_count": 31,
   "metadata": {},
   "outputs": [],
   "source": [
    "# 真の値幅（TR)を作成\n",
    "for i in range(N_BARS - 1):\n",
    "    df[f'TR{i}'] = df[[f'HCSlope{i}', f'CLSlope{i}', f'HLDiff{i}']].max(axis=1)"
   ]
  },
  {
   "cell_type": "code",
   "execution_count": 83,
   "metadata": {},
   "outputs": [
    {
     "name": "stdout",
     "output_type": "stream",
     "text": [
      "高値かその付近で引けた日 / 全日数 = 869 / 5548\n",
      "高値かその付近で引けた日の割合 = 0.15663302090843548\n"
     ]
    }
   ],
   "source": [
    "# 高値で引けた日の発生確率は低すぎるからこれを使うのは現実的でない\n",
    "# よって高値かその付近で引けた日の翌日に上昇するかを検証する\n",
    "# 条件としては、（上げて引けたこと）AND（高値かその付近で引けたこと）\n",
    "# 「高値かその付近で引けたこと」を終値がTRの上部10%以内であることとする\n",
    "\n",
    "# TRの上部何%にするか\n",
    "TR_UPPER_RATIO = 0.1 # この数字*100でパーセンテージ\n",
    "\n",
    "df_last_near_high = df[(df['CODiff1'] > 0) & (df['Close1'] >= df['High1'] - df['TR1'] * TR_UPPER_RATIO)]\n",
    "print(f'高値かその付近で引けた日 / 全日数 = {df_last_near_high.shape[0]} / {df.shape[0]}')\n",
    "print(f'高値かその付近で引けた日の割合 = {df_last_near_high.shape[0] / df.shape[0]}')"
   ]
  },
  {
   "cell_type": "code",
   "execution_count": 84,
   "metadata": {},
   "outputs": [
    {
     "data": {
      "image/png": "[encoded data removed]",
      "text/plain": [
       "<Figure size 576x432 with 2 Axes>"
      ]
     },
     "metadata": {
      "needs_background": "light"
     },
     "output_type": "display_data"
    }
   ],
   "source": [
    "# 「高値かその付近で引けた日」の発生日について、年毎の日数を表示\n",
    "# もし年毎に発生率が大きく違う場合は、年毎の損益にも大きく影響するため。\n",
    "fig, ax = plt.subplots(2, 1, figsize=(8, 6))\n",
    "df_last_near_high.groupby('year')['Date'].count().plot.bar(ax=ax[0])\n",
    "df.groupby('year')['Close0'].mean().plot(ax=ax[1])\n",
    "plt.subplots_adjust(hspace=0.4)\n",
    "\n",
    "# ばらつきはあるけど、全然発生しない年などはないから、毎年リターンを期待する戦略を開発することは可能だろう\n",
    "# 毎年の終値の平均も一緒にプロットした限りだと、トレンドとの相関はとくに見られない"
   ]
  },
  {
   "cell_type": "code",
   "execution_count": 85,
   "metadata": {},
   "outputs": [
    {
     "name": "stdout",
     "output_type": "stream",
     "text": [
      "高値かその付近で引けた翌日の値動きの平均 = -0.4562715765247411\n",
      "高値かその付近で引けた翌日に上昇した日 / 全日数 = 446 / 869\n",
      "高値かその付近で引けた翌日に上昇した日の割合 = 0.5132336018411968\n"
     ]
    },
    {
     "data": {
      "image/png": "[encoded data removed]",
      "text/plain": [
       "<Figure size 432x288 with 1 Axes>"
      ]
     },
     "metadata": {
      "needs_background": "light"
     },
     "output_type": "display_data"
    }
   ],
   "source": [
    "# 前日高値かその付近で引けた場合の、当日の値動き（終値 - 始値）分布を可視化\n",
    "sns.distplot(df_last_near_high['CODiff0'])\n",
    "\n",
    "print(f\"高値かその付近で引けた翌日の値動きの平均 = {df_last_near_high['CODiff0'].mean()}\")\n",
    "print(f\"高値かその付近で引けた翌日に上昇した日 / 全日数 = {df_last_near_high[df_last_near_high['CODiff0'] > 0].shape[0]} / {df_last_near_high.shape[0]}\")\n",
    "print(f\"高値かその付近で引けた翌日に上昇した日の割合 = {df_last_near_high[df_last_near_high['CODiff0'] > 0].shape[0] / df_last_near_high.shape[0]}\")\n",
    "\n",
    "# これを見る限り、前日高値かその付近で引けたとしても、当日上昇する傾向は特に見られない"
   ]
  },
  {
   "cell_type": "code",
   "execution_count": 88,
   "metadata": {},
   "outputs": [
    {
     "name": "stdout",
     "output_type": "stream",
     "text": [
      "（高値 - 終値）と翌日の（終値 - 始値）の相関係数 = 0.02428913490620477\n"
     ]
    },
    {
     "data": {
      "image/png": "[encoded data removed]",
      "text/plain": [
       "<Figure size 432x288 with 1 Axes>"
      ]
     },
     "metadata": {
      "needs_background": "light"
     },
     "output_type": "display_data"
    }
   ],
   "source": [
    "# やるべきことは少し違った。\n",
    "# 前日が上げて引けた日の場合に、前日の（高値 - 終値）に対して当日の値動き（終値 - 始値）を可視化すべきだった。\n",
    "df_last_up = df[df['CODiff1'] > 0]\n",
    "sns.regplot('HCDiff1', 'CODiff0', data=df_last_up)\n",
    "\n",
    "# df\n",
    "print(f\"（高値 - 終値）と翌日の（終値 - 始値）の相関係数 = {df_last_up.corr().loc['HCDiff1', 'CODiff0']}\")"
   ]
  },
  {
   "cell_type": "code",
   "execution_count": null,
   "metadata": {},
   "outputs": [],
   "source": []
  }
 ],
 "metadata": {
  "kernelspec": {
   "display_name": "Python 3",
   "language": "python",
   "name": "python3"
  },
  "language_info": {
   "codemirror_mode": {
    "name": "ipython",
    "version": 3
   },
   "file_extension": ".py",
   "mimetype": "text/x-python",
   "name": "python",
   "nbconvert_exporter": "python",
   "pygments_lexer": "ipython3",
   "version": "3.8.2"
  }
 },
 "nbformat": 4,
 "nbformat_minor": 4
}
