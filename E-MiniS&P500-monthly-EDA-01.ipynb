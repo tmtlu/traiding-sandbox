{
 "cells": [
  {
   "cell_type": "code",
   "execution_count": 1,
   "metadata": {},
   "outputs": [],
   "source": [
    "import numpy as np\n",
    "import pandas as pd\n",
    "import matplotlib.pyplot as plt\n",
    "import seaborn as sns"
   ]
  },
  {
   "cell_type": "code",
   "execution_count": 2,
   "metadata": {},
   "outputs": [
    {
     "name": "stdout",
     "output_type": "stream",
     "text": [
      "<class 'pandas.core.frame.DataFrame'>\n",
      "RangeIndex: 273 entries, 0 to 272\n",
      "Data columns (total 8 columns):\n",
      " #   Column  Non-Null Count  Dtype  \n",
      "---  ------  --------------  -----  \n",
      " 0   Date    273 non-null    object \n",
      " 1   Time    273 non-null    object \n",
      " 2   Open    273 non-null    float64\n",
      " 3   High    273 non-null    float64\n",
      " 4   Low     273 non-null    float64\n",
      " 5   Close   273 non-null    float64\n",
      " 6   Vol     273 non-null    int64  \n",
      " 7   OI      273 non-null    int64  \n",
      "dtypes: float64(4), int64(2), object(2)\n",
      "memory usage: 17.2+ KB\n"
     ]
    }
   ],
   "source": [
    "df = pd.read_csv('data/e-mini-sp500-200530/e-mini-sp500-monthly.csv')\n",
    "df.info()"
   ]
  },
  {
   "cell_type": "code",
   "execution_count": 3,
   "metadata": {},
   "outputs": [
    {
     "data": {
      "text/html": [
       "<div>\n",
       "<style scoped>\n",
       "    .dataframe tbody tr th:only-of-type {\n",
       "        vertical-align: middle;\n",
       "    }\n",
       "\n",
       "    .dataframe tbody tr th {\n",
       "        vertical-align: top;\n",
       "    }\n",
       "\n",
       "    .dataframe thead th {\n",
       "        text-align: right;\n",
       "    }\n",
       "</style>\n",
       "<table border=\"1\" class=\"dataframe\">\n",
       "  <thead>\n",
       "    <tr style=\"text-align: right;\">\n",
       "      <th></th>\n",
       "      <th>Date</th>\n",
       "      <th>Time</th>\n",
       "      <th>Open</th>\n",
       "      <th>High</th>\n",
       "      <th>Low</th>\n",
       "      <th>Close</th>\n",
       "      <th>Vol</th>\n",
       "      <th>OI</th>\n",
       "    </tr>\n",
       "  </thead>\n",
       "  <tbody>\n",
       "    <tr>\n",
       "      <th>0</th>\n",
       "      <td>09/30/1997</td>\n",
       "      <td>17:00</td>\n",
       "      <td>1071.25</td>\n",
       "      <td>1124.50</td>\n",
       "      <td>1062.75</td>\n",
       "      <td>1107.25</td>\n",
       "      <td>163511</td>\n",
       "      <td>5864</td>\n",
       "    </tr>\n",
       "    <tr>\n",
       "      <th>1</th>\n",
       "      <td>10/31/1997</td>\n",
       "      <td>17:00</td>\n",
       "      <td>1108.00</td>\n",
       "      <td>1144.75</td>\n",
       "      <td>996.50</td>\n",
       "      <td>1076.25</td>\n",
       "      <td>277435</td>\n",
       "      <td>15041</td>\n",
       "    </tr>\n",
       "    <tr>\n",
       "      <th>2</th>\n",
       "      <td>11/28/1997</td>\n",
       "      <td>17:00</td>\n",
       "      <td>1076.25</td>\n",
       "      <td>1123.50</td>\n",
       "      <td>1055.00</td>\n",
       "      <td>1102.25</td>\n",
       "      <td>190095</td>\n",
       "      <td>16750</td>\n",
       "    </tr>\n",
       "    <tr>\n",
       "      <th>3</th>\n",
       "      <td>12/31/1997</td>\n",
       "      <td>17:00</td>\n",
       "      <td>1108.00</td>\n",
       "      <td>1143.00</td>\n",
       "      <td>1077.25</td>\n",
       "      <td>1121.25</td>\n",
       "      <td>177531</td>\n",
       "      <td>5861</td>\n",
       "    </tr>\n",
       "    <tr>\n",
       "      <th>4</th>\n",
       "      <td>01/30/1998</td>\n",
       "      <td>17:00</td>\n",
       "      <td>1121.50</td>\n",
       "      <td>1141.25</td>\n",
       "      <td>1056.75</td>\n",
       "      <td>1130.50</td>\n",
       "      <td>265169</td>\n",
       "      <td>11468</td>\n",
       "    </tr>\n",
       "  </tbody>\n",
       "</table>\n",
       "</div>"
      ],
      "text/plain": [
       "         Date   Time     Open     High      Low    Close     Vol     OI\n",
       "0  09/30/1997  17:00  1071.25  1124.50  1062.75  1107.25  163511   5864\n",
       "1  10/31/1997  17:00  1108.00  1144.75   996.50  1076.25  277435  15041\n",
       "2  11/28/1997  17:00  1076.25  1123.50  1055.00  1102.25  190095  16750\n",
       "3  12/31/1997  17:00  1108.00  1143.00  1077.25  1121.25  177531   5861\n",
       "4  01/30/1998  17:00  1121.50  1141.25  1056.75  1130.50  265169  11468"
      ]
     },
     "execution_count": 3,
     "metadata": {},
     "output_type": "execute_result"
    }
   ],
   "source": [
    "df.head()"
   ]
  },
  {
   "cell_type": "code",
   "execution_count": 4,
   "metadata": {},
   "outputs": [
    {
     "data": {
      "text/plain": [
       "<matplotlib.axes._subplots.AxesSubplot at 0x7f1958a4e220>"
      ]
     },
     "execution_count": 4,
     "metadata": {},
     "output_type": "execute_result"
    },
    {
     "data": {
      "image/png": "[encoded data removed]",
      "text/plain": [
       "<Figure size 432x288 with 1 Axes>"
      ]
     },
     "metadata": {
      "needs_background": "light"
     },
     "output_type": "display_data"
    }
   ],
   "source": [
    "df.loc[:, ['Close']].plot()"
   ]
  },
  {
   "cell_type": "code",
   "execution_count": null,
   "metadata": {},
   "outputs": [],
   "source": []
  }
 ],
 "metadata": {
  "kernelspec": {
   "display_name": "Python 3",
   "language": "python",
   "name": "python3"
  },
  "language_info": {
   "codemirror_mode": {
    "name": "ipython",
    "version": 3
   },
   "file_extension": ".py",
   "mimetype": "text/x-python",
   "name": "python",
   "nbconvert_exporter": "python",
   "pygments_lexer": "ipython3",
   "version": "3.8.2"
  }
 },
 "nbformat": 4,
 "nbformat_minor": 4
}
