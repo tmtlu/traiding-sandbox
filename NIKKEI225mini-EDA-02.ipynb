{
 "cells": [
  {
   "cell_type": "markdown",
   "metadata": {},
   "source": [
    "# 前日までの値動きから当日の値動きを予測する\n",
    "オープン・クローズ戦略のセットアップあるいはフィルターとして使うことを想定。\n",
    "\n",
    "### 仮説\n",
    "- 主にラリー・ウィリアムズの短期売買法に書かれていたアイディア\n",
    "- TDW (trading day of week)\n",
    "- TDM (trading day of month)\n",
    "- 前日がアウトサイドデイの場合、前日の終値より当日の始値が低いときは上昇する確率が高い\n",
    "- 前日がアウトサイドデイでかつ下げて引けた日の場合、前日の終値より当日の始値が低いときは上昇する確率が高い\n",
    "- 2日連続終値が上昇し、その翌日の終値が前日の高値より高い場合、その翌日は上昇する確率が高い\n",
    "\n",
    "### 結論\n",
    "- TDWは機能しそう。\n",
    "- 下げて引けたアウトサイドデイ戦略は機能しそうだけど滅多に発生しないから使うとしてもメインの戦略にはならない。\n",
    "- TDMは未調査。\n",
    "- それ以外はエッジなし。"
   ]
  },
  {
   "cell_type": "code",
   "execution_count": 26,
   "metadata": {},
   "outputs": [
    {
     "data": {
      "text/plain": [
       "'en_US.UTF-8'"
      ]
     },
     "execution_count": 26,
     "metadata": {},
     "output_type": "execute_result"
    }
   ],
   "source": [
    "import numpy as np\n",
    "import pandas as pd\n",
    "from pandas.api.types import CategoricalDtype\n",
    "import matplotlib as mpl\n",
    "import matplotlib.pyplot as plt\n",
    "import seaborn as sns\n",
    "from datetime import datetime\n",
    "import locale\n",
    "\n",
    "# 月や曜日を英語で取得するためこの設定をしておく\n",
    "locale.setlocale(locale.LC_TIME, 'en_US.UTF-8')"
   ]
  },
  {
   "cell_type": "code",
   "execution_count": 116,
   "metadata": {},
   "outputs": [
    {
     "name": "stdout",
     "output_type": "stream",
     "text": [
      "<class 'pandas.core.frame.DataFrame'>\n",
      "RangeIndex: 3377 entries, 0 to 3376\n",
      "Data columns (total 6 columns):\n",
      " #   Column  Non-Null Count  Dtype \n",
      "---  ------  --------------  ----- \n",
      " 0   日付      3377 non-null   object\n",
      " 1   始値      3377 non-null   int64 \n",
      " 2   高値      3377 non-null   int64 \n",
      " 3   安値      3377 non-null   int64 \n",
      " 4   終値      3377 non-null   int64 \n",
      " 5   出来高     3377 non-null   int64 \n",
      "dtypes: int64(5), object(1)\n",
      "memory usage: 158.4+ KB\n"
     ]
    },
    {
     "data": {
      "text/html": [
       "<div>\n",
       "<style scoped>\n",
       "    .dataframe tbody tr th:only-of-type {\n",
       "        vertical-align: middle;\n",
       "    }\n",
       "\n",
       "    .dataframe tbody tr th {\n",
       "        vertical-align: top;\n",
       "    }\n",
       "\n",
       "    .dataframe thead th {\n",
       "        text-align: right;\n",
       "    }\n",
       "</style>\n",
       "<table border=\"1\" class=\"dataframe\">\n",
       "  <thead>\n",
       "    <tr style=\"text-align: right;\">\n",
       "      <th></th>\n",
       "      <th>日付</th>\n",
       "      <th>始値</th>\n",
       "      <th>高値</th>\n",
       "      <th>安値</th>\n",
       "      <th>終値</th>\n",
       "      <th>出来高</th>\n",
       "    </tr>\n",
       "  </thead>\n",
       "  <tbody>\n",
       "    <tr>\n",
       "      <th>0</th>\n",
       "      <td>2006/7/18</td>\n",
       "      <td>14680</td>\n",
       "      <td>14715</td>\n",
       "      <td>14400</td>\n",
       "      <td>14400</td>\n",
       "      <td>22345</td>\n",
       "    </tr>\n",
       "    <tr>\n",
       "      <th>1</th>\n",
       "      <td>2006/7/19</td>\n",
       "      <td>14500</td>\n",
       "      <td>14650</td>\n",
       "      <td>14465</td>\n",
       "      <td>14560</td>\n",
       "      <td>20646</td>\n",
       "    </tr>\n",
       "    <tr>\n",
       "      <th>2</th>\n",
       "      <td>2006/7/20</td>\n",
       "      <td>14860</td>\n",
       "      <td>14975</td>\n",
       "      <td>14780</td>\n",
       "      <td>14975</td>\n",
       "      <td>17398</td>\n",
       "    </tr>\n",
       "    <tr>\n",
       "      <th>3</th>\n",
       "      <td>2006/7/21</td>\n",
       "      <td>14840</td>\n",
       "      <td>14875</td>\n",
       "      <td>14790</td>\n",
       "      <td>14820</td>\n",
       "      <td>14689</td>\n",
       "    </tr>\n",
       "    <tr>\n",
       "      <th>4</th>\n",
       "      <td>2006/7/24</td>\n",
       "      <td>14685</td>\n",
       "      <td>14870</td>\n",
       "      <td>14560</td>\n",
       "      <td>14775</td>\n",
       "      <td>22641</td>\n",
       "    </tr>\n",
       "  </tbody>\n",
       "</table>\n",
       "</div>"
      ],
      "text/plain": [
       "          日付     始値     高値     安値     終値    出来高\n",
       "0  2006/7/18  14680  14715  14400  14400  22345\n",
       "1  2006/7/19  14500  14650  14465  14560  20646\n",
       "2  2006/7/20  14860  14975  14780  14975  17398\n",
       "3  2006/7/21  14840  14875  14790  14820  14689\n",
       "4  2006/7/24  14685  14870  14560  14775  22641"
      ]
     },
     "execution_count": 116,
     "metadata": {},
     "output_type": "execute_result"
    }
   ],
   "source": [
    "df = pd.read_csv('./data/N225minif_2020_exchange_daily.csv')\n",
    "df.info()\n",
    "df.head()"
   ]
  },
  {
   "cell_type": "markdown",
   "metadata": {},
   "source": [
    "# 1. TDW: 曜日ごとに上昇傾向・下落傾向があるか\n",
    "- 曜日ごとに値動き（終値 - 始値）を見ると、明らかに曜日サイクルはあるようだ。\n",
    "    - 平均値動きを見ると、月曜日と金曜日は下落日で、火水木は上昇日。\n",
    "    - 特に水曜日はかなり強い。\n",
    "- 曜日ごとに上昇日の割合を見ると、水曜日と木曜日は上昇する確率が高い。\n",
    "    - 特に水曜日は54.9%とかなり高い。\n",
    "- boxplotとviolinplotから、外れ値が多く分散が大きいが、ほぼ正規分布に従っていることがわかる。"
   ]
  },
  {
   "cell_type": "code",
   "execution_count": 117,
   "metadata": {},
   "outputs": [
    {
     "name": "stdout",
     "output_type": "stream",
     "text": [
      "\n",
      "■曜日ごとの値動き（終値 - 始値）の平均値\n",
      "       CODiff\n",
      "Day          \n",
      "Mon -4.529984\n",
      "Tue  3.517442\n",
      "Wed  8.490566\n",
      "Thu  1.989870\n",
      "Fri -5.968208\n",
      "\n",
      "■曜日ごとの上昇日とその割合\n"
     ]
    },
    {
     "data": {
      "text/plain": [
       "Day\n",
       "Mon    318 / 617 = 51.5%\n",
       "Tue    347 / 688 = 50.4%\n",
       "Wed    378 / 689 = 54.9%\n",
       "Thu    361 / 691 = 52.2%\n",
       "Fri    356 / 692 = 51.4%\n",
       "dtype: object"
      ]
     },
     "execution_count": 117,
     "metadata": {},
     "output_type": "execute_result"
    }
   ],
   "source": [
    "day_type = CategoricalDtype(categories=[\"Mon\", \"Tue\", \"Wed\", \"Thu\", \"Fri\"], ordered=True)\n",
    "df['Day'] = df['日付'].map(lambda s: datetime.strptime(s, '%Y/%m/%d').strftime('%a')).astype(day_type)\n",
    "df['CODiff'] = df['終値'] - df['始値'] # Close - Open の Diff\n",
    "\n",
    "# 明らかに曜日ごとに上昇傾向・下落傾向があるようだ\n",
    "print('\\n■曜日ごとの値動き（終値 - 始値）の平均値')\n",
    "print(df[['Day', 'CODiff']].groupby('Day').mean())\n",
    "\n",
    "# 上昇日 / 全体　とその割合\n",
    "df['isUp'] = df['CODiff'] > 0\n",
    "print('\\n■曜日ごとの上昇日とその割合')\n",
    "df[['Day', 'isUp']].groupby('Day').apply(lambda x: f'{x.isUp.sum()} / {len(x.isUp)} = {100 * x.isUp.sum() / len(x.isUp):.1f}%')"
   ]
  },
  {
   "cell_type": "code",
   "execution_count": 79,
   "metadata": {},
   "outputs": [
    {
     "data": {
      "text/plain": [
       "<matplotlib.axes._subplots.AxesSubplot at 0x7f354dec4100>"
      ]
     },
     "execution_count": 79,
     "metadata": {},
     "output_type": "execute_result"
    },
    {
     "data": {
      "image/png": "[encoded data removed]",
      "text/plain": [
       "<Figure size 432x288 with 1 Axes>"
      ]
     },
     "metadata": {
      "needs_background": "light"
     },
     "output_type": "display_data"
    }
   ],
   "source": [
    "sns.boxplot(x='Day', y='CODiff', data=df)"
   ]
  },
  {
   "cell_type": "code",
   "execution_count": 80,
   "metadata": {},
   "outputs": [
    {
     "data": {
      "text/plain": [
       "<matplotlib.axes._subplots.AxesSubplot at 0x7f3550d16880>"
      ]
     },
     "execution_count": 80,
     "metadata": {},
     "output_type": "execute_result"
    },
    {
     "data": {
      "image/png": "[encoded data removed]",
      "text/plain": [
       "<Figure size 432x288 with 1 Axes>"
      ]
     },
     "metadata": {
      "needs_background": "light"
     },
     "output_type": "display_data"
    }
   ],
   "source": [
    "sns.violinplot(x=df['Day'], y=df['CODiff'])"
   ]
  },
  {
   "cell_type": "markdown",
   "metadata": {},
   "source": [
    "# 2. TDM\n",
    "TBD"
   ]
  },
  {
   "cell_type": "markdown",
   "metadata": {},
   "source": [
    "# 3. アウトサイドデイの翌日の分析\n",
    "\n",
    "- アウトサイドデイの発生率：8.6%\n",
    "\n",
    "### 前日がアウトサイドデイでその終値より今日の始値が安いときに上昇するか\n",
    "- 発生した割合：3.8%\n",
    "- 上昇した割合：48.8%\n",
    "- 総損益：1,500円\n",
    "- 平均損益：11.8円\n",
    "\n",
    "**この戦略にエッジがあるとは到底思えない。**\n",
    "\n",
    "### 前日が下げて引けたアウトサイドデイで、かつその終値より今日の始値が安い日（より絞り込む）\n",
    "- 発生した割合：1.9%\n",
    "- 上昇した割合：77.8%\n",
    "- 総損益：26,500円\n",
    "- 平均損益：420.6円\n",
    "\n",
    "**一応エッジはありそうだが、発生確率が低すぎる。**"
   ]
  },
  {
   "cell_type": "code",
   "execution_count": 136,
   "metadata": {},
   "outputs": [
    {
     "name": "stdout",
     "output_type": "stream",
     "text": [
      "アウトサイドデイの発生率：8.6%\n",
      "セットアップ日の発生率：3.8%\n"
     ]
    },
    {
     "name": "stderr",
     "output_type": "stream",
     "text": [
      "<ipython-input-136-c143fdd42225>:20: SettingWithCopyWarning: \n",
      "A value is trying to be set on a copy of a slice from a DataFrame.\n",
      "Try using .loc[row_indexer,col_indexer] = value instead\n",
      "\n",
      "See the caveats in the documentation: https://pandas.pydata.org/pandas-docs/stable/user_guide/indexing.html#returning-a-view-versus-a-copy\n",
      "  df_setup['nnCODiff'] = df['終値2'] - df['始値2']\n"
     ]
    },
    {
     "data": {
      "text/plain": [
       "(127, 19)"
      ]
     },
     "execution_count": 136,
     "metadata": {},
     "output_type": "execute_result"
    }
   ],
   "source": [
    "# アウトサイドデイのデータ作成\n",
    "df['始値1'] = df['始値'][1:].append(pd.Series([np.nan])).reset_index(drop=True)\n",
    "df['高値1'] = df['高値'][1:].append(pd.Series([np.nan])).reset_index(drop=True)\n",
    "df['安値1'] = df['安値'][1:].append(pd.Series([np.nan])).reset_index(drop=True)\n",
    "df['終値1'] = df['終値'][1:].append(pd.Series([np.nan])).reset_index(drop=True)\n",
    "df['Outside'] = (df['高値1'] > df['高値']) & (df['安値1'] < df['安値'])\n",
    "\n",
    "# 翌々日\n",
    "df['始値2'] = df['始値'][2:].append(pd.Series([np.nan, np.nan])).reset_index(drop=True)\n",
    "df['高値2'] = df['高値'][2:].append(pd.Series([np.nan, np.nan])).reset_index(drop=True)\n",
    "df['安値2'] = df['安値'][2:].append(pd.Series([np.nan, np.nan])).reset_index(drop=True)\n",
    "df['終値2'] = df['終値'][2:].append(pd.Series([np.nan, np.nan])).reset_index(drop=True)\n",
    "\n",
    "# そもそもアウトサイドデイは滅多に発生しない\n",
    "print(f'アウトサイドデイの発生率：{100 * df[\"Outside\"].sum() / df.shape[0]:.1f}%')\n",
    "\n",
    "# 前日がアウトサイドデイで、かつその終値より今日の始値が安い日\n",
    "df_setup = df[(df['Outside'] == True) & (df['始値2'] < df['終値1'])]\n",
    "print(f'セットアップ日の発生率：{100 * df_setup.shape[0] / df.shape[0]:.1f}%')\n",
    "df_setup['nnCODiff'] = df['終値2'] - df['始値2']\n",
    "df_setup.shape"
   ]
  },
  {
   "cell_type": "code",
   "execution_count": 137,
   "metadata": {},
   "outputs": [
    {
     "data": {
      "text/plain": [
       "<matplotlib.axes._subplots.AxesSubplot at 0x7f35479a1e80>"
      ]
     },
     "execution_count": 137,
     "metadata": {},
     "output_type": "execute_result"
    },
    {
     "data": {
      "image/png": "[encoded data removed]",
      "text/plain": [
       "<Figure size 432x288 with 1 Axes>"
      ]
     },
     "metadata": {
      "needs_background": "light"
     },
     "output_type": "display_data"
    }
   ],
   "source": [
    "# 前日がアウトサイドデイで、かつその終値より今日の始値が安い日の値動き（終値 - 始値）を各日についてプロット\n",
    "sns.scatterplot('日付', 'nnCODiff', data=df_setup)"
   ]
  },
  {
   "cell_type": "code",
   "execution_count": 149,
   "metadata": {},
   "outputs": [
    {
     "name": "stdout",
     "output_type": "stream",
     "text": [
      "上昇確率：48.8%\n",
      "総損益：1500.0円\n",
      "平均損益：11.8円\n"
     ]
    }
   ],
   "source": [
    "# 前日がアウトサイドデイで、かつその終値より今日の始値が安い日の上昇確率\n",
    "print(f'上昇確率：{100 * (df_setup[\"nnCODiff\"] > 0).sum() / df_setup.shape[0]:.1f}%')\n",
    "\n",
    "# 始値で買って終値で売った場合（現実的ではないが）の総損益\n",
    "print(f'総損益：{df_setup[\"nnCODiff\"].sum() * 100}円')\n",
    "\n",
    "# 平均損益\n",
    "print(f'平均損益：{df_setup[\"nnCODiff\"].mean() * 100:.1f}円')"
   ]
  },
  {
   "cell_type": "code",
   "execution_count": 139,
   "metadata": {},
   "outputs": [
    {
     "name": "stdout",
     "output_type": "stream",
     "text": [
      "セットアップ日の発生率：1.9%\n"
     ]
    },
    {
     "name": "stderr",
     "output_type": "stream",
     "text": [
      "<ipython-input-139-e349fab1c548>:5: SettingWithCopyWarning: \n",
      "A value is trying to be set on a copy of a slice from a DataFrame.\n",
      "Try using .loc[row_indexer,col_indexer] = value instead\n",
      "\n",
      "See the caveats in the documentation: https://pandas.pydata.org/pandas-docs/stable/user_guide/indexing.html#returning-a-view-versus-a-copy\n",
      "  df_setup2['nnCODiff'] = df['終値2'] - df['始値2']\n"
     ]
    },
    {
     "data": {
      "text/plain": [
       "(63, 19)"
      ]
     },
     "execution_count": 139,
     "metadata": {},
     "output_type": "execute_result"
    }
   ],
   "source": [
    "# より絞り込んだセットアップ\n",
    "# 前日が下げて引けたアウトサイドデイで、かつその終値より今日の始値が安い日\n",
    "df_setup2 = df[(df['Outside'] == True) & (df['終値1'] < df['始値1']) & (df['始値2'] < df['終値1'])]\n",
    "print(f'セットアップ日の発生率：{100 * df_setup2.shape[0] / df.shape[0]:.1f}%')\n",
    "df_setup2['nnCODiff'] = df['終値2'] - df['始値2']\n",
    "df_setup2.shape"
   ]
  },
  {
   "cell_type": "code",
   "execution_count": 140,
   "metadata": {},
   "outputs": [
    {
     "data": {
      "text/plain": [
       "<matplotlib.axes._subplots.AxesSubplot at 0x7f35478fd7c0>"
      ]
     },
     "execution_count": 140,
     "metadata": {},
     "output_type": "execute_result"
    },
    {
     "data": {
      "image/png": "[encoded data removed]",
      "text/plain": [
       "<Figure size 432x288 with 1 Axes>"
      ]
     },
     "metadata": {
      "needs_background": "light"
     },
     "output_type": "display_data"
    }
   ],
   "source": [
    "sns.scatterplot('日付', 'nnCODiff', data=df_setup2)"
   ]
  },
  {
   "cell_type": "code",
   "execution_count": 150,
   "metadata": {},
   "outputs": [
    {
     "name": "stdout",
     "output_type": "stream",
     "text": [
      "上昇確率： 77.8%\n",
      "総損益：26500.0円\n",
      "平均損益：420.6円\n"
     ]
    }
   ],
   "source": [
    "# 前日が下げて引けたアウトサイドデイで、かつその終値より今日の始値が安い日の上昇確率\n",
    "print(f'上昇確率： {100 * (df_setup2[\"CODiff\"] > 0).sum() / df_setup2.shape[0]:.1f}%')\n",
    "\n",
    "# 始値で買って終値で売った場合（現実的ではないが）の総損益\n",
    "print(f'総損益：{df_setup2[\"nnCODiff\"].sum() * 100}円')\n",
    "\n",
    "# 平均損益\n",
    "print(f'平均損益：{df_setup2[\"nnCODiff\"].mean() * 100:.1f}円')"
   ]
  },
  {
   "cell_type": "markdown",
   "metadata": {},
   "source": [
    "# 4. 2日連続終値が上昇し、その翌日の終値が前日の高値より高い場合、その翌日は上昇する確率が高いか\n",
    "**結論：全然ダメ。**\n",
    "- 発生した割合：9.1%\n",
    "- 上昇した割合：50.2%\n",
    "- 総損益：-272000.0円\n",
    "- 平均損益：-886.0円"
   ]
  },
  {
   "cell_type": "code",
   "execution_count": 157,
   "metadata": {},
   "outputs": [],
   "source": [
    "# 5日間分のデータが必要\n",
    "# 翌翌翌日\n",
    "df['始値3'] = df['始値'][3:].append(pd.Series([np.nan, np.nan, np.nan])).reset_index(drop=True)\n",
    "df['高値3'] = df['高値'][3:].append(pd.Series([np.nan, np.nan, np.nan])).reset_index(drop=True)\n",
    "df['安値3'] = df['安値'][3:].append(pd.Series([np.nan, np.nan, np.nan])).reset_index(drop=True)\n",
    "df['終値3'] = df['終値'][3:].append(pd.Series([np.nan, np.nan, np.nan])).reset_index(drop=True)\n",
    "\n",
    "# 翌翌翌翌日\n",
    "df['始値4'] = df['始値'][4:].append(pd.Series([np.nan, np.nan, np.nan, np.nan])).reset_index(drop=True)\n",
    "df['高値4'] = df['高値'][4:].append(pd.Series([np.nan, np.nan, np.nan, np.nan])).reset_index(drop=True)\n",
    "df['安値4'] = df['安値'][4:].append(pd.Series([np.nan, np.nan, np.nan, np.nan])).reset_index(drop=True)\n",
    "df['終値4'] = df['終値'][4:].append(pd.Series([np.nan, np.nan, np.nan, np.nan])).reset_index(drop=True)\n",
    "\n",
    "\n",
    "# ここでは、\n",
    "# 4日前：値\n",
    "# 3日前：値1\n",
    "# 2日前：値2\n",
    "# 1日前：値3\n",
    "# 当日：値4\n",
    "# として扱う"
   ]
  },
  {
   "cell_type": "code",
   "execution_count": 163,
   "metadata": {},
   "outputs": [
    {
     "name": "stdout",
     "output_type": "stream",
     "text": [
      "発生率：9.1%\n",
      "上昇確率：50.2%\n",
      "総損益：-272000.0円\n",
      "平均損益：-886.0円\n"
     ]
    },
    {
     "name": "stderr",
     "output_type": "stream",
     "text": [
      "<ipython-input-163-5d522e53f01d>:6: SettingWithCopyWarning: \n",
      "A value is trying to be set on a copy of a slice from a DataFrame.\n",
      "Try using .loc[row_indexer,col_indexer] = value instead\n",
      "\n",
      "See the caveats in the documentation: https://pandas.pydata.org/pandas-docs/stable/user_guide/indexing.html#returning-a-view-versus-a-copy\n",
      "  df_setup3['CODiff4'] = df_setup3['終値4'] - df_setup3['始値4']\n"
     ]
    }
   ],
   "source": [
    "# 3日前と2日前に上げて引けて、かつ前日の終値が2日前の高値より高い条件\n",
    "df_setup3 = df[(df['終値1'] > df['終値']) & (df['終値2'] > df['終値1']) & (df['終値3'] > df['高値2'])]\n",
    "print(f'発生率：{100 * df_setup3.shape[0] / df.shape[0]:.1f}%')\n",
    "\n",
    "# このセットアップ日の上昇確率\n",
    "df_setup3['CODiff4'] = df_setup3['終値4'] - df_setup3['始値4']\n",
    "print(f'上昇確率：{100 * (df_setup3[\"CODiff4\"] > 0).sum() / df_setup3.shape[0]:.1f}%')\n",
    "\n",
    "# 始値で買って終値で売った場合（現実的ではないが）の総損益\n",
    "print(f'総損益：{df_setup3[\"CODiff4\"].sum() * 100}円')\n",
    "\n",
    "# 平均損益\n",
    "print(f'平均損益：{df_setup3[\"CODiff4\"].mean() * 100:.1f}円')"
   ]
  },
  {
   "cell_type": "code",
   "execution_count": 164,
   "metadata": {},
   "outputs": [
    {
     "data": {
      "text/plain": [
       "<matplotlib.axes._subplots.AxesSubplot at 0x7f3547764d30>"
      ]
     },
     "execution_count": 164,
     "metadata": {},
     "output_type": "execute_result"
    },
    {
     "name": "stderr",
     "output_type": "stream",
     "text": [
      "/home/leo/src/pyscript/traiding-sandbox/.venv/lib/python3.8/site-packages/matplotlib/backends/backend_agg.py:214: RuntimeWarning: Glyph 26085 missing from current font.\n",
      "  font.set_text(s, 0.0, flags=flags)\n",
      "/home/leo/src/pyscript/traiding-sandbox/.venv/lib/python3.8/site-packages/matplotlib/backends/backend_agg.py:214: RuntimeWarning: Glyph 20184 missing from current font.\n",
      "  font.set_text(s, 0.0, flags=flags)\n",
      "/home/leo/src/pyscript/traiding-sandbox/.venv/lib/python3.8/site-packages/matplotlib/backends/backend_agg.py:183: RuntimeWarning: Glyph 26085 missing from current font.\n",
      "  font.set_text(s, 0, flags=flags)\n",
      "/home/leo/src/pyscript/traiding-sandbox/.venv/lib/python3.8/site-packages/matplotlib/backends/backend_agg.py:183: RuntimeWarning: Glyph 20184 missing from current font.\n",
      "  font.set_text(s, 0, flags=flags)\n"
     ]
    },
    {
     "data": {
      "image/png": "[encoded data removed]",
      "text/plain": [
       "<Figure size 432x288 with 1 Axes>"
      ]
     },
     "metadata": {
      "needs_background": "light"
     },
     "output_type": "display_data"
    }
   ],
   "source": [
    "sns.scatterplot('日付', 'CODiff4', data=df_setup3)"
   ]
  },
  {
   "cell_type": "code",
   "execution_count": null,
   "metadata": {},
   "outputs": [],
   "source": []
  }
 ],
 "metadata": {
  "kernelspec": {
   "display_name": "Python 3",
   "language": "python",
   "name": "python3"
  },
  "language_info": {
   "codemirror_mode": {
    "name": "ipython",
    "version": 3
   },
   "file_extension": ".py",
   "mimetype": "text/x-python",
   "name": "python",
   "nbconvert_exporter": "python",
   "pygments_lexer": "ipython3",
   "version": "3.8.2"
  }
 },
 "nbformat": 4,
 "nbformat_minor": 4
}
