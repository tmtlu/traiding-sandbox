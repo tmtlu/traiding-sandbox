{
 "cells": [
  {
   "cell_type": "markdown",
   "metadata": {},
   "source": [
    "# 前日の値動きと当日の値動きの間の相関を探す\n",
    "**単純かつ普遍的な傾向を見出すため、前日しか見ない。**\n",
    "\n",
    "オープン・クローズ戦略のセットアップあるいはフィルターとして使うことを想定。\n",
    "\n",
    "### 仮説\n",
    "- 前日と当日の上昇・下落などに相関があるか\n",
    "\n",
    "### 結論\n",
    "- 詳細な調査はしていないが、おそらくあまり強い相関は無さそう。さすがに単純すぎるか。トレンドでフィルタリングすれば出るかもしれないが、それはあまり意味がないだろう。例えば上昇トレンドなら上昇している期間なのだから、その期間では`p(当日上昇 | 前日上昇)`が0.5を大きく超えるはずだがそれは当たり前のこと。\n",
    "- ラリー・ウィリアムズの短期売買法には、**「トレーディングやシステム開発で最高の結果が得られたのは、ほとんどの場合、過去1日から過去4日間の平均を使った時だったのである。」**と書かれていたから、過去4日ぐらいまで見てみるのが良いかもしれない。"
   ]
  },
  {
   "cell_type": "code",
   "execution_count": 1,
   "metadata": {},
   "outputs": [
    {
     "data": {
      "text/plain": [
       "'en_US.UTF-8'"
      ]
     },
     "execution_count": 1,
     "metadata": {},
     "output_type": "execute_result"
    }
   ],
   "source": [
    "import numpy as np\n",
    "import pandas as pd\n",
    "from pandas.api.types import CategoricalDtype\n",
    "import matplotlib as mpl\n",
    "import matplotlib.pyplot as plt\n",
    "import seaborn as sns\n",
    "from datetime import datetime\n",
    "import locale\n",
    "\n",
    "# 月や曜日を英語で取得するためこの設定をしておく\n",
    "locale.setlocale(locale.LC_TIME, 'en_US.UTF-8')"
   ]
  },
  {
   "cell_type": "code",
   "execution_count": 2,
   "metadata": {
    "collapsed": true
   },
   "outputs": [
    {
     "name": "stdout",
     "output_type": "stream",
     "text": [
      "<class 'pandas.core.frame.DataFrame'>\n",
      "RangeIndex: 3377 entries, 0 to 3376\n",
      "Data columns (total 6 columns):\n",
      " #   Column  Non-Null Count  Dtype \n",
      "---  ------  --------------  ----- \n",
      " 0   日付      3377 non-null   object\n",
      " 1   始値      3377 non-null   int64 \n",
      " 2   高値      3377 non-null   int64 \n",
      " 3   安値      3377 non-null   int64 \n",
      " 4   終値      3377 non-null   int64 \n",
      " 5   出来高     3377 non-null   int64 \n",
      "dtypes: int64(5), object(1)\n",
      "memory usage: 158.4+ KB\n"
     ]
    },
    {
     "data": {
      "text/html": [
       "<div>\n",
       "<style scoped>\n",
       "    .dataframe tbody tr th:only-of-type {\n",
       "        vertical-align: middle;\n",
       "    }\n",
       "\n",
       "    .dataframe tbody tr th {\n",
       "        vertical-align: top;\n",
       "    }\n",
       "\n",
       "    .dataframe thead th {\n",
       "        text-align: right;\n",
       "    }\n",
       "</style>\n",
       "<table border=\"1\" class=\"dataframe\">\n",
       "  <thead>\n",
       "    <tr style=\"text-align: right;\">\n",
       "      <th></th>\n",
       "      <th>日付</th>\n",
       "      <th>始値</th>\n",
       "      <th>高値</th>\n",
       "      <th>安値</th>\n",
       "      <th>終値</th>\n",
       "      <th>出来高</th>\n",
       "    </tr>\n",
       "  </thead>\n",
       "  <tbody>\n",
       "    <tr>\n",
       "      <th>0</th>\n",
       "      <td>2006/7/18</td>\n",
       "      <td>14680</td>\n",
       "      <td>14715</td>\n",
       "      <td>14400</td>\n",
       "      <td>14400</td>\n",
       "      <td>22345</td>\n",
       "    </tr>\n",
       "    <tr>\n",
       "      <th>1</th>\n",
       "      <td>2006/7/19</td>\n",
       "      <td>14500</td>\n",
       "      <td>14650</td>\n",
       "      <td>14465</td>\n",
       "      <td>14560</td>\n",
       "      <td>20646</td>\n",
       "    </tr>\n",
       "    <tr>\n",
       "      <th>2</th>\n",
       "      <td>2006/7/20</td>\n",
       "      <td>14860</td>\n",
       "      <td>14975</td>\n",
       "      <td>14780</td>\n",
       "      <td>14975</td>\n",
       "      <td>17398</td>\n",
       "    </tr>\n",
       "    <tr>\n",
       "      <th>3</th>\n",
       "      <td>2006/7/21</td>\n",
       "      <td>14840</td>\n",
       "      <td>14875</td>\n",
       "      <td>14790</td>\n",
       "      <td>14820</td>\n",
       "      <td>14689</td>\n",
       "    </tr>\n",
       "    <tr>\n",
       "      <th>4</th>\n",
       "      <td>2006/7/24</td>\n",
       "      <td>14685</td>\n",
       "      <td>14870</td>\n",
       "      <td>14560</td>\n",
       "      <td>14775</td>\n",
       "      <td>22641</td>\n",
       "    </tr>\n",
       "  </tbody>\n",
       "</table>\n",
       "</div>"
      ],
      "text/plain": [
       "          日付     始値     高値     安値     終値    出来高\n",
       "0  2006/7/18  14680  14715  14400  14400  22345\n",
       "1  2006/7/19  14500  14650  14465  14560  20646\n",
       "2  2006/7/20  14860  14975  14780  14975  17398\n",
       "3  2006/7/21  14840  14875  14790  14820  14689\n",
       "4  2006/7/24  14685  14870  14560  14775  22641"
      ]
     },
     "execution_count": 2,
     "metadata": {},
     "output_type": "execute_result"
    }
   ],
   "source": [
    "df = pd.read_csv('./data/N225minif_2020_exchange_daily.csv')\n",
    "df.info()\n",
    "df.head()"
   ]
  },
  {
   "cell_type": "markdown",
   "metadata": {},
   "source": [
    "# 1. 前日の値動きと当日の値動きの相関性\n",
    "相関は見られない。わずかに逆相関があるのかも。とすれば、前日上がったら当日下がる可能性が高いということ。"
   ]
  },
  {
   "cell_type": "markdown",
   "metadata": {},
   "source": [
    "### 以下のデータ加工方法だと日付が1日ずれているので注意！（ここでは日付情報を使っていないから問題ないが）"
   ]
  },
  {
   "cell_type": "code",
   "execution_count": 3,
   "metadata": {},
   "outputs": [],
   "source": [
    "df['始値1'] = df['始値'][1:].append(pd.Series([np.nan])).reset_index(drop=True)\n",
    "df['高値1'] = df['高値'][1:].append(pd.Series([np.nan])).reset_index(drop=True)\n",
    "df['安値1'] = df['安値'][1:].append(pd.Series([np.nan])).reset_index(drop=True)\n",
    "df['終値1'] = df['終値'][1:].append(pd.Series([np.nan])).reset_index(drop=True)\n",
    "\n",
    "# ここでは、\n",
    "# 前日：X値\n",
    "# 当日：X値1\n",
    "# として扱う"
   ]
  },
  {
   "cell_type": "code",
   "execution_count": 4,
   "metadata": {},
   "outputs": [
    {
     "data": {
      "text/plain": [
       "<seaborn.axisgrid.FacetGrid at 0x7f6941892460>"
      ]
     },
     "execution_count": 4,
     "metadata": {},
     "output_type": "execute_result"
    },
    {
     "data": {
      "image/png": "[encoded data removed]",
      "text/plain": [
       "<Figure size 360x360 with 1 Axes>"
      ]
     },
     "metadata": {
      "needs_background": "light"
     },
     "output_type": "display_data"
    }
   ],
   "source": [
    "# 前日と当日それぞれの値動き\n",
    "df['CODiff'] = df['終値'] - df['始値'] # 前日の値動き\n",
    "df['CODiff1'] = df['終値1'] - df['始値1'] # 当日の値動き\n",
    "sns.lmplot('CODiff', 'CODiff1', data=df)"
   ]
  },
  {
   "cell_type": "code",
   "execution_count": 13,
   "metadata": {},
   "outputs": [
    {
     "data": {
      "text/plain": [
       "<matplotlib.axes._subplots.AxesSubplot at 0x7f693dfeb940>"
      ]
     },
     "execution_count": 13,
     "metadata": {},
     "output_type": "execute_result"
    },
    {
     "data": {
      "image/png": "[encoded data removed]",
      "text/plain": [
       "<Figure size 432x288 with 1 Axes>"
      ]
     },
     "metadata": {
      "needs_background": "light"
     },
     "output_type": "display_data"
    }
   ],
   "source": [
    "sns.scatterplot('CODiff', 'CODiff1', data=df)"
   ]
  },
  {
   "cell_type": "code",
   "execution_count": 6,
   "metadata": {},
   "outputs": [
    {
     "name": "stdout",
     "output_type": "stream",
     "text": [
      "前日上昇日数：1760 のうち、当日上昇日数：897\n",
      "p( 当日上昇 | 前日上昇 ) = 51.0%\n"
     ]
    }
   ],
   "source": [
    "# 前日上がった場合の当日の上昇確率\n",
    "df_prev_up = df[df['CODiff'] > 0]\n",
    "n_up = (df_prev_up['CODiff1'] > 0).sum()\n",
    "print(f'前日上昇日数：{df_prev_up.shape[0]} のうち、当日上昇日数：{n_up}')\n",
    "print(f'p( 当日上昇 | 前日上昇 ) = {100 * n_up / df_prev_up.shape[0]:.1f}%')"
   ]
  },
  {
   "cell_type": "code",
   "execution_count": 7,
   "metadata": {},
   "outputs": [],
   "source": [
    "# 前日X%以上上がった場合の当日の上昇確率を計算する関数\n",
    "def up_days_when_up_x_percent_yesterday(x):\n",
    "    df_prev_x_up = df[df['CODiff'] / (df['終値'] + df['始値']) * 2 > x]\n",
    "    n_up = (df_prev_x_up['CODiff1'] > 0).sum()\n",
    "    return n_up, df_prev_x_up.shape[0]"
   ]
  },
  {
   "cell_type": "code",
   "execution_count": 10,
   "metadata": {},
   "outputs": [
    {
     "name": "stdout",
     "output_type": "stream",
     "text": [
      "前日1%以上上昇日数：671 のうち、当日上昇日数：348\n",
      "p( 当日上昇 | 前日1%以上上昇 ) = 51.9%\n"
     ]
    }
   ],
   "source": [
    "# 1%以上上昇\n",
    "n_up_afer_1p, n_up_1p_total = up_days_when_up_x_percent_yesterday(0.01)\n",
    "print(f'前日1%以上上昇日数：{n_up_1p_total} のうち、当日上昇日数：{n_up_afer_1p}')\n",
    "print(f'p( 当日上昇 | 前日1%以上上昇 ) = {100 * n_up_afer_1p / n_up_1p_total:.1f}%')"
   ]
  },
  {
   "cell_type": "code",
   "execution_count": 11,
   "metadata": {},
   "outputs": [
    {
     "name": "stdout",
     "output_type": "stream",
     "text": [
      "前日2%以上上昇日数：206 のうち、当日上昇日数：109\n",
      "p( 当日上昇 | 前日2%以上上昇 ) = 52.9%\n"
     ]
    }
   ],
   "source": [
    "# 2%以上上昇\n",
    "n_up_afer_2p, n_up_2p_total = up_days_when_up_x_percent_yesterday(0.02)\n",
    "print(f'前日2%以上上昇日数：{n_up_2p_total} のうち、当日上昇日数：{n_up_afer_2p}')\n",
    "print(f'p( 当日上昇 | 前日2%以上上昇 ) = {100 * n_up_afer_2p / n_up_2p_total:.1f}%')"
   ]
  },
  {
   "cell_type": "code",
   "execution_count": 12,
   "metadata": {},
   "outputs": [
    {
     "name": "stdout",
     "output_type": "stream",
     "text": [
      "前日4%以上上昇日数：29 のうち、当日上昇日数：15\n",
      "p( 当日上昇 | 前日4%以上上昇 ) = 51.7%\n"
     ]
    }
   ],
   "source": [
    "# 4%以上上昇\n",
    "n_up_afer_4p, n_up_4p_total = up_days_when_up_x_percent_yesterday(0.04)\n",
    "print(f'前日4%以上上昇日数：{n_up_4p_total} のうち、当日上昇日数：{n_up_afer_4p}')\n",
    "print(f'p( 当日上昇 | 前日4%以上上昇 ) = {100 * n_up_afer_4p / n_up_4p_total:.1f}%')"
   ]
  },
  {
   "cell_type": "code",
   "execution_count": null,
   "metadata": {},
   "outputs": [],
   "source": []
  }
 ],
 "metadata": {
  "kernelspec": {
   "display_name": "Python 3",
   "language": "python",
   "name": "python3"
  },
  "language_info": {
   "codemirror_mode": {
    "name": "ipython",
    "version": 3
   },
   "file_extension": ".py",
   "mimetype": "text/x-python",
   "name": "python",
   "nbconvert_exporter": "python",
   "pygments_lexer": "ipython3",
   "version": "3.8.2"
  }
 },
 "nbformat": 4,
 "nbformat_minor": 4
}
