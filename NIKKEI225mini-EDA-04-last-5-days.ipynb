{
 "cells": [
  {
   "cell_type": "markdown",
   "metadata": {},
   "source": [
    "# 過去5日間以内の値動きとその後の値動きの間の相関を探す\n",
    "- ラリー・ウィリアムズの短期売買法には、**「トレーディングやシステム開発で最高の結果が得られたのは、ほとんどの場合、過去1日から過去4日間の平均を使った時だったのである。」**と書かれていたから、過去4日ぐらいまで見てみるのが良いかもしれない。\n",
    "- 大目に見て過去5日までの値動きを考慮可能にしておく。\n",
    "\n",
    "### 仮説\n",
    "- 過去5日以内の値動き・指標をもとに、その後の値動き（上昇・下降）をランダムより十分高い確率で予測できる。\n",
    "\n",
    "### 検証すること\n",
    "- 過去N日間の安値を下回ってから上昇に転じ、前日の高値を上回ったときにその後の値動きがどうなるか。（ラリー本によれば上昇する）\n",
    "\n",
    "### 結果概要\n",
    "- セットアップとして使えるほどの相関を見出すことはできなかった。詳細は下のほうに。"
   ]
  },
  {
   "cell_type": "code",
   "execution_count": 1,
   "metadata": {},
   "outputs": [
    {
     "data": {
      "text/plain": [
       "'en_US.UTF-8'"
      ]
     },
     "execution_count": 1,
     "metadata": {},
     "output_type": "execute_result"
    }
   ],
   "source": [
    "import numpy as np\n",
    "import pandas as pd\n",
    "from pandas.api.types import CategoricalDtype\n",
    "import matplotlib as mpl\n",
    "import matplotlib.pyplot as plt\n",
    "import seaborn as sns\n",
    "from datetime import datetime\n",
    "import locale\n",
    "\n",
    "# 月や曜日を英語で取得するためこの設定をしておく\n",
    "locale.setlocale(locale.LC_TIME, 'en_US.UTF-8')"
   ]
  },
  {
   "cell_type": "code",
   "execution_count": 2,
   "metadata": {},
   "outputs": [
    {
     "name": "stdout",
     "output_type": "stream",
     "text": [
      "<class 'pandas.core.frame.DataFrame'>\n",
      "RangeIndex: 3377 entries, 0 to 3376\n",
      "Data columns (total 6 columns):\n",
      " #   Column  Non-Null Count  Dtype \n",
      "---  ------  --------------  ----- \n",
      " 0   日付      3377 non-null   object\n",
      " 1   始値      3377 non-null   int64 \n",
      " 2   高値      3377 non-null   int64 \n",
      " 3   安値      3377 non-null   int64 \n",
      " 4   終値      3377 non-null   int64 \n",
      " 5   出来高     3377 non-null   int64 \n",
      "dtypes: int64(5), object(1)\n",
      "memory usage: 158.4+ KB\n"
     ]
    },
    {
     "data": {
      "text/html": [
       "<div>\n",
       "<style scoped>\n",
       "    .dataframe tbody tr th:only-of-type {\n",
       "        vertical-align: middle;\n",
       "    }\n",
       "\n",
       "    .dataframe tbody tr th {\n",
       "        vertical-align: top;\n",
       "    }\n",
       "\n",
       "    .dataframe thead th {\n",
       "        text-align: right;\n",
       "    }\n",
       "</style>\n",
       "<table border=\"1\" class=\"dataframe\">\n",
       "  <thead>\n",
       "    <tr style=\"text-align: right;\">\n",
       "      <th></th>\n",
       "      <th>日付</th>\n",
       "      <th>始値</th>\n",
       "      <th>高値</th>\n",
       "      <th>安値</th>\n",
       "      <th>終値</th>\n",
       "      <th>出来高</th>\n",
       "    </tr>\n",
       "  </thead>\n",
       "  <tbody>\n",
       "    <tr>\n",
       "      <th>0</th>\n",
       "      <td>2006/7/18</td>\n",
       "      <td>14680</td>\n",
       "      <td>14715</td>\n",
       "      <td>14400</td>\n",
       "      <td>14400</td>\n",
       "      <td>22345</td>\n",
       "    </tr>\n",
       "    <tr>\n",
       "      <th>1</th>\n",
       "      <td>2006/7/19</td>\n",
       "      <td>14500</td>\n",
       "      <td>14650</td>\n",
       "      <td>14465</td>\n",
       "      <td>14560</td>\n",
       "      <td>20646</td>\n",
       "    </tr>\n",
       "    <tr>\n",
       "      <th>2</th>\n",
       "      <td>2006/7/20</td>\n",
       "      <td>14860</td>\n",
       "      <td>14975</td>\n",
       "      <td>14780</td>\n",
       "      <td>14975</td>\n",
       "      <td>17398</td>\n",
       "    </tr>\n",
       "    <tr>\n",
       "      <th>3</th>\n",
       "      <td>2006/7/21</td>\n",
       "      <td>14840</td>\n",
       "      <td>14875</td>\n",
       "      <td>14790</td>\n",
       "      <td>14820</td>\n",
       "      <td>14689</td>\n",
       "    </tr>\n",
       "    <tr>\n",
       "      <th>4</th>\n",
       "      <td>2006/7/24</td>\n",
       "      <td>14685</td>\n",
       "      <td>14870</td>\n",
       "      <td>14560</td>\n",
       "      <td>14775</td>\n",
       "      <td>22641</td>\n",
       "    </tr>\n",
       "  </tbody>\n",
       "</table>\n",
       "</div>"
      ],
      "text/plain": [
       "          日付     始値     高値     安値     終値    出来高\n",
       "0  2006/7/18  14680  14715  14400  14400  22345\n",
       "1  2006/7/19  14500  14650  14465  14560  20646\n",
       "2  2006/7/20  14860  14975  14780  14975  17398\n",
       "3  2006/7/21  14840  14875  14790  14820  14689\n",
       "4  2006/7/24  14685  14870  14560  14775  22641"
      ]
     },
     "execution_count": 2,
     "metadata": {},
     "output_type": "execute_result"
    }
   ],
   "source": [
    "df_raw = pd.read_csv('./data/N225minif_2020_exchange_daily.csv')\n",
    "df_raw.info()\n",
    "df_raw.head()"
   ]
  },
  {
   "cell_type": "markdown",
   "metadata": {},
   "source": [
    "# 分析するためのデータを作成\n",
    "- 過去N日間の価格データを使えるようにする"
   ]
  },
  {
   "cell_type": "code",
   "execution_count": 3,
   "metadata": {},
   "outputs": [
    {
     "name": "stdout",
     "output_type": "stream",
     "text": [
      "<class 'pandas.core.frame.DataFrame'>\n",
      "RangeIndex: 3372 entries, 0 to 3371\n",
      "Data columns (total 33 columns):\n",
      " #   Column   Non-Null Count  Dtype  \n",
      "---  ------   --------------  -----  \n",
      " 0   date     3372 non-null   object \n",
      " 1   o5       3372 non-null   int64  \n",
      " 2   h5       3372 non-null   int64  \n",
      " 3   l5       3372 non-null   int64  \n",
      " 4   c5       3372 non-null   int64  \n",
      " 5   v5       3372 non-null   int64  \n",
      " 6   o4       3372 non-null   float64\n",
      " 7   h4       3372 non-null   float64\n",
      " 8   l4       3372 non-null   float64\n",
      " 9   c4       3372 non-null   float64\n",
      " 10  v4       3372 non-null   float64\n",
      " 11  o3       3372 non-null   float64\n",
      " 12  h3       3372 non-null   float64\n",
      " 13  l3       3372 non-null   float64\n",
      " 14  c3       3372 non-null   float64\n",
      " 15  v3       3372 non-null   float64\n",
      " 16  o2       3372 non-null   float64\n",
      " 17  h2       3372 non-null   float64\n",
      " 18  l2       3372 non-null   float64\n",
      " 19  c2       3372 non-null   float64\n",
      " 20  v2       3372 non-null   float64\n",
      " 21  o1       3372 non-null   float64\n",
      " 22  h1       3372 non-null   float64\n",
      " 23  l1       3372 non-null   float64\n",
      " 24  c1       3372 non-null   float64\n",
      " 25  v1       3372 non-null   float64\n",
      " 26  o0       3372 non-null   float64\n",
      " 27  h0       3372 non-null   float64\n",
      " 28  l0       3372 non-null   float64\n",
      " 29  c0       3372 non-null   float64\n",
      " 30  v0       3372 non-null   float64\n",
      " 31  CODiff0  3372 non-null   float64\n",
      " 32  CODiff1  3372 non-null   float64\n",
      "dtypes: float64(27), int64(5), object(1)\n",
      "memory usage: 869.5+ KB\n"
     ]
    }
   ],
   "source": [
    "# 過去N日間のデータを扱えるようにする\n",
    "lastN = 5\n",
    "\n",
    "# 元のデータを最も古い日（＝N日前）として扱う\n",
    "df = df_raw.rename(\n",
    "    columns={'日付': 'date', '始値': f'o{lastN}', '高値': f'h{lastN}', '安値': f'l{lastN}', '終値': f'c{lastN}', '出来高': f'v{lastN}'}\n",
    ")\n",
    "\n",
    "for i in reversed(range(lastN)):\n",
    "    inc = lastN - i\n",
    "    df[f'o{i}'] = df[f'o{lastN}'][inc:].append(pd.Series([np.nan]*inc)).reset_index(drop=True)\n",
    "    df[f'h{i}'] = df[f'h{lastN}'][inc:].append(pd.Series([np.nan]*inc)).reset_index(drop=True)\n",
    "    df[f'l{i}'] = df[f'l{lastN}'][inc:].append(pd.Series([np.nan]*inc)).reset_index(drop=True)\n",
    "    df[f'c{i}'] = df[f'c{lastN}'][inc:].append(pd.Series([np.nan]*inc)).reset_index(drop=True)\n",
    "    df[f'v{i}'] = df[f'v{lastN}'][inc:].append(pd.Series([np.nan]*inc)).reset_index(drop=True)\n",
    "\n",
    "# 日付がN日分ずれているので補正\n",
    "df['date'] = df['date'][lastN:].append(pd.Series(['-']*lastN)).reset_index(drop=True)\n",
    "\n",
    "# 過去N日分のデータを使うため、最後のN日間のデータは欠損値が発生する\n",
    "#（上記の処理でとりあえずnp.nanと'-'で埋めている）\n",
    "# したがって最後のN日間のデータを削除\n",
    "df = df[:-lastN]\n",
    "\n",
    "# 当日と1日前が上昇だったか下降だったかを見るので（終値 - 始値）を計算しておく\n",
    "df['CODiff0'] = df['c0'] - df['o0']\n",
    "df['CODiff1'] = df['c1'] - df['o1']\n",
    "\n",
    "df.info()"
   ]
  },
  {
   "cell_type": "markdown",
   "metadata": {},
   "source": [
    "# 過去N日間の安値を下回ってから上げて引けたとき、その次の日に上昇するか\n",
    "- この分析は、過去N－１日間までしかできない。なぜなら最後に**翌日**の値動きを観察するから\n",
    "\n",
    "### 結果\n",
    "\n",
    "#### 過去3日間\n",
    "- 過去3日間の安値より安い安値の日の発生確率は28.3%\n",
    "- 過去3日間の安値より安い安値の日に上げて引けた日の発生確率は7.7%\n",
    "- 過去3日間の安値より安い安値の日に上げて引けた時、その翌日に上昇する確率は47.9%\n",
    "- 過去3日間の安値より安い安値の日に上げて引けてかつその前日の高値より高い高値だった（アウトサイドデイ）時、その翌日に上昇する確率は44.6%\n",
    "\n",
    "#### 過去4日間\n",
    "- 過去4日間の安値より安い安値の日の発生確率は24.6%（データ期間中222日）\n",
    "- 過去4日間の安値より安い安値の日に上げて引けた日の発生確率は6.6%\n",
    "- 過去4日間の安値より安い安値の日に上げて引けた時、その翌日に上昇する確率は47.3%\n",
    "- 過去4日間の安値より安い安値の日に上げて引けてかつその前日の高値より高い高値だった（アウトサイドデイ）時、その翌日に上昇する確率は43.2%\n",
    "\n",
    "#### まとめ\n",
    "- さすがに最後の条件などは上昇確率がある程度高いかと思ったけどむしろ低かった。計算に誤りがあることも疑ってしまうが、いずれにしてもこのように闇雲に上昇セットアップを探すやり方はどう考えても非効率だ。\n",
    "- そろそろ機械学習に手を出すか。というか、まずはいろんな指標を片っ端からDFに突っ込んでseaborn.pairplot()をするなどして相関を見てみればよいと思う。それで強い相関が見いだせればよいけど、あまりで無さそうだったら、機械学習に進んだほうが良いかもしれない。ランダムフォレストを使えば各特徴量の寄与度が分かりやすいから、単に強い寄与をする特徴量を探すためだけにやるというのもありだろう。"
   ]
  },
  {
   "cell_type": "code",
   "execution_count": 13,
   "metadata": {},
   "outputs": [],
   "source": [
    "# 過去N日間の安値\n",
    "nDays = 3 # 指定できるのは (lastN - 1) まで\n",
    "\n",
    "df[f'low{nDays}'] = df[[f'l{i}' for i in range(2, nDays+2)]].min(axis=1)"
   ]
  },
  {
   "cell_type": "code",
   "execution_count": 14,
   "metadata": {},
   "outputs": [
    {
     "name": "stdout",
     "output_type": "stream",
     "text": [
      "<class 'pandas.core.frame.DataFrame'>\n",
      "Int64Index: 953 entries, 10 to 3366\n",
      "Data columns (total 35 columns):\n",
      " #   Column   Non-Null Count  Dtype  \n",
      "---  ------   --------------  -----  \n",
      " 0   date     953 non-null    object \n",
      " 1   o5       953 non-null    int64  \n",
      " 2   h5       953 non-null    int64  \n",
      " 3   l5       953 non-null    int64  \n",
      " 4   c5       953 non-null    int64  \n",
      " 5   v5       953 non-null    int64  \n",
      " 6   o4       953 non-null    float64\n",
      " 7   h4       953 non-null    float64\n",
      " 8   l4       953 non-null    float64\n",
      " 9   c4       953 non-null    float64\n",
      " 10  v4       953 non-null    float64\n",
      " 11  o3       953 non-null    float64\n",
      " 12  h3       953 non-null    float64\n",
      " 13  l3       953 non-null    float64\n",
      " 14  c3       953 non-null    float64\n",
      " 15  v3       953 non-null    float64\n",
      " 16  o2       953 non-null    float64\n",
      " 17  h2       953 non-null    float64\n",
      " 18  l2       953 non-null    float64\n",
      " 19  c2       953 non-null    float64\n",
      " 20  v2       953 non-null    float64\n",
      " 21  o1       953 non-null    float64\n",
      " 22  h1       953 non-null    float64\n",
      " 23  l1       953 non-null    float64\n",
      " 24  c1       953 non-null    float64\n",
      " 25  v1       953 non-null    float64\n",
      " 26  o0       953 non-null    float64\n",
      " 27  h0       953 non-null    float64\n",
      " 28  l0       953 non-null    float64\n",
      " 29  c0       953 non-null    float64\n",
      " 30  v0       953 non-null    float64\n",
      " 31  CODiff0  953 non-null    float64\n",
      " 32  CODiff1  953 non-null    float64\n",
      " 33  low4     953 non-null    float64\n",
      " 34  low3     953 non-null    float64\n",
      "dtypes: float64(29), int64(5), object(1)\n",
      "memory usage: 268.0+ KB\n",
      "全日数：3372、過去3日間の安値より低い安値の日：953\n",
      "p(過去3日間の安値より低い安値の日) = 28.3%\n"
     ]
    }
   ],
   "source": [
    "# 過去N日間の安値より低い安値の日\n",
    "df_low = df[df['l1'] < df[f'low{nDays}']]\n",
    "df_low.info()\n",
    "print(f'全日数：{df.shape[0]}、過去{nDays}日間の安値より低い安値の日：{df_low.shape[0]}')\n",
    "print(f'p(過去{nDays}日間の安値より低い安値の日) = {100 * df_low.shape[0] / df.shape[0]:.1f}%')"
   ]
  },
  {
   "cell_type": "code",
   "execution_count": 15,
   "metadata": {},
   "outputs": [
    {
     "name": "stdout",
     "output_type": "stream",
     "text": [
      "過去3日間の安値より安い安値の日に上げて引けた日数：259\n",
      "p(過去3日間の安値より安い安値の日に上げて引けた日) = 7.7%\n"
     ]
    }
   ],
   "source": [
    "# 過去N日間の安値より安い安値の日に、上げて引けた日\n",
    "df_low_up = df_low[df_low['CODiff1'] > 0]\n",
    "print(f'過去{nDays}日間の安値より安い安値の日に上げて引けた日数：{df_low_up.shape[0]}')\n",
    "print(f'p(過去{nDays}日間の安値より安い安値の日に上げて引けた日) = {100*df_low_up.shape[0]/df.shape[0]:.1f}%')"
   ]
  },
  {
   "cell_type": "code",
   "execution_count": 16,
   "metadata": {},
   "outputs": [
    {
     "name": "stdout",
     "output_type": "stream",
     "text": [
      "過去3日間の安値より安い安値の日に上げて引けた日数：259\n",
      "その翌日に上げて引けた日数：124\n",
      "p(翌日上昇|前日上昇) = 47.9%\n"
     ]
    }
   ],
   "source": [
    "# 過去N日間の安値より安い安値の日に上げて引けた場合、その翌日は上昇するか\n",
    "df_low_upx2 = df_low_up[df_low_up['CODiff0'] > 0]\n",
    "print(f'過去{nDays}日間の安値より安い安値の日に上げて引けた日数：{df_low_up.shape[0]}')\n",
    "print(f'その翌日に上げて引けた日数：{df_low_upx2.shape[0]}')\n",
    "print(f'p(翌日上昇|前日上昇) = {100 * df_low_upx2.shape[0] / df_low_up.shape[0]:.1f}%')"
   ]
  },
  {
   "cell_type": "code",
   "execution_count": 17,
   "metadata": {},
   "outputs": [
    {
     "name": "stdout",
     "output_type": "stream",
     "text": [
      "過去3日間の安値より安い安値の日に上げて引けてかつ前日より高い高値だった日数：56\n",
      "その翌日に上げて引けた日数：25\n",
      "p(翌日上昇|前日上昇) = 44.6%\n"
     ]
    }
   ],
   "source": [
    "# 過去N日間の安値より安い安値の日に上げて引けてかつ前日の高値より高い高値となった場合、その翌日は上昇するか\n",
    "df_low_up_h = df_low_up[df_low_up['h1'] > df_low_up['h2']]\n",
    "df_low_up_h_up = df_low_up_h_up = df_low_up_h[df_low_up_h['CODiff0'] > 0]\n",
    "print(f'過去{nDays}日間の安値より安い安値の日に上げて引けてかつ前日より高い高値だった日数：{df_low_up_h.shape[0]}')\n",
    "print(f'その翌日に上げて引けた日数：{df_low_up_h_up.shape[0]}')\n",
    "print(f'p(翌日上昇|前日上昇) = {100 * df_low_up_h_up.shape[0] / df_low_up_h.shape[0]:.1f}%')"
   ]
  },
  {
   "cell_type": "code",
   "execution_count": null,
   "metadata": {},
   "outputs": [],
   "source": []
  }
 ],
 "metadata": {
  "kernelspec": {
   "display_name": "Python 3",
   "language": "python",
   "name": "python3"
  },
  "language_info": {
   "codemirror_mode": {
    "name": "ipython",
    "version": 3
   },
   "file_extension": ".py",
   "mimetype": "text/x-python",
   "name": "python",
   "nbconvert_exporter": "python",
   "pygments_lexer": "ipython3",
   "version": "3.8.2"
  }
 },
 "nbformat": 4,
 "nbformat_minor": 4
}
